{
 "cells": [
  {
   "cell_type": "markdown",
   "metadata": {},
   "source": [
    "# Machine Learning - 1<sup>st</sup> Assignment\n",
    "\n",
    "## Student: Sheedeh Sharif Bakhtiar\n",
    "### Student ID: 400422108"
   ]
  },
  {
   "cell_type": "markdown",
   "metadata": {
    "id": "eeJGl3aNmswH"
   },
   "source": [
    "# **Exercise 1:**\n",
    "\n",
    "\n",
    "\n",
    "\n",
    "\n",
    "\n"
   ]
  },
  {
   "cell_type": "markdown",
   "metadata": {
    "id": "N8rVB87MJBOh"
   },
   "source": [
    "\n",
    "## *Can gradient descent get stuck in a local minimum when training a logistic regression model? Why?*\n",
    "\n",
    "\n",
    "Intuitively, gradient descent works by slowly stepping towards the minima of a loss function through clever use of derivation. With each training epoch, we calculate the slope of our loss function to find the closest minima and we slowly step in the direction of said minima in order to minimize our cost function as much as possible.\n",
    "\n",
    "The size of these steps is dictated by the *learning rate*. For instance, for a linear regression model with the form:\n",
    "\n",
    "$$\n",
    "pred = θx + β\n",
    "$$\n",
    "\n",
    "Where $pred$ is our model prediction, $β$ is our intercept, $x$ is our input, and $θ$ is a learned vector representing the coefficients for each element in our input. If we assume Mean Squared Error (MSE) to be our cost function, such that:\n",
    "\n",
    "$$\n",
    "MSE = (pred - y)^2\n",
    "$$\n",
    "\n",
    "Where $y$ is our label. The function we'll be doing for parameter update during gradient descent is as such:\n",
    "\n",
    "$$\n",
    "θ = θ - \\frac{\\alpha}{n}∑^{n}_{i=1}[(pred_i - y_i)x_i]\n",
    "$$\n",
    "\n",
    "(For proof of the formula above, see [Wikipedia's article on Gradient Descent](https://en.wikipedia.org/wiki/Gradient_descent))\n",
    "\n",
    "Where α is our learning rate, which controls how much we should shift the value of our parameters θ during each epoch. The larger the learning rate is, the more the error for the current epoch will affect the parameters.\n",
    "\n",
    "It is crucial that we adjust our learning rate accordingly, as should the learning rate be too large, we may overshoot past the global minima time and time again, unable to settle in an area where our cost function is sufficiently low.\n",
    "\n",
    "However, this does not mean that we can set the learning rate to an arbitrarily small number and leave the model to run for many epochs. Save for the concerns regarding computational complexity and the time required to properly train the model, during gradient descent we may get caught in a local minima, similar to the graph illustrated by the image below;\n",
    "\n",
    "\n"
   ]
  },
  {
   "cell_type": "markdown",
   "metadata": {
    "id": "FvKLuWYMHQFB"
   },
   "source": [
    "![learningRate.png](data:image/png;base64,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)"
   ]
  },
  {
   "cell_type": "markdown",
   "metadata": {
    "id": "QHp8yLQ5HHiy"
   },
   "source": [
    "([Image Source](https://towardsdatascience.com/learning-rate-scheduler-d8a55747dd90))\n",
    "\n",
    "Additionally, there is the issue of \"hills\" that may be in our error function that may lay between our current point on the parameter space and the global minima that we *won't* overcome, due to the fact that \"vanilla\" gradient descent is a greedy algorithm, and we usually opt to step in the best direction at every training epoch.\n",
    "\n",
    "Solutions include [simulated annealing](https://en.wikipedia.org/wiki/Simulated_annealing) algorithms that dynamically adjust the learning rate during training."
   ]
  },
  {
   "cell_type": "markdown",
   "metadata": {
    "id": "I39cVFh8pm7u"
   },
   "source": [
    "# **Exercise 2:** \n",
    "\n"
   ]
  },
  {
   "cell_type": "markdown",
   "metadata": {
    "id": "cRqpwruoJFRR"
   },
   "source": [
    "## *Suppose you are using polynomial regression. You plot the learning curves and you notice that there is a large gap between the training error and the validation error. What is happening? What are three ways to solve this?*\n",
    "\n",
    "\n",
    "A validation set is a subset of our training data that we choose to hold back during the error correction phase (e.g. actually computing the cost function and learning from our mistakes) in order to have a relatively unbiased evaluation of how well our model is doing during training and is a useful metric in noticing issues early on. This is different from the test set which we use to evaluate our model *after* training.\n",
    "\n",
    "During training, we make use of a validation set to gauge our models' performance. This is done to prevent overfitting and to make sure our model is generalizing properly and is truly learning rather than simply \"memorizing\" individual data points.\n",
    "\n",
    "While a gap in error regarding model performance on training data and our validation set is quite normal and expected (in fact, should the training error and validation error be *identical*, more likely than not, something has gone awfully wrong), a large gap in our training and validation error could be indicative of a more serious issue that might cause serious problems after training.\n",
    "\n",
    "\n",
    "### **Validation Error >>> Training Error**\n",
    "\n",
    "The most common reason for a large gap between validation and training error where the validation error is significantly larger than the training error (rather than the other way around) is *overfitting*.\n",
    "\n",
    "> Overfitting occurs when the model begins to \"overlearn\" regarding the training data; in other words, it learns the detail and noise of the training set to an extent that it is no longer able to properly generalize and perform well on the test dataset. This is more prone to happen when the model has high variance for the task at hand. ([Relevant Wikipedia article](https://en.wikipedia.org/wiki/Overfitting))\n",
    "\n",
    "By nature, validation sets are held out during the training phase and are not used when adjusting model parameters. During training, should we notice that our validation error is *increasing* while our training error is *decreasing*, we can draw the conclusion that our model is beginning to overfit e.g. learning the training dataset *too* well and is slowly losing the ability to generalize over *all* possible data, and we can stop training (otherwise known as [early stopping](https://en.wikipedia.org/wiki/Early_stopping))\n",
    "\n",
    "\n",
    "\n",
    "### **Training Error >>> Validation Error**\n",
    "\n",
    "While this specific issue may seem counter-intuitive and impossible, it is very much possible. At first glance, it may be a bit strange as to how our model is able to generalize *better* on the validation set that had been held out during training compared to the dataset that was *actually* used during training. \n",
    "\n",
    "#### *Validation loss is lower than training loss, but the difference between these two losses shrinks over time:*\n",
    "\n",
    "A plausible reason for this gap may be any regularization we might be using (e.g. L1 or L2 regularization). Very simply put, regularization methods penalize our model for extra complexity, in an attempt to prevent overfitting.\n",
    "\n",
    "By nature, regularization adds extra terms to the error function, thus somewhat artificially inflating our cost function. This could cause a discrepancy between the training error and validation error, since the validation error only comprises prediction error and does not have an extra term for regularization, as opposed to the training error which would consist of both prediction error and regularization.\n",
    "\n",
    "However, this gap between the training and validation error should decrease over time, given that the model will slowly learn while keeping complexity low, thus decreasing the regularization term that artificially inflated the training error and thus caused such a discrepancy between the validation and training error.\n",
    "\n",
    "Should this issue occur, there are a number of solutions we could employ in order to keep our model from overfitting, such as:\n",
    "\n",
    "- Decreasing our model's variance — in other words, decreasing our model's complexity. In neural networks, this could mean that we decrease the number of layers, or in random forest, the number of trees we have, or the number of splits each tree might have.\n",
    "- If we're employing a neural network model, using dropout to force the model to use less neurons\n",
    "- Similarly, L1 and L2 regularization to penalize the model's complexity might be effective. \n",
    "- Adding more data for training if possible. If not, [data augmentation](https://www.datacamp.com/tutorial/complete-guide-data-augmentation) may be effective here.\n",
    "\n",
    "\n",
    "#### *Validation loss is lower than the training loss, but the difference stays the same over time:*\n",
    "\n",
    "Should this be the case, the reason behind this difference may lie in the use of *dropout*, a common mechanism used while training neural networks.\n",
    "\n",
    "> Dropout works by randomly setting a certain percantage of neurons to 0, effectively forcing the model to learn without these extra neurons.\n",
    "\n",
    "Similar to regularization, dropout is only used during training, and may cause the model to perform significantly worse during the training phase compared to the validation phase, given that during validation dropout will *not* be employed, and we'll be using all the neurons in our model.\n",
    "\n",
    "\n",
    "\n",
    "*Sources:*\n",
    "- [Data Science StackExchange: Is it bad to have a large gap between training loss and validation loss?](https://datascience.stackexchange.com/questions/44578/is-it-bad-to-have-a-large-gap-between-training-loss-and-validation-loss)\n",
    "- [Medium: Your validation loss is lower than your training loss? This is why!](https://towardsdatascience.com/what-your-validation-loss-is-lower-than-your-training-loss-this-is-why-5e92e0b1747e)\n",
    "- [Baeldung: Training and Validation Loss in Deep Learning](https://www.baeldung.com/cs/training-validation-loss-deep-learning#:~:text=At%20times%2C%20the%20validation%20loss,and%20hence%20generates%20large%20errors.)\n",
    "- [Machine Learning Mastery: What is the Difference Between Test and Validation Datasets?](https://machinelearningmastery.com/difference-test-validation-datasets/)\n",
    "- [Data Science StackExchange: Validation loss much higher than training loss](https://datascience.stackexchange.com/questions/65471/validation-loss-much-higher-than-training-loss)"
   ]
  },
  {
   "cell_type": "markdown",
   "metadata": {
    "id": "vBTDmB_5nNHv"
   },
   "source": [
    "# **Exercise 3:**"
   ]
  },
  {
   "cell_type": "markdown",
   "metadata": {
    "id": "acYpgmL8nPGX"
   },
   "source": [
    "## *Suppose you are using ridge regression and you notice that the training error and the validation error are almost equal and fairly high. Would you say that the model suffers from high bias or high variance? Should you increase the regularization hyperparameter $α$ or reduce it?*\n",
    "\n",
    "First, let's talk about the bias-variance trade-off.\n",
    "\n",
    "> The bias–variance tradeoff is the property of a model that the variance of the parameter estimated across samples can be reduced by increasing the bias in the estimated parameters. [Source: Wikipedia](https://en.wikipedia.org/wiki/Bias%E2%80%93variance_tradeoff)\n",
    "\n",
    "In other words, the higher the bias, the more our model will be able to generalize, but the less flexible it is, thus potentially unable to capture any hidden nuances in the data, and the higher the variance, the more flexible it is and the more sensitive the model would be to hidden details, but much more prone to overfitting; memorizing the training data in favor of finding an abstract pattern in the data. \n",
    "\n",
    "In an attempt to combat this issue, we introduce regularization to find a \"happy middle\" between bias and variance for our specific problem. \n",
    "\n",
    "With regularization, we add an extra term to our cost function that penalizes the complexity of our model. In other words, we penalize the model for any extra variance it might have, urging the model to look for simpler solutions without sacrificing (too much) accuracy. Regularization methods can also be useful in decoupling coefficients that might be very highly correlated with one another, in order to help the model better generalize.\n",
    "\n",
    "One such method of regularization would be using an L2 regularization penalty, which is equal to the square of the magnitude of coefficients. \n",
    "\n",
    "[Ridge regression](https://en.wikipedia.org/wiki/Ridge_regression) is in turn a regression model trained with an L2 regularization term. Assuming our loss function is mean squared error (MSE), our cost function with L2 regularization would be:\n",
    "\n",
    "$$\n",
    "cost = ∑^{N}_{i=0}(y_i - ∑^M_{j=0}x_{ij}W_j)^2 + α∑^{M}_{j=0}W_j^2\n",
    "$$\n",
    "\n",
    "Where $y$ and $x$ are our labels and our inputs respectively, $W$ are coefficients we're attempting to keep small and decoupled in an attempt to prevent overfitting. The second term in the cost function above correlates to the L2 regularization term. \n",
    "\n",
    "$\\alpha$ dictates how much we wish to factor this penalty term into our cost function. The higher $\\alpha$ is, the more the model is penalized for its *variance*.\n",
    "\n",
    "(Of course, we're free to replace the loss function above with another loss function of our choice — the main point of interest here is the regularization term $α∑^{M}_{j=0}W_j$)\n",
    "\n",
    "Reasons behind any large gaps between training and validation loss were discussed in the previous section, but the problem statement specifies that the model's training and validation loss are almost equal, and fairly high. This would indicate that the model is unable to learn due to high bias. \n",
    "\n",
    "- Again, as per the previous question, if the training error was much less than the validation error, we could assume that overfitting is the issue here.\n",
    "\n",
    "**Therefore, I would recommend decreasing the regularization hyperparameter α to increase model variance.**\n",
    "\n",
    "An incredibly important thing to note here is that the issue might not be the regularization term at all, and may lie in another hyperparameter, such as the learning rate, or in the data itself, should the data be particularly noisy."
   ]
  },
  {
   "cell_type": "markdown",
   "metadata": {
    "id": "ehcQUMLBxyup"
   },
   "source": [
    "# **Exercise 4:**"
   ]
  },
  {
   "cell_type": "markdown",
   "metadata": {
    "id": "IqcUH2SYx1QA"
   },
   "source": [
    "## *Why would you want to use:*\n",
    "### - *Ridge regression instead of plain linear regression (i.e., without any regularization)?*\n",
    "### - *Lasso instead of ridge regression?*\n",
    "### - *Elastic net instead of lasso regression?*\n",
    "\n",
    "\n",
    "Similar to the previous question, this question tackles the topic of regularization in regression models. Before I answer each question individually, I'll be giving a brief overview on *ridge regression*, *lasso regression* and *elastic net regression*.\n",
    "\n",
    "#### **Ridge Regression**\n",
    "\n",
    "In the previous question, I gave a definition for **L2 penalty term** that was added to the end of a model's cost function in an attempt to decouple highly correlated independent variables, with said penalty term being the squared sum of coefficients;\n",
    "\n",
    "$$\n",
    "α∑^M_{j=0}W_j^2\n",
    "$$\n",
    "\n",
    "Where $m$ is the number of training samples in our batch, $W$ being the regression model's coefficients and $\\alpha$ dictates how much of an effect our penalty term will have in our cost function.\n",
    "\n",
    "> A regression model that utilizes the L2 penalty term is called **ridge regression**.\n",
    "\n",
    "\n",
    "One thing to note here is that ridge regression is incredibly sensitive to the scale of the predictors, therefore, it's incredibly important to scale before feeding our input to our model so that all predictors can be on the same scale.\n",
    "\n",
    "Ridge regression also performs well compared to \"vanilla\" linear regression when we have many parameters compared to the number of observations.\n",
    "\n",
    "Ridge regression also performs very well when the target outcome is a function of many features, rather than just relying on a small number of predictors. \n",
    "\n",
    "However, a disadvantage this model has is that it will include all the predictors in the final model, in comparison to other methods that cherry-pick the predictors it needs. While ridge regression may shrink some coefficients to zero, none of them will be set exactly to zero. So, if we have a very, very large number of features, ridge regression might not be the best choice.\n",
    "\n",
    "#### **Lasso Regression**\n",
    "\n",
    "However, there is an **L1 penalty term** as well, which is almost identical to the L2 penalty term with the difference being that instead of calculating the sum of squared coefficients, we simply calculate the absolute sum of coefficients;\n",
    "\n",
    "$$\n",
    "α∑^M_{j=0}W_j\n",
    "$$\n",
    "\n",
    "> A regression model that utilizes the L1 penalty term is called **lasso regression**.\n",
    "\n",
    "Lasso regression shrinks less important features to zero, removing them altogether. This could be incredibly useful when we have a very large number of features and wish to remove the unimportant ones.\n",
    "\n",
    "#### **Elastic Net Regression**\n",
    "\n",
    "Lastly, there is **elastic net regularization**, which linearly combines L1 and L2 penalties in a single cost function, as seen in the following formula;\n",
    "\n",
    "$$\n",
    "cost = ∑^{N}_{i=0}(y_i - ∑^M_{j=0}x_{ij}W_j)^2 + α_1∑^M_{j=0}W_j + α_2∑^{M}_{j=0}W_j^2\n",
    "$$\n",
    "\n",
    "Where $\\alpha_1$ dictates how much of an effect the L1 penalty term has, and $\\alpha_2$ dictates how much of an effect the L2 penalty term has.\n",
    "\n",
    "Elastic net regression combines the advantages of both lasso and ridge regression, as it effectively shrinks some coefficients to zero (like in lasso) while also learning to make use of different coefficients together (like in ridge).\n",
    "\n",
    "In practice, we'll be wanting to use elastic net over ridge or lasso on their own, as with the two of them together, we're able to capitalize on both their strengths' while side-stepping some issues they may have.\n",
    "\n",
    "\n",
    "#### So, in summary, to answer Exercise 4's questions:\n",
    "\n",
    "- *Ridge regression instead of plain linear regression (i.e., without any regularization)?*\n",
    "\n",
    "As I've mentioned multiple times by now, regularization by itself (and not just ridge regression) can prevent overfitting and help with generalization. \n",
    "\n",
    "In the case of ridge regression, decouple highly correlated independent variable in an attempt to force the model to utilize all the information available to it, and not just several \"stronger\" variables.\n",
    "\n",
    "- *Lasso instead of ridge regression?*\n",
    "\n",
    "There are a couple potential reasons why we might prefer lasso to ridge regression;\n",
    "\n",
    "For one, lasso regression also doubles as a sort of \"feature selector\" as it has a tendency to drive parameters to zero (as I've previously mentioned). Secondly, ridge regression is very sensitive to scaling (at least compared to lasso regression) therefore, should we be unable to scale our data for whatever reason (e.g. it's hard to do proper scaling during training without being at risk of data leakage), lasso may be the better choice for our specific task.\n",
    "\n",
    "Another advantage lasso regression has over ridge regression is interpretability, given how lasso regression uses a lower amount of coefficients in the model.\n",
    "\n",
    "Generally, lasso might perform better when some predictors have relatively high coefficients and the remaining predictors have coefficients that are close to zero.\n",
    "\n",
    "\n",
    "- *Elastic net instead of lasso regression?*\n",
    "\n",
    "As I've mentioned earlier, elastic net regression combines the advantages of both lasso and ridge regression by incorporating the both of them in the cost function. Elastic net not only drives \"useless\" coefficients to zero like lasso does, but also learns to utilize all the remaining coefficients *together* like ridge regression does.\n",
    "\n",
    "\n",
    "*Sources:*\n",
    "- [Towards Data Science: L1 and L2 Regularization Methods](https://towardsdatascience.com/l1-and-l2-regularization-methods-ce25e7fc831c)\n",
    "- [Statistics How To: Regularization: Simple Definition, L1 & L2 Penalties](https://www.statisticshowto.com/regularization/#:~:text=L2%20regularization%20adds%20an%20L2,and%20SVMs%20use%20this%20method.)\n",
    "- [Wikipedia: Elastic net regularization](https://en.wikipedia.org/wiki/Elastic_net_regularization)\n",
    "- [Machine Learning Compass: Elastic Net Regression Explained, Step by Step](https://machinelearningcompass.com/machine_learning_models/elastic_net_regression/)\n",
    "- [STHDA: Penalized Regression Essentials: Ridge, Lasso & Elastic Net](http://www.sthda.com/english/articles/37-model-selection-essentials-in-r/153-penalized-regression-essentials-ridge-lasso-elastic-net/)\n",
    "- [Towards Data Science: Ridge, LASSO, and ElasticNet Regression](https://towardsdatascience.com/ridge-lasso-and-elasticnet-regression-b1f9c00ea3a3)"
   ]
  },
  {
   "cell_type": "markdown",
   "metadata": {
    "id": "0f0FlcoerlEu"
   },
   "source": [
    "# **Exercise 5:**"
   ]
  },
  {
   "cell_type": "markdown",
   "metadata": {
    "id": "IuaQB_7xrW6Y"
   },
   "source": [
    "## *Implement Linear Regression with Mean Absolute Error as the cost function from scratch. Compare your results with the Linear Regression module of Scikit-Learn.*\n",
    "\n",
    "Linear regression is arguably the simplest machine learning regression model where we attempt to learn the coefficients of a polynomial such that our polynomial best fits our data. \n",
    "\n",
    "Our model has the form:\n",
    "\n",
    "$$\n",
    "pred_i = θx_i + \\alpha\n",
    "$$\n",
    "\n",
    "Where $x$ is our model's input (e.g. our observation), $\\theta$ is our model's coefficient that we aim to learn during training, and $\\alpha$ is our intercept (assuming that our data is not centered, $\\alpha \\neq 0$), otherwise known as bias — something that we also learn during training.\n",
    "\n",
    "As per problem specification, our cost function is [mean absolute error (MAE)](https://en.wikipedia.org/wiki/Mean_absolute_error), which is calculated as the sum of absolute errors divided by sample size, as shown before;\n",
    "\n",
    "$$\n",
    "MAE = \\frac{∑^{n}_{i=1}|y_i - pred_i|}{n}\n",
    "$$\n",
    "\n",
    "We'll be using this function during training in order to gauge how far off we are from the actual labels (e.g. the truth). \n",
    "\n",
    "We're looking to adjust the parameters $\\theta$ such that;\n",
    "\n",
    "$$\n",
    "minimize \\frac{1}{n}∑^{n}_{i=1}(pred_i - y_i)^2\n",
    "$$\n",
    "\n",
    "To do that, we'll be using [gradient descent](https://en.wikipedia.org/wiki/Gradient_descent) for parameter update, in which we use the chain rule to calculate the partial derivative of the error function;\n",
    "\n",
    "$$\n",
    "\\frac{∂MAE}{∂pred} = \\Biggl\\{{1 ~~~~ if (pred > y)\\\\ {-1} ~~~~ if ~ (y < pred)}\n",
    "$$\n",
    "\n",
    "Which we'll be using for parameter update;\n",
    "\n",
    "$$\n",
    "θ_j = θ_j - \\frac{\\lambda}{n}∑^{n}_{i=1}[(\\frac{∂MAE}{∂pred})x_i]\n",
    "$$\n",
    "\n",
    "Where $\\lambda$ is our learning rate that'll dictate how big each \"step\" should be — in other words, how much we'll be adjusting our parameters at each epoch.\n",
    "\n",
    "However, gradient descent requires the error function to be differentiable across the entire sample space, and unfortunately for $y_i = pred_i$ this is not the case. However, for the purposes of this code demo, we'll assume $\\frac{∂MAE}{∂pred}$ to be $1$ in the *highly* unlikely case that $pred = y$.\n",
    "\n",
    "In the next few sections, we'll be focusing on the implementation of this specific model.\n",
    "\n",
    "### Setup and Loading the Data\n",
    "\n",
    "First, we'll import the libraries we need, namely `Numpy` and `Pandas`, both incredibly popular python modules commonly used in machine learning tasks. [Numpy](https://numpy.org/) is used for number and matrix operations, and [Pandas](https://pandas.pydata.org/) is used for handling large amounts of data, as data used for training machine learning models tends to be quite large.\n",
    "\n",
    "Secondly, we'll set a `random_seed` that we'll be using in functions that have randomness (as we'll see later) for reproducibility."
   ]
  },
  {
   "cell_type": "code",
   "execution_count": 247,
   "metadata": {
    "id": "hbgIUL9NXx0s"
   },
   "outputs": [],
   "source": [
    "# Import relevant libraries\n",
    "import numpy as np\n",
    "import pandas as pd\n",
    "\n",
    "\n",
    "# Set random seed.\n",
    "rand_seed = 7"
   ]
  },
  {
   "cell_type": "markdown",
   "metadata": {
    "id": "d_Vecl-QVLg7"
   },
   "source": [
    "As mentioned in the telegram group, the dataset we'll be using is the [Diabetes dataset](https://www.kaggle.com/datasets/mathchi/diabetes-data-set). Thankfully, [SciKit Learn](https://scikit-learn.org/) — an incredibly popular machine learning python module has the dataset already downloaded and ready to use, so using the [`sklearn.datasets.load_diabetes`](https://scikit-learn.org/stable/modules/generated/sklearn.datasets.load_diabetes.html) function, we'll load the dataset.\n",
    "\n",
    "Calling this function returns the data back to us. This function has 3 parameters that specifies _how_ the data should be given;\n",
    "- `return_X_y`: What format the data should be in. If `True`, the data is passed as a `(data, target)` tuple instead of a [`Bunch`](https://scikit-learn.org/stable/modules/generated/sklearn.utils.Bunch.html) object. This parameter defaults to `False`, but I personally prefer the tuple object, so I'll be setting this parameter to `True.`\n",
    "- `as_frame`: If `True`, the data returned by the `load_diabetes` function will be a [`pandas.DataFrame`](https://pandas.pydata.org/docs/reference/api/pandas.DataFrame.html). While this parameter also defaults to `False`, I again prefer to work with a DataFrame, so I'll be manually setting this parameter to `True`. If `return_X_y` is also True, then the returned `(data, terget)` will be a pandas DataFrame.\n",
    "- `scaled`: Defaults to `True`, and as the name suggests, the feature variables are mean centered and scaled by the standard deviation times the square root of the number of samples. This is preferred, so we'll leave this parameter be."
   ]
  },
  {
   "cell_type": "code",
   "execution_count": 2,
   "metadata": {
    "colab": {
     "base_uri": "https://localhost:8080/",
     "height": 206
    },
    "id": "_jq-v_4kUcL6",
    "outputId": "26cada06-743e-4439-8fed-6828dd83b6a0"
   },
   "outputs": [
    {
     "data": {
      "text/html": [
       "\n",
       "  <div id=\"df-82e3293a-4d56-41c4-8db8-3a4aeace3e30\">\n",
       "    <div class=\"colab-df-container\">\n",
       "      <div>\n",
       "<style scoped>\n",
       "    .dataframe tbody tr th:only-of-type {\n",
       "        vertical-align: middle;\n",
       "    }\n",
       "\n",
       "    .dataframe tbody tr th {\n",
       "        vertical-align: top;\n",
       "    }\n",
       "\n",
       "    .dataframe thead th {\n",
       "        text-align: right;\n",
       "    }\n",
       "</style>\n",
       "<table border=\"1\" class=\"dataframe\">\n",
       "  <thead>\n",
       "    <tr style=\"text-align: right;\">\n",
       "      <th></th>\n",
       "      <th>age</th>\n",
       "      <th>sex</th>\n",
       "      <th>bmi</th>\n",
       "      <th>bp</th>\n",
       "      <th>s1</th>\n",
       "      <th>s2</th>\n",
       "      <th>s3</th>\n",
       "      <th>s4</th>\n",
       "      <th>s5</th>\n",
       "      <th>s6</th>\n",
       "    </tr>\n",
       "  </thead>\n",
       "  <tbody>\n",
       "    <tr>\n",
       "      <th>0</th>\n",
       "      <td>0.038076</td>\n",
       "      <td>0.050680</td>\n",
       "      <td>0.061696</td>\n",
       "      <td>0.021872</td>\n",
       "      <td>-0.044223</td>\n",
       "      <td>-0.034821</td>\n",
       "      <td>-0.043401</td>\n",
       "      <td>-0.002592</td>\n",
       "      <td>0.019907</td>\n",
       "      <td>-0.017646</td>\n",
       "    </tr>\n",
       "    <tr>\n",
       "      <th>1</th>\n",
       "      <td>-0.001882</td>\n",
       "      <td>-0.044642</td>\n",
       "      <td>-0.051474</td>\n",
       "      <td>-0.026328</td>\n",
       "      <td>-0.008449</td>\n",
       "      <td>-0.019163</td>\n",
       "      <td>0.074412</td>\n",
       "      <td>-0.039493</td>\n",
       "      <td>-0.068332</td>\n",
       "      <td>-0.092204</td>\n",
       "    </tr>\n",
       "    <tr>\n",
       "      <th>2</th>\n",
       "      <td>0.085299</td>\n",
       "      <td>0.050680</td>\n",
       "      <td>0.044451</td>\n",
       "      <td>-0.005670</td>\n",
       "      <td>-0.045599</td>\n",
       "      <td>-0.034194</td>\n",
       "      <td>-0.032356</td>\n",
       "      <td>-0.002592</td>\n",
       "      <td>0.002861</td>\n",
       "      <td>-0.025930</td>\n",
       "    </tr>\n",
       "    <tr>\n",
       "      <th>3</th>\n",
       "      <td>-0.089063</td>\n",
       "      <td>-0.044642</td>\n",
       "      <td>-0.011595</td>\n",
       "      <td>-0.036656</td>\n",
       "      <td>0.012191</td>\n",
       "      <td>0.024991</td>\n",
       "      <td>-0.036038</td>\n",
       "      <td>0.034309</td>\n",
       "      <td>0.022688</td>\n",
       "      <td>-0.009362</td>\n",
       "    </tr>\n",
       "    <tr>\n",
       "      <th>4</th>\n",
       "      <td>0.005383</td>\n",
       "      <td>-0.044642</td>\n",
       "      <td>-0.036385</td>\n",
       "      <td>0.021872</td>\n",
       "      <td>0.003935</td>\n",
       "      <td>0.015596</td>\n",
       "      <td>0.008142</td>\n",
       "      <td>-0.002592</td>\n",
       "      <td>-0.031988</td>\n",
       "      <td>-0.046641</td>\n",
       "    </tr>\n",
       "  </tbody>\n",
       "</table>\n",
       "</div>\n",
       "      <button class=\"colab-df-convert\" onclick=\"convertToInteractive('df-82e3293a-4d56-41c4-8db8-3a4aeace3e30')\"\n",
       "              title=\"Convert this dataframe to an interactive table.\"\n",
       "              style=\"display:none;\">\n",
       "        \n",
       "  <svg xmlns=\"http://www.w3.org/2000/svg\" height=\"24px\"viewBox=\"0 0 24 24\"\n",
       "       width=\"24px\">\n",
       "    <path d=\"M0 0h24v24H0V0z\" fill=\"none\"/>\n",
       "    <path d=\"M18.56 5.44l.94 2.06.94-2.06 2.06-.94-2.06-.94-.94-2.06-.94 2.06-2.06.94zm-11 1L8.5 8.5l.94-2.06 2.06-.94-2.06-.94L8.5 2.5l-.94 2.06-2.06.94zm10 10l.94 2.06.94-2.06 2.06-.94-2.06-.94-.94-2.06-.94 2.06-2.06.94z\"/><path d=\"M17.41 7.96l-1.37-1.37c-.4-.4-.92-.59-1.43-.59-.52 0-1.04.2-1.43.59L10.3 9.45l-7.72 7.72c-.78.78-.78 2.05 0 2.83L4 21.41c.39.39.9.59 1.41.59.51 0 1.02-.2 1.41-.59l7.78-7.78 2.81-2.81c.8-.78.8-2.07 0-2.86zM5.41 20L4 18.59l7.72-7.72 1.47 1.35L5.41 20z\"/>\n",
       "  </svg>\n",
       "      </button>\n",
       "      \n",
       "  <style>\n",
       "    .colab-df-container {\n",
       "      display:flex;\n",
       "      flex-wrap:wrap;\n",
       "      gap: 12px;\n",
       "    }\n",
       "\n",
       "    .colab-df-convert {\n",
       "      background-color: #E8F0FE;\n",
       "      border: none;\n",
       "      border-radius: 50%;\n",
       "      cursor: pointer;\n",
       "      display: none;\n",
       "      fill: #1967D2;\n",
       "      height: 32px;\n",
       "      padding: 0 0 0 0;\n",
       "      width: 32px;\n",
       "    }\n",
       "\n",
       "    .colab-df-convert:hover {\n",
       "      background-color: #E2EBFA;\n",
       "      box-shadow: 0px 1px 2px rgba(60, 64, 67, 0.3), 0px 1px 3px 1px rgba(60, 64, 67, 0.15);\n",
       "      fill: #174EA6;\n",
       "    }\n",
       "\n",
       "    [theme=dark] .colab-df-convert {\n",
       "      background-color: #3B4455;\n",
       "      fill: #D2E3FC;\n",
       "    }\n",
       "\n",
       "    [theme=dark] .colab-df-convert:hover {\n",
       "      background-color: #434B5C;\n",
       "      box-shadow: 0px 1px 3px 1px rgba(0, 0, 0, 0.15);\n",
       "      filter: drop-shadow(0px 1px 2px rgba(0, 0, 0, 0.3));\n",
       "      fill: #FFFFFF;\n",
       "    }\n",
       "  </style>\n",
       "\n",
       "      <script>\n",
       "        const buttonEl =\n",
       "          document.querySelector('#df-82e3293a-4d56-41c4-8db8-3a4aeace3e30 button.colab-df-convert');\n",
       "        buttonEl.style.display =\n",
       "          google.colab.kernel.accessAllowed ? 'block' : 'none';\n",
       "\n",
       "        async function convertToInteractive(key) {\n",
       "          const element = document.querySelector('#df-82e3293a-4d56-41c4-8db8-3a4aeace3e30');\n",
       "          const dataTable =\n",
       "            await google.colab.kernel.invokeFunction('convertToInteractive',\n",
       "                                                     [key], {});\n",
       "          if (!dataTable) return;\n",
       "\n",
       "          const docLinkHtml = 'Like what you see? Visit the ' +\n",
       "            '<a target=\"_blank\" href=https://colab.research.google.com/notebooks/data_table.ipynb>data table notebook</a>'\n",
       "            + ' to learn more about interactive tables.';\n",
       "          element.innerHTML = '';\n",
       "          dataTable['output_type'] = 'display_data';\n",
       "          await google.colab.output.renderOutput(dataTable, element);\n",
       "          const docLink = document.createElement('div');\n",
       "          docLink.innerHTML = docLinkHtml;\n",
       "          element.appendChild(docLink);\n",
       "        }\n",
       "      </script>\n",
       "    </div>\n",
       "  </div>\n",
       "  "
      ],
      "text/plain": [
       "        age       sex       bmi        bp        s1        s2        s3  \\\n",
       "0  0.038076  0.050680  0.061696  0.021872 -0.044223 -0.034821 -0.043401   \n",
       "1 -0.001882 -0.044642 -0.051474 -0.026328 -0.008449 -0.019163  0.074412   \n",
       "2  0.085299  0.050680  0.044451 -0.005670 -0.045599 -0.034194 -0.032356   \n",
       "3 -0.089063 -0.044642 -0.011595 -0.036656  0.012191  0.024991 -0.036038   \n",
       "4  0.005383 -0.044642 -0.036385  0.021872  0.003935  0.015596  0.008142   \n",
       "\n",
       "         s4        s5        s6  \n",
       "0 -0.002592  0.019907 -0.017646  \n",
       "1 -0.039493 -0.068332 -0.092204  \n",
       "2 -0.002592  0.002861 -0.025930  \n",
       "3  0.034309  0.022688 -0.009362  \n",
       "4 -0.002592 -0.031988 -0.046641  "
      ]
     },
     "execution_count": 2,
     "metadata": {},
     "output_type": "execute_result"
    }
   ],
   "source": [
    "from sklearn.datasets import load_diabetes\n",
    "\n",
    "# Load data\n",
    "df, labels = load_diabetes(as_frame=True, return_X_y=True)\n",
    "\n",
    "# Preview data\n",
    "df.head()"
   ]
  },
  {
   "cell_type": "markdown",
   "metadata": {
    "id": "Oj_B2EfrVtTz"
   },
   "source": [
    "### Creating our Model\n",
    "\n",
    "We have 10 features and a single bias, so we have **10+1** parameters that we'll store in a list that'll represent the vector $θ$ that we're looking to learn during training.\n",
    "\n",
    "We'll initialize them with random values between 0 and 1 using numpy's [`np.random.rand`](https://numpy.org/doc/stable/reference/random/generated/numpy.random.rand.html):"
   ]
  },
  {
   "cell_type": "code",
   "execution_count": 3,
   "metadata": {
    "colab": {
     "base_uri": "https://localhost:8080/"
    },
    "id": "EtoRn8HHUp_F",
    "outputId": "8605ac33-1220-4065-c72b-dd34eaeead41"
   },
   "outputs": [
    {
     "name": "stdout",
     "output_type": "stream",
     "text": [
      "[0.07630829 0.77991879 0.43840923 0.72346518 0.97798951 0.53849587\n",
      " 0.50112046 0.07205113 0.26843898 0.4998825  0.67923   ]\n"
     ]
    }
   ],
   "source": [
    "np.random.seed(rand_seed)    # Setting seed for reproducibility\n",
    "\n",
    "parameters = np.random.rand(11)\n",
    "\n",
    "print(parameters)"
   ]
  },
  {
   "cell_type": "markdown",
   "metadata": {
    "id": "T4pUDIZ0WRaL"
   },
   "source": [
    "We'll then add a function that takes the input and returns the output for our linear regression model.\n",
    "\n",
    "Given that we have 10 features, our linear regression model would look like this:\n",
    "\n",
    "$$\n",
    "y = (∑_{i=1}^{10}\\theta_ix_i) + α\n",
    "$$\n",
    "\n",
    "To get the predictions for our model, all we need to do is multiply our input vector by our vector of coefficients (save for the intercept/bias) and finally add the bias at the end. \n",
    "> For the intercept, we can also add a $1$ at the end of our input vector and leaving the bias in the vector of coefficients, and that'll effectively be the same as multiplying the coefficients and input and adding the bias at the end."
   ]
  },
  {
   "cell_type": "code",
   "execution_count": 4,
   "metadata": {
    "colab": {
     "base_uri": "https://localhost:8080/"
    },
    "id": "j94zuT4eW8LL",
    "outputId": "41c613f2-e784-405e-ef24-b7472f79f904"
   },
   "outputs": [
    {
     "name": "stdout",
     "output_type": "stream",
     "text": [
      "0.6771201503259253\n"
     ]
    }
   ],
   "source": [
    "def get_pred(input):\n",
    "  # Convers Pandas Series row to Numpy Array and append 1 to the end of input array for bias\n",
    "  row = np.append(input.to_numpy(), 1)\n",
    "  row *= parameters\n",
    "  return row.sum()\n",
    "\n",
    "# Get prediction for first row:\n",
    "pred = get_pred(df.iloc[0])\n",
    "print(pred)"
   ]
  },
  {
   "cell_type": "markdown",
   "metadata": {
    "id": "UybWQ_9aYbvr"
   },
   "source": [
    "### Calculating the Error\n",
    "\n",
    "As mentioned previously, as per the problem specification we'll be using mean absolute error as our error function, in the form below;\n",
    "\n",
    "$$\n",
    "MAE = \\frac{∑^{n}_{i=1}|y_i - pred_i|}{n}\n",
    "$$\n",
    "\n",
    "Here, I'll implement a simple function `calc_single_error` for calculating the error of a single prediction;"
   ]
  },
  {
   "cell_type": "code",
   "execution_count": 5,
   "metadata": {
    "colab": {
     "base_uri": "https://localhost:8080/"
    },
    "id": "mLOiQb37Ygbi",
    "outputId": "ce2ad745-df8e-4566-af2c-c1de2c648877"
   },
   "outputs": [
    {
     "name": "stdout",
     "output_type": "stream",
     "text": [
      "150.32287984967408\n"
     ]
    }
   ],
   "source": [
    "def calc_single_error(pred, true):\n",
    "  return abs(pred - true)    # MSE\n",
    "\n",
    "\n",
    "# Calculate error for first prediction\n",
    "err = calc_single_error(pred, labels[0])\n",
    "print(err)"
   ]
  },
  {
   "cell_type": "markdown",
   "metadata": {
    "id": "eolnzGIhZyE8"
   },
   "source": [
    "The error here is quite large, however, we hadn't expected high accuracy given that we had *just* initialized our coefficients with random variables. Over different training epochs we'll aim to tune these coefficients to get better results.\n",
    "\n",
    "While the function above works just fine in gauging error, this isn't enough as we're calculating error over a single prediction, as we're looking to do this:\n",
    "\n",
    "$$\n",
    "minimize \\frac{1}{n}∑^{n}_{i=1}|pred_i - y_i|\n",
    "$$\n",
    "\n",
    "over the entire dataset.\n",
    "\n",
    "So, we'll create another function `cost_function` that calculates the cost over the entire dataset, divided by the number of samples;"
   ]
  },
  {
   "cell_type": "code",
   "execution_count": 6,
   "metadata": {
    "colab": {
     "base_uri": "https://localhost:8080/"
    },
    "id": "Qr99uWABaPPk",
    "outputId": "1ee88825-3ae0-4636-cb73-b9d47d64e2d5"
   },
   "outputs": [
    {
     "name": "stdout",
     "output_type": "stream",
     "text": [
      "151.45425416677492\n"
     ]
    }
   ],
   "source": [
    "# Calculate total cost over entire batch\n",
    "def cost_function(preds, labels):\n",
    "  total_cost = 0\n",
    "  n_samples = len(preds)\n",
    "\n",
    "  # Calculate sum of error\n",
    "  for i in range(n_samples):\n",
    "    pred = preds[i]\n",
    "    error = calc_single_error(pred, labels[i])\n",
    "    total_cost += error\n",
    "  \n",
    "  # Divide by number of samples and return\n",
    "  return total_cost/n_samples\n",
    "\n",
    "\n",
    "# Get prediction for every sample in dataset\n",
    "preds = [get_pred(df.iloc[i]) for i in range(df.shape[0])]\n",
    "\n",
    "# Calculate total cost\n",
    "cost = cost_function(preds, labels)\n",
    "print(cost)"
   ]
  },
  {
   "cell_type": "markdown",
   "metadata": {
    "id": "nHE8hBAvbGK8"
   },
   "source": [
    "### Parameter Tuning\n",
    "\n",
    "Now that we've calculated our error, it's time to adjust our parameters according to the error and the formula I've previously mentioned, where we'll be tuning each parameter by:\n",
    "\n",
    "$$\n",
    "θ_j = θ_j - \\frac{\\lambda}{n}∑^{n}_{i=1}[(\\frac{∂MAE}{∂pred})x_i]\n",
    "$$\n",
    "\n",
    "where,\n",
    "\n",
    "$$\n",
    "\\frac{∂MAE}{∂pred} = \n",
    "\\begin{cases}\n",
    "1 & if (pred > y) \\\\ \n",
    "{-1}& if ~ (y < pred)\n",
    "\\end{cases}\n",
    "$$\n",
    "\n",
    "\n",
    "Given that we've already calculated the derivatives, this is quite simple to do."
   ]
  },
  {
   "cell_type": "code",
   "execution_count": 7,
   "metadata": {
    "colab": {
     "base_uri": "https://localhost:8080/"
    },
    "id": "6AqLF-XvbTTr",
    "outputId": "e8cb6178-898c-433e-b26a-214adc18ab51"
   },
   "outputs": [
    {
     "name": "stdout",
     "output_type": "stream",
     "text": [
      "Parameters before adjustment: [0.07630829 0.77991879 0.43840923 0.72346518 0.97798951 0.53849587\n",
      " 0.50112046 0.07205113 0.26843898 0.4998825  0.67923   ]\n",
      "Total cost after adjustment: 151.45425416677492\n",
      "Parameters after adjustment: [0.07630829 0.77991879 0.43840923 0.72346518 0.97798951 0.53849587\n",
      " 0.50112046 0.07205113 0.26843898 0.4998825  0.68923   ]\n",
      "Total cost after adjustment: 151.44425416677495\n"
     ]
    }
   ],
   "source": [
    "learning_rate = 0.01\n",
    "\n",
    "print(f\"Parameters before adjustment: {parameters}\")\n",
    "print(f\"Total cost after adjustment: {cost}\")\n",
    "\n",
    "def train(input_df, labels, lr = learning_rate):\n",
    "  global parameters\n",
    "  input_shape = input_df.shape[0]\n",
    "\n",
    "  # For storing parameter-wise cost\n",
    "  total_cost = [0 for i in range(len(parameters))]\n",
    "\n",
    "  # Loop over all data in batch\n",
    "  for i in range(input_shape):\n",
    "    row = np.append(input_df.iloc[i].to_numpy(), 1)\n",
    "    pred = get_pred(input_df.iloc[i])\n",
    "    preds.append(pred)\n",
    "\n",
    "    # Delta will be the term that represents the (∂MAE/∂pred) term\n",
    "    delta = 1\n",
    "    if pred < labels[i]:\n",
    "      delta = -1\n",
    "    \n",
    "    # Parameter-wise cost\n",
    "    for j in range(len(parameters)):\n",
    "      total_cost[j] += delta * row[j]\n",
    "  \n",
    "  # Adjust parameters\n",
    "  for i in range(len(parameters)):\n",
    "    parameters[i] -= (lr/input_shape) * total_cost[i]\n",
    "  \n",
    "\n",
    "\n",
    "train(df, labels)\n",
    "preds = [get_pred(df.iloc[i]) for i in range(df.shape[0])]    # Get predictions with newly adjusted parameters\n",
    "\n",
    "print(f\"Parameters after adjustment: {parameters}\")\n",
    "print(f\"Total cost after adjustment: {cost_function(preds, labels)}\")\n"
   ]
  },
  {
   "cell_type": "markdown",
   "metadata": {
    "id": "SSXSpXj9HXyr"
   },
   "source": [
    "Now that we know this works, we'll keep repeating this process over an `n_epochs` number of epochs, tuning parameters by a little bit every time."
   ]
  },
  {
   "cell_type": "code",
   "execution_count": null,
   "metadata": {
    "colab": {
     "base_uri": "https://localhost:8080/"
    },
    "id": "SrPs45R0gb29",
    "outputId": "01b56758-8f96-49b8-dc5d-db33ff834590"
   },
   "outputs": [
    {
     "name": "stdout",
     "output_type": "stream",
     "text": [
      "Epoch: 1/5000\n",
      "Total cost after adjustment: 151.434254166775\n",
      "Epoch: 501/5000\n",
      "Total cost after adjustment: 146.4342541667751\n",
      "Epoch: 1001/5000\n",
      "Total cost after adjustment: 141.43425416677525\n"
     ]
    }
   ],
   "source": [
    "n_epochs = 5000\n",
    "\n",
    "cost_over_time = []    # For graphing purposes later on\n",
    "\n",
    "for i in range(n_epochs):\n",
    "  train(df, labels)\n",
    "  preds = [get_pred(df.iloc[i]) for i in range(df.shape[0])]\n",
    "\n",
    "  if i%500 == 0:\n",
    "    cost_over_time.append(cost_function(preds, labels))\n",
    "    print(f\"Epoch: {i+1}/{n_epochs}\")\n",
    "    print(f\"Total cost after adjustment: {cost_function(preds, labels)}\")\n",
    "\n",
    "print(f\"Total cost after adjustment: {cost_function(preds, labels)}\")"
   ]
  },
  {
   "cell_type": "markdown",
   "metadata": {
    "id": "83ZxTbcpH5bS"
   },
   "source": [
    "Now that we're done training, we can illustrate our model's cost during training using graphing libraries such as [`matplotlib`](https://matplotlib.org/) and [`seaborn`](https://seaborn.pydata.org/). This way we'll get a good image of how our model improved over time.\n",
    "\n",
    "The graph I'll be using is a [`seaborn.lmplot`](https://seaborn.pydata.org/generated/seaborn.lmplot.html) which plots the data and also fits a regression model. Intuitively, this means we both have \"dots\" for individual datapoints, but a line to plot the general trajectory of our datapoints."
   ]
  },
  {
   "cell_type": "code",
   "execution_count": null,
   "metadata": {
    "id": "mGgCNbpxo8of"
   },
   "outputs": [],
   "source": [
    "# Create graph of cost over time\n",
    "import matplotlib.pyplot as plt\n",
    "%matplotlib inline    \n",
    "# ^ So we can render graphs in-notebook\n",
    "import seaborn as sns"
   ]
  },
  {
   "cell_type": "code",
   "execution_count": null,
   "metadata": {
    "id": "VEjxHVXDzrFo"
   },
   "outputs": [],
   "source": [
    "plot_data = pd.DataFrame({\"cost\": cost_over_time, \"epoch\": [i*100 for i in range(len(cost_over_time))]})\n",
    "\n",
    "sns.lmplot(data=plot_data, y=\"cost\", x=\"epoch\")"
   ]
  },
  {
   "cell_type": "markdown",
   "metadata": {
    "id": "L99ME--2ot0-"
   },
   "source": [
    "### Comparison\n",
    "\n",
    "For performance comparison, as per problem specification, we'll be using Scikit-Learn's [`sklearn.linear_model.LinearRegression`](https://scikit-learn.org/stable/modules/generated/sklearn.linear_model.LinearRegression.html). As mentioned in the documentation, using this model is very straightforward;\n",
    "1. We create an instance of the model we're looking to train.\n",
    "2. We fit our model to our data using the `fit(X, y)` function.\n",
    "\n",
    "Once we've fit `sklearn`'s linear regression model to our data, we can evaluate the model like we had done with our own model."
   ]
  },
  {
   "cell_type": "code",
   "execution_count": null,
   "metadata": {
    "id": "fIOXhE6QovB-"
   },
   "outputs": [],
   "source": [
    "from sklearn.linear_model import LinearRegression\n",
    "\n",
    "# Create model and fit data\n",
    "sk_reg = LinearRegression().fit(df, labels)\n",
    "\n",
    "# Get predictions across all the data\n",
    "sk_pred = sk_reg.predict(df)\n",
    "\n",
    "# Calculate cost\n",
    "cost = cost_function(sk_pred, labels)\n",
    "print(cost)"
   ]
  },
  {
   "cell_type": "markdown",
   "metadata": {
    "id": "sFADNEclLn2q"
   },
   "source": [
    "As we can see in the results above, Scikit Learn's model performs significantly better than our model. The reason for that will be explored in the next question, when we tackle the topic of normal equations and directly calculating the best possible coefficients from the data through clever matrix multiplication — something that Scikit Learn does."
   ]
  },
  {
   "cell_type": "markdown",
   "metadata": {
    "id": "ud3ANTssPPmx"
   },
   "source": [
    "# **Exercise 6:**"
   ]
  },
  {
   "cell_type": "markdown",
   "metadata": {
    "id": "R6Axs8C7wfaY"
   },
   "source": [
    "## *Implement Linear Regression using the normal equation as the training algorithm from scratch.*\n",
    "\n",
    "The method that was used for training our linear regression model was an iterative optimization algorithm that relied on calculating the model's error (in other words, how far it is from the true labels) at each epoch, and adjusting the model coefficients according to that error a little bit at a time until we reached a solution.\n",
    "\n",
    "However, there is a closed form solution to the problem of finding the parameters that will minimize the error function at hand. This solution consists of solving an algebraic equation known as the [normal equation](https://en.wikipedia.org/wiki/Numerical_methods_for_linear_least_squares).\n",
    "\n",
    "While this method is rather computationally expensive and quite infeasible for large datasets, for small datasets such as the diabetes dataset we can solve this equation to find the best fit for our data.\n",
    "\n",
    "This normal equation is in the form:\n",
    "\n",
    "$$\n",
    "\\theta = (X^TX)^{-1}.(X^Ty)\n",
    "$$\n",
    "\n",
    "Where $\\theta$ is the value of the parameters we're looking to optimize, $X$ being our input features and $Y$ being our outputs, otherwise known as labels.\n",
    "\n",
    "(The derivation of the normal equation *itself* is beyond the scope of this question, so I will omit that, however the links in the sources section of this question do contain proofs.)\n",
    "\n",
    "So technically, all we need to do is to perform matrix operations on our data and it's labels and we'll have calculated the best value for our coefficients.\n",
    "\n",
    "First things first, we'll make a copy of our training data. \n",
    "We'll use this copy, and we'll add a column for the intercept/bias which solely consists of ones;"
   ]
  },
  {
   "cell_type": "code",
   "execution_count": null,
   "metadata": {
    "id": "A7jip7L1xMPI"
   },
   "outputs": [],
   "source": [
    "# Make copy of training DataFrame and add intercept column\n",
    "\n",
    "normal_df = df.copy()\n",
    "normal_df['bias'] = 1\n",
    "normal_df.head()"
   ]
  },
  {
   "cell_type": "markdown",
   "metadata": {
    "id": "kfjz5E-_SAYZ"
   },
   "source": [
    "Next, I'll convert the $X$ data from a Pandas DataFrame to a Numpy Array such that I'll be able to manipulate the data more easily. Then, I'll solve the normal equation using the formula mentioned earlier in this question;"
   ]
  },
  {
   "cell_type": "code",
   "execution_count": null,
   "metadata": {
    "id": "T8-0K8r5xhWf"
   },
   "outputs": [],
   "source": [
    "data = normal_df.to_numpy()    # Convert to pd.DataFrame to np.array\n",
    "\n",
    "\n",
    "# Normal equation here\n",
    "coefficients = np.dot(np.linalg.inv(np.dot(data.T,data)), np.dot(data.T, labels))\n",
    "\n",
    "# List calculated coefficients\n",
    "coefficients"
   ]
  },
  {
   "cell_type": "markdown",
   "metadata": {
    "id": "62nchtnhSWdA"
   },
   "source": [
    "Now that we've calculated the coefficients, I'll add a function `get_pred_coef` where an input vector is given. Identical to the previous linear regression model that had been implemented, to get the model prediction, all we need to do is multiply the model's coefficients with the input vector to get the model outputs.\n",
    "\n",
    "- A thing to note here is that an extra $1$ is added to the end of the input vector. This is the bias/intercept."
   ]
  },
  {
   "cell_type": "code",
   "execution_count": null,
   "metadata": {
    "id": "aQ9HwvTeyQkw"
   },
   "outputs": [],
   "source": [
    "def get_pred_coef(input):\n",
    "  # Convers Pandas Series row to Numpy Array and append 1 to the end of input array for bias\n",
    "  row = np.append(input.to_numpy(), 1)     # Intercept\n",
    "  row *= coefficients\n",
    "  return row.sum()\n",
    "\n",
    "print(f\"Prediction for first row: {get_pred_coef(df.iloc[0])}\")     # Predicted value\n",
    "print(f\"Label: {labels[0]}\")    # True value"
   ]
  },
  {
   "cell_type": "markdown",
   "metadata": {
    "id": "xvXQz3xtTqOo"
   },
   "source": [
    "Now that we've calculated the coefficients and that we're able to make predictions with this model, we can gauge this model's performance the same way we had gauged the previous two models; by calculating the cost function using the MSE-based `cost_function` function I had defined in the previous question; "
   ]
  },
  {
   "cell_type": "code",
   "execution_count": null,
   "metadata": {
    "id": "v1ntOPuLykLY"
   },
   "outputs": [],
   "source": [
    "# Calculating total cost\n",
    "coef_preds = [get_pred_coef(df.iloc[i]) for i in range(df.shape[0])]    # Get predictions\n",
    "cost_function(coef_preds, labels)"
   ]
  },
  {
   "cell_type": "markdown",
   "metadata": {
    "id": "xClIqMNzP4AB"
   },
   "source": [
    "What's interesting is that the cost of this model is *identical* to `scikit-learn`'s linear regression model, so it's safe to assume that Scikit Learn is using this method as well, as there is no stochasticity in this particular method that might be cause for any sort of variation in the results.\n",
    "\n",
    "\n",
    "*Sources:*\n",
    "- [Towards Data Science: Performing Linear Regression Using the Normal Equation](https://towardsdatascience.com/performing-linear-regression-using-the-normal-equation-6372ed3c57)\n",
    "- [Medium: Linear Regression With Normal Equation Complete Derivation (Matrices)](https://medium.com/swlh/understanding-mathematics-behind-normal-equation-in-linear-regression-aa20dc5a0961)\n",
    "- [GeeksForGeeks: ML | Normal Equation in Linear Regression](https://www.geeksforgeeks.org/ml-normal-equation-in-linear-regression/)"
   ]
  },
  {
   "cell_type": "markdown",
   "metadata": {
    "id": "vJov77MuI93P"
   },
   "source": [
    "# **Exercise 7:**"
   ]
  },
  {
   "cell_type": "markdown",
   "metadata": {
    "id": "98zcwa4mJQLW"
   },
   "source": [
    "## *Compare bootstrapping with cross-validation. In which conditions we should use bootstrapping?*"
   ]
  },
  {
   "cell_type": "markdown",
   "metadata": {
    "id": "da0KPkZfJ1uH"
   },
   "source": [
    "**Bootstrapping** sampling refers to the technique where we choose a data sample at random and replace it later for the purpose of estimating a population parameter. This estimated parameter is comparable to the actual population parameter.\n",
    "\n",
    "In the context of machine learning, bootstrap sampling is used for ensemble algorithms, called [*bootstrap aggregating*](https://en.wikipedia.org/wiki/Bootstrap_aggregating) or *bagging*, where a number of subsets from the dataset are sampled (and later replaced). Then, these subsets of data is fed to machine learning models. The outputs of these models are then ensembled (either by averaging for regression or voting for classification) and used for a more \"stable\" and confident final prediction.\n",
    "\n",
    "While bagging is normally used on decision tree models, in theory it can be used on any machine learning algorithm.\n",
    "\n",
    "Bagging prevents overfitting and improves training stability by reducing variance in machine learning algorithms for both regression and classification. It also requires a low amount of computation, as we only need a few samples to bootstrap successfully.\n",
    "\n",
    "> Bootstrap sampling can also be used on a single model as well, where we train the model on the entire dataset and gauge it's performance on a subset of the *training* dataset (e.g. data it's seen before in *this* epoch)\n",
    "\n",
    "On the other hand, **cross-validation** is also a technique where we take different machine learning models and train them on subsets of the data. Cross validation could be used for overfitting detection by gauging model performance on unseen data.\n",
    "\n",
    "As I've just mentioned, cross validation divides the data into multiple subsets, or *folds*, and uses one as a validation set, while the rest are used for training the model(s). This process is repeated with a different fold being used as a validation set in each training round. \n",
    "\n",
    "Cross validation can also be used for hyperparameter tuning by selecting values that perform the best in the validation set. Cross validation is also more data efficient than traditional validation techniques, as in traditional validation a subset of the dataset is permanently held out over all training rounds, while in cross validation, the subset of data that's used for model evaluation changes every training round.\n",
    "\n",
    "Needless to say, though there are drawbacks to this method. For one, cross validation is rather computationally expensive, especially when the number of folds is large or when the model is quite difficult to train. Additionally, the bias-variance tradeoff is important here; too few folds may result in high variance, but too many folds might result in high bias.\n",
    "\n",
    "But these two methods sound awfully similar to one another, as they are both *resampling* methods. However, they are quite different and there are times when we might prefer one method to another.\n",
    "\n",
    "For one, bootstrap resamples with replacement, e.g. the sampled data is put back and the dataset used to train models is just as large as the original dataset. However, this also might mean that some data points may never be used in datasets that are created via sampling.\n",
    "\n",
    "While the main purpose of cross-validation is measuring model performance, bootstrapping is used to establish empirical distribution function for a wide range in statistics (for instance, widespread in the sense of a large variance from the mean). Bootstrap also gives us a standard error of the estimates, while cross validation mostly just provides estimates of test error.\n",
    "- This is important, given that there are fewer combinations possible in cross validation compared to bootstrapping. For instance, if we wish to gauge our model on a statistically wide range of data and also use that data during training, then bootstrapping might be a better option.\n",
    "\n",
    "Additionally, bootstrapping might not be as good as cross validation for effectively validating our model, but is better for building ensemble models or even just estimating parameters.\n",
    "\n",
    "\n",
    "\n",
    "*Sources:*\n",
    "- [Wikipedia: Bootstrap Aggregating](https://en.wikipedia.org/wiki/Bootstrap_aggregating)\n",
    "- [Analytics Vidhya: What is Bootstrap Sampling in Statistics and Machine Learning?](https://www.analyticsvidhya.com/blog/2020/02/what-is-bootstrap-sampling-in-statistics-and-machine-learning/)\n",
    "- [KDNuggets: What is Bootstrapping?](https://www.kdnuggets.com/2023/03/bootstrapping.html) \n",
    "- [Amazon: Cross-Validation](https://docs.aws.amazon.com/machine-learning/latest/dg/cross-validation.html)\n",
    "- [GeeksForGeeks: Cross Validation](https://www.geeksforgeeks.org/cross-validation-machine-learning/)\n",
    "- [TowardsDataScience: Cross-Validation in Machine Learning](https://towardsdatascience.com/cross-validation-in-machine-learning-72924a69872f)\n",
    "- [Data Science StackExchange: What is the difference between bootstrapping and cross-validation?](https://datascience.stackexchange.com/questions/32264/what-is-the-difference-between-bootstrapping-and-cross-validation)"
   ]
  },
  {
   "cell_type": "markdown",
   "metadata": {
    "id": "AFBuBW-5gbAv"
   },
   "source": [
    "# **Exercise 10:**"
   ]
  },
  {
   "cell_type": "markdown",
   "metadata": {
    "id": "R-6NNb3WgdqP"
   },
   "source": [
    "## *Implement Forward and Backward Feature selection algorithms from scratch with MSE as the metric.* "
   ]
  },
  {
   "cell_type": "markdown",
   "metadata": {
    "id": "SNCOrGlpgmae"
   },
   "source": [
    "For this, I'll be using the diabetes dataset again. Just in case, I'll reload it to undo any changes that may have been made to the dataframe from beforehand;\n",
    "\n",
    "> For a more detailed explanation of how this dataset is being loaded and what different parameters mean, please refer to *Exercise 6: Linear Regression from Scratch*"
   ]
  },
  {
   "cell_type": "code",
   "execution_count": 13,
   "metadata": {},
   "outputs": [
    {
     "data": {
      "text/html": [
       "<div>\n",
       "<style scoped>\n",
       "    .dataframe tbody tr th:only-of-type {\n",
       "        vertical-align: middle;\n",
       "    }\n",
       "\n",
       "    .dataframe tbody tr th {\n",
       "        vertical-align: top;\n",
       "    }\n",
       "\n",
       "    .dataframe thead th {\n",
       "        text-align: right;\n",
       "    }\n",
       "</style>\n",
       "<table border=\"1\" class=\"dataframe\">\n",
       "  <thead>\n",
       "    <tr style=\"text-align: right;\">\n",
       "      <th></th>\n",
       "      <th>age</th>\n",
       "      <th>sex</th>\n",
       "      <th>bmi</th>\n",
       "      <th>bp</th>\n",
       "      <th>s1</th>\n",
       "      <th>s2</th>\n",
       "      <th>s3</th>\n",
       "      <th>s4</th>\n",
       "      <th>s5</th>\n",
       "      <th>s6</th>\n",
       "    </tr>\n",
       "  </thead>\n",
       "  <tbody>\n",
       "    <tr>\n",
       "      <th>0</th>\n",
       "      <td>0.038076</td>\n",
       "      <td>0.050680</td>\n",
       "      <td>0.061696</td>\n",
       "      <td>0.021872</td>\n",
       "      <td>-0.044223</td>\n",
       "      <td>-0.034821</td>\n",
       "      <td>-0.043401</td>\n",
       "      <td>-0.002592</td>\n",
       "      <td>0.019907</td>\n",
       "      <td>-0.017646</td>\n",
       "    </tr>\n",
       "    <tr>\n",
       "      <th>1</th>\n",
       "      <td>-0.001882</td>\n",
       "      <td>-0.044642</td>\n",
       "      <td>-0.051474</td>\n",
       "      <td>-0.026328</td>\n",
       "      <td>-0.008449</td>\n",
       "      <td>-0.019163</td>\n",
       "      <td>0.074412</td>\n",
       "      <td>-0.039493</td>\n",
       "      <td>-0.068332</td>\n",
       "      <td>-0.092204</td>\n",
       "    </tr>\n",
       "    <tr>\n",
       "      <th>2</th>\n",
       "      <td>0.085299</td>\n",
       "      <td>0.050680</td>\n",
       "      <td>0.044451</td>\n",
       "      <td>-0.005670</td>\n",
       "      <td>-0.045599</td>\n",
       "      <td>-0.034194</td>\n",
       "      <td>-0.032356</td>\n",
       "      <td>-0.002592</td>\n",
       "      <td>0.002861</td>\n",
       "      <td>-0.025930</td>\n",
       "    </tr>\n",
       "    <tr>\n",
       "      <th>3</th>\n",
       "      <td>-0.089063</td>\n",
       "      <td>-0.044642</td>\n",
       "      <td>-0.011595</td>\n",
       "      <td>-0.036656</td>\n",
       "      <td>0.012191</td>\n",
       "      <td>0.024991</td>\n",
       "      <td>-0.036038</td>\n",
       "      <td>0.034309</td>\n",
       "      <td>0.022688</td>\n",
       "      <td>-0.009362</td>\n",
       "    </tr>\n",
       "    <tr>\n",
       "      <th>4</th>\n",
       "      <td>0.005383</td>\n",
       "      <td>-0.044642</td>\n",
       "      <td>-0.036385</td>\n",
       "      <td>0.021872</td>\n",
       "      <td>0.003935</td>\n",
       "      <td>0.015596</td>\n",
       "      <td>0.008142</td>\n",
       "      <td>-0.002592</td>\n",
       "      <td>-0.031988</td>\n",
       "      <td>-0.046641</td>\n",
       "    </tr>\n",
       "  </tbody>\n",
       "</table>\n",
       "</div>"
      ],
      "text/plain": [
       "        age       sex       bmi        bp        s1        s2        s3  \\\n",
       "0  0.038076  0.050680  0.061696  0.021872 -0.044223 -0.034821 -0.043401   \n",
       "1 -0.001882 -0.044642 -0.051474 -0.026328 -0.008449 -0.019163  0.074412   \n",
       "2  0.085299  0.050680  0.044451 -0.005670 -0.045599 -0.034194 -0.032356   \n",
       "3 -0.089063 -0.044642 -0.011595 -0.036656  0.012191  0.024991 -0.036038   \n",
       "4  0.005383 -0.044642 -0.036385  0.021872  0.003935  0.015596  0.008142   \n",
       "\n",
       "         s4        s5        s6  \n",
       "0 -0.002592  0.019907 -0.017646  \n",
       "1 -0.039493 -0.068332 -0.092204  \n",
       "2 -0.002592  0.002861 -0.025930  \n",
       "3  0.034309  0.022688 -0.009362  \n",
       "4 -0.002592 -0.031988 -0.046641  "
      ]
     },
     "execution_count": 13,
     "metadata": {},
     "output_type": "execute_result"
    }
   ],
   "source": [
    "from sklearn.datasets import load_diabetes\n",
    "\n",
    "# Load data\n",
    "df, labels = load_diabetes(as_frame=True, return_X_y=True)\n",
    "\n",
    "# Preview data\n",
    "df.head()"
   ]
  },
  {
   "cell_type": "markdown",
   "metadata": {},
   "source": [
    "Because of the nature of this question, I will not be performing any feature engineering, however, for later reference, I will be generating a heatmap of feature correlations;"
   ]
  },
  {
   "cell_type": "code",
   "execution_count": 17,
   "metadata": {},
   "outputs": [
    {
     "data": {
      "text/plain": [
       "<Axes: >"
      ]
     },
     "execution_count": 17,
     "metadata": {},
     "output_type": "execute_result"
    },
    {
     "data": {
      "image/png": "[encoded data removed]",
      "text/plain": [
       "<Figure size 640x480 with 2 Axes>"
      ]
     },
     "metadata": {},
     "output_type": "display_data"
    }
   ],
   "source": [
    "import seaborn as sns\n",
    "\n",
    "full_df = df.copy()    # Create copy of dataframe\n",
    "full_df[\"target\"] = labels\n",
    "\n",
    "corr = full_df.corr()    # Calculate correlation using Pandas's built in correlation function. Is explained a bit more in Q13\n",
    "sns.heatmap(corr, xticklabels=corr.columns, yticklabels=corr.columns, annot=True)"
   ]
  },
  {
   "cell_type": "markdown",
   "metadata": {},
   "source": [
    "Judging by the heatmap above and checking the row/column corresponding to the `target` column (e.g. what we're aiming to predict) has a positive relation with columns such as `s5` and `bmi`, and a negative correlation with `s3`, so we can expect these columns to be useful in the future.\n",
    "\n",
    "### Forward Selection\n",
    "\n",
    "Forward selection is a form of [stepwise regression](https://en.wikipedia.org/wiki/Stepwise_regression) — a way to pick and choose features to be used in our machine learning model. In this specific method, we start with an empty model. In each step, we add a feature, that is, the feature that had given us the biggest improvement to our model. We continue doing this until we either run out of features or our model performance fails to improve with any new features.\n",
    "\n",
    "For this, I'll be using Scikit Learn's [`LinearRegression`](https://scikit-learn.org/stable/modules/generated/sklearn.linear_model.LinearRegression.html) model for simplicity and relatively small computation time.\n",
    "\n",
    "But first, I'll focus on the metric specified in the problem: [mean squared error (MSE)](https://en.wikipedia.org/wiki/Mean_squared_error). This metric is a relatively simple one, which is calculated by summing the squared difference between the true value and the prediction and then dividing the result by the number of predictions;\n",
    "\n",
    "$$\n",
    "MSE = \\frac{1}{n} \\sum^{n}_{i=1}(true_i - pred_i)^2\n",
    "$$\n",
    "\n",
    "Despite Scikit Learn having an implementation [here](https://scikit-learn.org/stable/modules/generated/sklearn.metrics.mean_squared_error.html), MSE is relatively simple to implement in python, especially with the help of modules such as Numpy. I'll be wrapping the operation in a function named `mse` to be used later."
   ]
  },
  {
   "cell_type": "code",
   "execution_count": 33,
   "metadata": {},
   "outputs": [],
   "source": [
    "def mse(pred, true_val):\n",
    "    return (((pred - true_val)**2).sum())/10"
   ]
  },
  {
   "cell_type": "markdown",
   "metadata": {},
   "source": [
    "Moving onto forward selection, the way I've implemented this technique is as such; \n",
    "\n",
    "I'll have a list of candidate features to add to our model named `candidate_features`. Initially, this list is equal to all the possible features (in other words, all columns in our data). Then, I'll iterate over all of these candidate features one by one, retraining the model and calculating its performance on the validation dataset. The best feature will be selected to be added onto the model, and we'll repeat the process on the remaining features until our model performance no longer increases, or we run out of features.\n",
    "\n",
    "I'll have a list called `best_performing_features` which consists of the best features which will be updated at the end of each step. `best_performance` will also be updated."
   ]
  },
  {
   "cell_type": "code",
   "execution_count": 62,
   "metadata": {},
   "outputs": [
    {
     "name": "stdout",
     "output_type": "stream",
     "text": [
      "Adding feature: bmi\n",
      "Adding feature: s5\n",
      "Adding feature: bp\n",
      "Adding feature: s3\n",
      "Adding feature: s6\n",
      "No improvement! Stopping\n",
      "Selected features: \n",
      "['bmi', 's5', 'bp', 's3', 's6']\n",
      "Best model cost: 25712.165483674544\n"
     ]
    }
   ],
   "source": [
    "import numpy as np\n",
    "from sklearn.linear_model import LinearRegression\n",
    "from sklearn.model_selection import train_test_split\n",
    "\n",
    "candidate_features = list(df.columns.values)   # List all potential features\n",
    "best_candidate = None\n",
    "best_candidate_performance = np.inf\n",
    "\n",
    "# For logging best performing model so far\n",
    "best_performance = np.inf     # The less our model's \n",
    "best_performing_features = []\n",
    "\n",
    "# Splitting data into train/validation sets for (somewhat) accurate assessment  \n",
    "sel_train, sel_val = train_test_split(df, test_size=0.2, random_state=rand_seed)   \n",
    "train_label, val_label = train_test_split(labels, test_size=0.2, random_state=rand_seed)\n",
    "\n",
    "\n",
    "while len(candidate_features) > 0:\n",
    "    for candidate in candidate_features:\n",
    "        # Create subset of training dataset with selected features\n",
    "        current_features = best_performing_features + [candidate]\n",
    "        train_subset = sel_train[current_features]\n",
    "        \n",
    "        # Train linear regression model\n",
    "        reg = LinearRegression().fit(train_subset, train_label)\n",
    "        \n",
    "        # Get prediction on validation set\n",
    "        val_subset = sel_val[current_features]\n",
    "        pred = reg.predict(val_subset)\n",
    "        \n",
    "        # Get model performance using mse() defined above\n",
    "        cost = mse(pred, val_label)\n",
    "        if cost < best_candidate_performance:\n",
    "            best_candidate_performance = cost\n",
    "            best_candidate = candidate\n",
    "        \n",
    "    # Check if model has improved\n",
    "    if best_candidate is not None:\n",
    "        best_performing_features.append(best_candidate)\n",
    "        print(f\"Adding feature: {best_candidate}\")\n",
    "        candidate_features.remove(best_candidate)\n",
    "        best_performance = best_candidate_performance\n",
    "    \n",
    "    else:\n",
    "        print(\"No improvement! Stopping...\")\n",
    "        break\n",
    "        \n",
    "    # Reset loop\n",
    "    best_candidate = None\n",
    "    best_candidate_performance = best_performance\n",
    "\n",
    "print(\"Selected features: \")\n",
    "print(best_performing_features)\n",
    "print(f\"Best model cost: {best_performance}\")"
   ]
  },
  {
   "cell_type": "markdown",
   "metadata": {},
   "source": [
    "As predicted from the heatmap, features with high correlation were picked early and were used in the final model.\n",
    "\n",
    "\n",
    "### Backward Selection\n",
    "\n",
    "Backward selection is another form of stepwise regression that works in the opposite manor as forward selection, in that we first start off with *all possible features* and iterate over all of them one by one, removing a feature with each step until we can no longer remove any more features.\n",
    "\n",
    "\n",
    "At each step, we remove the feature that has the least impact on the model's performance until there are no more features that we can remove without statistically hurting the model performance.\n",
    "\n",
    "As for my implementation, my approach will be very similar to my implementation for forward selection, with the difference that I'll stop removing features when there are no features I can remove without increasing the model's cost by 1% of the previous model's cost."
   ]
  },
  {
   "cell_type": "code",
   "execution_count": 68,
   "metadata": {},
   "outputs": [
    {
     "name": "stdout",
     "output_type": "stream",
     "text": [
      "Removing feature: age\n",
      "Removing feature: s1\n",
      "Removing feature: s4\n",
      "Removing feature: s2\n",
      "Removing feature: sex\n",
      "Removing feature: s6\n",
      "Removing feature: s3\n",
      "Removing feature: bp\n",
      "No improvement! Stopping...\n",
      "Remaining features: \n",
      "['bmi', 's5']\n",
      "Best model cost: 27095.94712816843\n"
     ]
    }
   ],
   "source": [
    "remaining_features = list(df.columns.values)\n",
    "removed_features = []\n",
    "\n",
    "candidate_feature = None\n",
    "best_candidate_cost = np.inf\n",
    "\n",
    "prev_cost = np.inf\n",
    "\n",
    "while len(remaining_features) > 0:\n",
    "    for feat in remaining_features:\n",
    "        # Create subset of training dataset with selected features\n",
    "        features_to_drop = removed_features + [feat]\n",
    "        train_subset = sel_train.drop(columns=features_to_drop, axis=1)\n",
    "        \n",
    "        # Train linear regression model\n",
    "        reg = LinearRegression().fit(train_subset, train_label)\n",
    "        \n",
    "        # Get predictions on validation set\n",
    "        val_subset = sel_val.drop(columns=features_to_drop, axis=1)\n",
    "        pred = reg.predict(val_subset)\n",
    "        \n",
    "        # Get model performance using mse() defined above\n",
    "        cost = mse(pred, val_label)\n",
    "        if cost < best_candidate_cost:\n",
    "            best_candidate_cost = cost\n",
    "            candidate_feature = feat\n",
    "        \n",
    "    # Check if removing best feature is \"worth it\", e.g. 1% decrease\n",
    "    if best_candidate_cost - prev_cost < prev_cost * 0.05:\n",
    "        removed_features.append(candidate_feature)\n",
    "        remaining_features.remove(candidate_feature)\n",
    "        prev_cost = best_candidate_cost\n",
    "        print(f\"Removing feature: {candidate_feature}\")\n",
    "    else:\n",
    "        print(\"No improvement! Stopping...\")\n",
    "        break\n",
    "    \n",
    "    # Reset loop\n",
    "    candidate_feature = None\n",
    "    best_candidate_cost = np.inf\n",
    "\n",
    "print(\"Remaining features: \")\n",
    "print(remaining_features)\n",
    "print(f\"Best model cost: {prev_cost}\")"
   ]
  },
  {
   "cell_type": "markdown",
   "metadata": {},
   "source": [
    "*Sources:*\n",
    "- [Wikipedia: Stepwise Regression](https://en.wikipedia.org/wiki/Stepwise_regression)\n",
    "- [Statistics How To: Forward Selection](https://www.statisticshowto.com/forward-selection/#:~:text=Forward%20selection%20is%20a%20type,best%20improvement%20to%20your%20model.)\n",
    "- [Towards Data Science: Backward Elimination for Feature Selection in Machine Learning\n",
    "](https://towardsdatascience.com/backward-elimination-for-feature-selection-in-machine-learning-c6a3a8f8cef4)"
   ]
  },
  {
   "cell_type": "markdown",
   "metadata": {
    "id": "NY752vVH_VOF"
   },
   "source": [
    "# **Exercise 11:**"
   ]
  },
  {
   "cell_type": "markdown",
   "metadata": {
    "id": "gfNTfsxb_ZIl"
   },
   "source": [
    "## *Suppose the features in your training set have very different scales. Which algorithms (Gradient Descent, Normal Equation, SVD) might suffer from this, and how? What can you do about it?*"
   ]
  },
  {
   "cell_type": "markdown",
   "metadata": {},
   "source": [
    "In general, algorithms that look for differenced between data samples (e.g. distance, or similarities in the form of a scalar product) are sensitive to feature scales.\n",
    "\n",
    "Large features might cause large gradients, which in turn might make the calculated cost jump around a bit, making the process of convergence slower. Put differently; when different features have different scales, they might need different learning rates according to their data's scale. Putting all the features on the same scale (to be discussed in the following paragraphs) will help solve this problem. In more extreme cases, without feature scaling, there's a chance that gradient descent might not converge.\n",
    "\n",
    "\n",
    "In normal equation, feature scaling doesn't quite matter because of how the coefficients are calculated (i.e. matrix multiplication on the entire dataset). In other words, we're not using a numerical method, therefore feature scaling is not necessary.\n",
    "\n",
    "\n",
    "\n",
    "SVD is also sensitive to feature scaling, as if the features are not on the same scale, the algorithm might determine that the changes in smaller values are much more important than changes in the larger ones when this might not be the case, and it might just be a matter of two features being on vastly different scales.\n",
    "\n",
    "\n",
    "A potential solution for this sensitivity could be *feature scaling*. \n",
    "\n",
    "Feature scaling is normally done in one of two ways: **normalization** or **standardization**.\n",
    "\n",
    "*Normalization* takes the input values and modifies them so that they're between 0 and 1. *Standardization*  modify the feature values such that they have a mean of 0 and a standard deviation of 1.\n",
    "\n",
    "An example of a normalization method would be [min-max scaling](https://towardsdatascience.com/everything-you-need-to-know-about-min-max-normalization-in-python-b79592732b79), also known as rescaling, this method is considered to be the most simple of normalization methods. It scales the range of the features to `[0, 1]` or `[-1, 1]`. The general formula is as below:\n",
    "\n",
    "$$\n",
    "x′ = \\frac{x - min(x)}{max(x) - min(x)}\n",
    "$$\n",
    "\n",
    "Where $x$ is the original value and $x′$ is the normalized value. Scikit Learn has implemented this scaler [here](http://scikit-learn.org/stable/modules/generated/sklearn.preprocessing.MinMaxScaler.html).\n",
    "\n",
    "An example of a standardization method is [z-score normalization](https://www.statology.org/z-score-normalization/), which works by determining the distribution mean and standard deviation, and then subtracting the mean from each feature. The result of that is then divided by the standard deviation, effectively scaling the feature down to a mean of 0 and a SD of 1;\n",
    "\n",
    "$$\n",
    "x′ = \\frac{x - \\overline{x}}{σ}\n",
    "$$\n",
    "\n",
    "Where $\\overline{x}$ is the mean of that feature vector, and $\\sigma$ is the standard deviation. Scikit Learn has implemented this scaler [here](https://scikit-learn.org/stable/modules/generated/sklearn.preprocessing.StandardScaler.html).\n",
    "\n",
    "In gradient descent, *especially* stochastic gradient descent, feature scaling can sometimes help with making convergence faster, as it brings more stability into training.\n",
    "\n",
    "\n",
    "*Sources:*\n",
    "- [Wikipedia: Feature Scaling](https://en.wikipedia.org/wiki/Feature_scaling#:~:text=Methods-,Rescaling%20(min%2Dmax%20normalization),the%20nature%20of%20the%20data.)\n",
    "- [Baeldung CS: Feature Scaling](https://www.baeldung.com/cs/feature-scaling#:~:text=Feature%20Scaling%20involves%20modifying%20values,a%20standard%20deviation%20of%201.)\n",
    "- [CrossValidated StackExchange: SGD is sensitive to feature scaling](https://stats.stackexchange.com/questions/499398/sgd-is-sensitive-to-feature-scaling)\n",
    "- [CrossValidated StackExchange: What algorithms need feature scaling, beside from SVM?](https://stats.stackexchange.com/questions/244507/what-algorithms-need-feature-scaling-beside-from-svm)\n",
    "- [Analytics Vidhya: Why gradient descent doesn't converge with unscaled features?](https://medium.com/analytics-vidhya/why-gradient-descent-doesnt-converge-with-unscaled-features-8b7ed0c8cab6)\n",
    "- [StackOverflow: Should I perform data centering before apply SVD?](https://stackoverflow.com/questions/42024705/should-i-perform-data-centering-before-apply-svd)"
   ]
  },
  {
   "cell_type": "markdown",
   "metadata": {},
   "source": [
    "# **Exercise 12:**"
   ]
  },
  {
   "cell_type": "markdown",
   "metadata": {},
   "source": [
    "## *In this part, you are going to work with the News Popularity Prediction dataset. You will implement a regression model using the Scikit-Learn package to predict the popularity of new articles (the number of times they will be shared online) based on about 60 features. You are expected:*\n",
    "### - *Perform exploratory data analysis on the dataset.*"
   ]
  },
  {
   "cell_type": "markdown",
   "metadata": {},
   "source": [
    "> I'm using the [original site](https://archive.ics.uci.edu/ml/datasets/Online+News+Popularity) for sourcing the data.\n",
    "\n",
    "First thing I'll do is load the data and preview its contents with `head()`:"
   ]
  },
  {
   "cell_type": "code",
   "execution_count": 73,
   "metadata": {},
   "outputs": [
    {
     "data": {
      "text/html": [
       "<div>\n",
       "<style scoped>\n",
       "    .dataframe tbody tr th:only-of-type {\n",
       "        vertical-align: middle;\n",
       "    }\n",
       "\n",
       "    .dataframe tbody tr th {\n",
       "        vertical-align: top;\n",
       "    }\n",
       "\n",
       "    .dataframe thead th {\n",
       "        text-align: right;\n",
       "    }\n",
       "</style>\n",
       "<table border=\"1\" class=\"dataframe\">\n",
       "  <thead>\n",
       "    <tr style=\"text-align: right;\">\n",
       "      <th></th>\n",
       "      <th>url</th>\n",
       "      <th>timedelta</th>\n",
       "      <th>n_tokens_title</th>\n",
       "      <th>n_tokens_content</th>\n",
       "      <th>n_unique_tokens</th>\n",
       "      <th>n_non_stop_words</th>\n",
       "      <th>n_non_stop_unique_tokens</th>\n",
       "      <th>num_hrefs</th>\n",
       "      <th>num_self_hrefs</th>\n",
       "      <th>num_imgs</th>\n",
       "      <th>...</th>\n",
       "      <th>min_positive_polarity</th>\n",
       "      <th>max_positive_polarity</th>\n",
       "      <th>avg_negative_polarity</th>\n",
       "      <th>min_negative_polarity</th>\n",
       "      <th>max_negative_polarity</th>\n",
       "      <th>title_subjectivity</th>\n",
       "      <th>title_sentiment_polarity</th>\n",
       "      <th>abs_title_subjectivity</th>\n",
       "      <th>abs_title_sentiment_polarity</th>\n",
       "      <th>shares</th>\n",
       "    </tr>\n",
       "  </thead>\n",
       "  <tbody>\n",
       "    <tr>\n",
       "      <th>0</th>\n",
       "      <td>http://mashable.com/2013/01/07/amazon-instant-...</td>\n",
       "      <td>731.0</td>\n",
       "      <td>12.0</td>\n",
       "      <td>219.0</td>\n",
       "      <td>0.663594</td>\n",
       "      <td>1.0</td>\n",
       "      <td>0.815385</td>\n",
       "      <td>4.0</td>\n",
       "      <td>2.0</td>\n",
       "      <td>1.0</td>\n",
       "      <td>...</td>\n",
       "      <td>0.100000</td>\n",
       "      <td>0.7</td>\n",
       "      <td>-0.350000</td>\n",
       "      <td>-0.600</td>\n",
       "      <td>-0.200000</td>\n",
       "      <td>0.500000</td>\n",
       "      <td>-0.187500</td>\n",
       "      <td>0.000000</td>\n",
       "      <td>0.187500</td>\n",
       "      <td>593</td>\n",
       "    </tr>\n",
       "    <tr>\n",
       "      <th>1</th>\n",
       "      <td>http://mashable.com/2013/01/07/ap-samsung-spon...</td>\n",
       "      <td>731.0</td>\n",
       "      <td>9.0</td>\n",
       "      <td>255.0</td>\n",
       "      <td>0.604743</td>\n",
       "      <td>1.0</td>\n",
       "      <td>0.791946</td>\n",
       "      <td>3.0</td>\n",
       "      <td>1.0</td>\n",
       "      <td>1.0</td>\n",
       "      <td>...</td>\n",
       "      <td>0.033333</td>\n",
       "      <td>0.7</td>\n",
       "      <td>-0.118750</td>\n",
       "      <td>-0.125</td>\n",
       "      <td>-0.100000</td>\n",
       "      <td>0.000000</td>\n",
       "      <td>0.000000</td>\n",
       "      <td>0.500000</td>\n",
       "      <td>0.000000</td>\n",
       "      <td>711</td>\n",
       "    </tr>\n",
       "    <tr>\n",
       "      <th>2</th>\n",
       "      <td>http://mashable.com/2013/01/07/apple-40-billio...</td>\n",
       "      <td>731.0</td>\n",
       "      <td>9.0</td>\n",
       "      <td>211.0</td>\n",
       "      <td>0.575130</td>\n",
       "      <td>1.0</td>\n",
       "      <td>0.663866</td>\n",
       "      <td>3.0</td>\n",
       "      <td>1.0</td>\n",
       "      <td>1.0</td>\n",
       "      <td>...</td>\n",
       "      <td>0.100000</td>\n",
       "      <td>1.0</td>\n",
       "      <td>-0.466667</td>\n",
       "      <td>-0.800</td>\n",
       "      <td>-0.133333</td>\n",
       "      <td>0.000000</td>\n",
       "      <td>0.000000</td>\n",
       "      <td>0.500000</td>\n",
       "      <td>0.000000</td>\n",
       "      <td>1500</td>\n",
       "    </tr>\n",
       "    <tr>\n",
       "      <th>3</th>\n",
       "      <td>http://mashable.com/2013/01/07/astronaut-notre...</td>\n",
       "      <td>731.0</td>\n",
       "      <td>9.0</td>\n",
       "      <td>531.0</td>\n",
       "      <td>0.503788</td>\n",
       "      <td>1.0</td>\n",
       "      <td>0.665635</td>\n",
       "      <td>9.0</td>\n",
       "      <td>0.0</td>\n",
       "      <td>1.0</td>\n",
       "      <td>...</td>\n",
       "      <td>0.136364</td>\n",
       "      <td>0.8</td>\n",
       "      <td>-0.369697</td>\n",
       "      <td>-0.600</td>\n",
       "      <td>-0.166667</td>\n",
       "      <td>0.000000</td>\n",
       "      <td>0.000000</td>\n",
       "      <td>0.500000</td>\n",
       "      <td>0.000000</td>\n",
       "      <td>1200</td>\n",
       "    </tr>\n",
       "    <tr>\n",
       "      <th>4</th>\n",
       "      <td>http://mashable.com/2013/01/07/att-u-verse-apps/</td>\n",
       "      <td>731.0</td>\n",
       "      <td>13.0</td>\n",
       "      <td>1072.0</td>\n",
       "      <td>0.415646</td>\n",
       "      <td>1.0</td>\n",
       "      <td>0.540890</td>\n",
       "      <td>19.0</td>\n",
       "      <td>19.0</td>\n",
       "      <td>20.0</td>\n",
       "      <td>...</td>\n",
       "      <td>0.033333</td>\n",
       "      <td>1.0</td>\n",
       "      <td>-0.220192</td>\n",
       "      <td>-0.500</td>\n",
       "      <td>-0.050000</td>\n",
       "      <td>0.454545</td>\n",
       "      <td>0.136364</td>\n",
       "      <td>0.045455</td>\n",
       "      <td>0.136364</td>\n",
       "      <td>505</td>\n",
       "    </tr>\n",
       "  </tbody>\n",
       "</table>\n",
       "<p>5 rows × 61 columns</p>\n",
       "</div>"
      ],
      "text/plain": [
       "                                                 url   timedelta  \\\n",
       "0  http://mashable.com/2013/01/07/amazon-instant-...       731.0   \n",
       "1  http://mashable.com/2013/01/07/ap-samsung-spon...       731.0   \n",
       "2  http://mashable.com/2013/01/07/apple-40-billio...       731.0   \n",
       "3  http://mashable.com/2013/01/07/astronaut-notre...       731.0   \n",
       "4   http://mashable.com/2013/01/07/att-u-verse-apps/       731.0   \n",
       "\n",
       "    n_tokens_title   n_tokens_content   n_unique_tokens   n_non_stop_words  \\\n",
       "0             12.0              219.0          0.663594                1.0   \n",
       "1              9.0              255.0          0.604743                1.0   \n",
       "2              9.0              211.0          0.575130                1.0   \n",
       "3              9.0              531.0          0.503788                1.0   \n",
       "4             13.0             1072.0          0.415646                1.0   \n",
       "\n",
       "    n_non_stop_unique_tokens   num_hrefs   num_self_hrefs   num_imgs  ...  \\\n",
       "0                   0.815385         4.0              2.0        1.0  ...   \n",
       "1                   0.791946         3.0              1.0        1.0  ...   \n",
       "2                   0.663866         3.0              1.0        1.0  ...   \n",
       "3                   0.665635         9.0              0.0        1.0  ...   \n",
       "4                   0.540890        19.0             19.0       20.0  ...   \n",
       "\n",
       "    min_positive_polarity   max_positive_polarity   avg_negative_polarity  \\\n",
       "0                0.100000                     0.7               -0.350000   \n",
       "1                0.033333                     0.7               -0.118750   \n",
       "2                0.100000                     1.0               -0.466667   \n",
       "3                0.136364                     0.8               -0.369697   \n",
       "4                0.033333                     1.0               -0.220192   \n",
       "\n",
       "    min_negative_polarity   max_negative_polarity   title_subjectivity  \\\n",
       "0                  -0.600               -0.200000             0.500000   \n",
       "1                  -0.125               -0.100000             0.000000   \n",
       "2                  -0.800               -0.133333             0.000000   \n",
       "3                  -0.600               -0.166667             0.000000   \n",
       "4                  -0.500               -0.050000             0.454545   \n",
       "\n",
       "    title_sentiment_polarity   abs_title_subjectivity  \\\n",
       "0                  -0.187500                 0.000000   \n",
       "1                   0.000000                 0.500000   \n",
       "2                   0.000000                 0.500000   \n",
       "3                   0.000000                 0.500000   \n",
       "4                   0.136364                 0.045455   \n",
       "\n",
       "    abs_title_sentiment_polarity   shares  \n",
       "0                       0.187500      593  \n",
       "1                       0.000000      711  \n",
       "2                       0.000000     1500  \n",
       "3                       0.000000     1200  \n",
       "4                       0.136364      505  \n",
       "\n",
       "[5 rows x 61 columns]"
      ]
     },
     "execution_count": 73,
     "metadata": {},
     "output_type": "execute_result"
    }
   ],
   "source": [
    "import pandas as pd\n",
    "\n",
    "news_df = pd.read_csv('./data/OnlineNewsPopularity.csv')\n",
    "news_df.head()"
   ]
  },
  {
   "cell_type": "markdown",
   "metadata": {},
   "source": [
    "Judging by the [original dataset site](https://archive.ics.uci.edu/ml/datasets/Online+News+Popularity#) there are two non-predictive attributes, namely `url` and `timedelta`, which simply means that they do not play a role in our predictions, so before we do any data exploration we can safely drop these two columns."
   ]
  },
  {
   "cell_type": "code",
   "execution_count": 74,
   "metadata": {},
   "outputs": [],
   "source": [
    "news_df.drop(columns=[\"url\", \" timedelta\"], inplace=True, axis=1)"
   ]
  },
  {
   "cell_type": "code",
   "execution_count": 76,
   "metadata": {},
   "outputs": [
    {
     "data": {
      "text/html": [
       "<div>\n",
       "<style scoped>\n",
       "    .dataframe tbody tr th:only-of-type {\n",
       "        vertical-align: middle;\n",
       "    }\n",
       "\n",
       "    .dataframe tbody tr th {\n",
       "        vertical-align: top;\n",
       "    }\n",
       "\n",
       "    .dataframe thead th {\n",
       "        text-align: right;\n",
       "    }\n",
       "</style>\n",
       "<table border=\"1\" class=\"dataframe\">\n",
       "  <thead>\n",
       "    <tr style=\"text-align: right;\">\n",
       "      <th></th>\n",
       "      <th>n_tokens_title</th>\n",
       "      <th>n_tokens_content</th>\n",
       "      <th>n_unique_tokens</th>\n",
       "      <th>n_non_stop_words</th>\n",
       "      <th>n_non_stop_unique_tokens</th>\n",
       "      <th>num_hrefs</th>\n",
       "      <th>num_self_hrefs</th>\n",
       "      <th>num_imgs</th>\n",
       "      <th>num_videos</th>\n",
       "      <th>average_token_length</th>\n",
       "      <th>...</th>\n",
       "      <th>min_positive_polarity</th>\n",
       "      <th>max_positive_polarity</th>\n",
       "      <th>avg_negative_polarity</th>\n",
       "      <th>min_negative_polarity</th>\n",
       "      <th>max_negative_polarity</th>\n",
       "      <th>title_subjectivity</th>\n",
       "      <th>title_sentiment_polarity</th>\n",
       "      <th>abs_title_subjectivity</th>\n",
       "      <th>abs_title_sentiment_polarity</th>\n",
       "      <th>shares</th>\n",
       "    </tr>\n",
       "  </thead>\n",
       "  <tbody>\n",
       "    <tr>\n",
       "      <th>0</th>\n",
       "      <td>12.0</td>\n",
       "      <td>219.0</td>\n",
       "      <td>0.663594</td>\n",
       "      <td>1.0</td>\n",
       "      <td>0.815385</td>\n",
       "      <td>4.0</td>\n",
       "      <td>2.0</td>\n",
       "      <td>1.0</td>\n",
       "      <td>0.0</td>\n",
       "      <td>4.680365</td>\n",
       "      <td>...</td>\n",
       "      <td>0.100000</td>\n",
       "      <td>0.7</td>\n",
       "      <td>-0.350000</td>\n",
       "      <td>-0.600</td>\n",
       "      <td>-0.200000</td>\n",
       "      <td>0.500000</td>\n",
       "      <td>-0.187500</td>\n",
       "      <td>0.000000</td>\n",
       "      <td>0.187500</td>\n",
       "      <td>593</td>\n",
       "    </tr>\n",
       "    <tr>\n",
       "      <th>1</th>\n",
       "      <td>9.0</td>\n",
       "      <td>255.0</td>\n",
       "      <td>0.604743</td>\n",
       "      <td>1.0</td>\n",
       "      <td>0.791946</td>\n",
       "      <td>3.0</td>\n",
       "      <td>1.0</td>\n",
       "      <td>1.0</td>\n",
       "      <td>0.0</td>\n",
       "      <td>4.913725</td>\n",
       "      <td>...</td>\n",
       "      <td>0.033333</td>\n",
       "      <td>0.7</td>\n",
       "      <td>-0.118750</td>\n",
       "      <td>-0.125</td>\n",
       "      <td>-0.100000</td>\n",
       "      <td>0.000000</td>\n",
       "      <td>0.000000</td>\n",
       "      <td>0.500000</td>\n",
       "      <td>0.000000</td>\n",
       "      <td>711</td>\n",
       "    </tr>\n",
       "    <tr>\n",
       "      <th>2</th>\n",
       "      <td>9.0</td>\n",
       "      <td>211.0</td>\n",
       "      <td>0.575130</td>\n",
       "      <td>1.0</td>\n",
       "      <td>0.663866</td>\n",
       "      <td>3.0</td>\n",
       "      <td>1.0</td>\n",
       "      <td>1.0</td>\n",
       "      <td>0.0</td>\n",
       "      <td>4.393365</td>\n",
       "      <td>...</td>\n",
       "      <td>0.100000</td>\n",
       "      <td>1.0</td>\n",
       "      <td>-0.466667</td>\n",
       "      <td>-0.800</td>\n",
       "      <td>-0.133333</td>\n",
       "      <td>0.000000</td>\n",
       "      <td>0.000000</td>\n",
       "      <td>0.500000</td>\n",
       "      <td>0.000000</td>\n",
       "      <td>1500</td>\n",
       "    </tr>\n",
       "    <tr>\n",
       "      <th>3</th>\n",
       "      <td>9.0</td>\n",
       "      <td>531.0</td>\n",
       "      <td>0.503788</td>\n",
       "      <td>1.0</td>\n",
       "      <td>0.665635</td>\n",
       "      <td>9.0</td>\n",
       "      <td>0.0</td>\n",
       "      <td>1.0</td>\n",
       "      <td>0.0</td>\n",
       "      <td>4.404896</td>\n",
       "      <td>...</td>\n",
       "      <td>0.136364</td>\n",
       "      <td>0.8</td>\n",
       "      <td>-0.369697</td>\n",
       "      <td>-0.600</td>\n",
       "      <td>-0.166667</td>\n",
       "      <td>0.000000</td>\n",
       "      <td>0.000000</td>\n",
       "      <td>0.500000</td>\n",
       "      <td>0.000000</td>\n",
       "      <td>1200</td>\n",
       "    </tr>\n",
       "    <tr>\n",
       "      <th>4</th>\n",
       "      <td>13.0</td>\n",
       "      <td>1072.0</td>\n",
       "      <td>0.415646</td>\n",
       "      <td>1.0</td>\n",
       "      <td>0.540890</td>\n",
       "      <td>19.0</td>\n",
       "      <td>19.0</td>\n",
       "      <td>20.0</td>\n",
       "      <td>0.0</td>\n",
       "      <td>4.682836</td>\n",
       "      <td>...</td>\n",
       "      <td>0.033333</td>\n",
       "      <td>1.0</td>\n",
       "      <td>-0.220192</td>\n",
       "      <td>-0.500</td>\n",
       "      <td>-0.050000</td>\n",
       "      <td>0.454545</td>\n",
       "      <td>0.136364</td>\n",
       "      <td>0.045455</td>\n",
       "      <td>0.136364</td>\n",
       "      <td>505</td>\n",
       "    </tr>\n",
       "  </tbody>\n",
       "</table>\n",
       "<p>5 rows × 59 columns</p>\n",
       "</div>"
      ],
      "text/plain": [
       "    n_tokens_title   n_tokens_content   n_unique_tokens   n_non_stop_words  \\\n",
       "0             12.0              219.0          0.663594                1.0   \n",
       "1              9.0              255.0          0.604743                1.0   \n",
       "2              9.0              211.0          0.575130                1.0   \n",
       "3              9.0              531.0          0.503788                1.0   \n",
       "4             13.0             1072.0          0.415646                1.0   \n",
       "\n",
       "    n_non_stop_unique_tokens   num_hrefs   num_self_hrefs   num_imgs  \\\n",
       "0                   0.815385         4.0              2.0        1.0   \n",
       "1                   0.791946         3.0              1.0        1.0   \n",
       "2                   0.663866         3.0              1.0        1.0   \n",
       "3                   0.665635         9.0              0.0        1.0   \n",
       "4                   0.540890        19.0             19.0       20.0   \n",
       "\n",
       "    num_videos   average_token_length  ...   min_positive_polarity  \\\n",
       "0          0.0               4.680365  ...                0.100000   \n",
       "1          0.0               4.913725  ...                0.033333   \n",
       "2          0.0               4.393365  ...                0.100000   \n",
       "3          0.0               4.404896  ...                0.136364   \n",
       "4          0.0               4.682836  ...                0.033333   \n",
       "\n",
       "    max_positive_polarity   avg_negative_polarity   min_negative_polarity  \\\n",
       "0                     0.7               -0.350000                  -0.600   \n",
       "1                     0.7               -0.118750                  -0.125   \n",
       "2                     1.0               -0.466667                  -0.800   \n",
       "3                     0.8               -0.369697                  -0.600   \n",
       "4                     1.0               -0.220192                  -0.500   \n",
       "\n",
       "    max_negative_polarity   title_subjectivity   title_sentiment_polarity  \\\n",
       "0               -0.200000             0.500000                  -0.187500   \n",
       "1               -0.100000             0.000000                   0.000000   \n",
       "2               -0.133333             0.000000                   0.000000   \n",
       "3               -0.166667             0.000000                   0.000000   \n",
       "4               -0.050000             0.454545                   0.136364   \n",
       "\n",
       "    abs_title_subjectivity   abs_title_sentiment_polarity   shares  \n",
       "0                 0.000000                       0.187500      593  \n",
       "1                 0.500000                       0.000000      711  \n",
       "2                 0.500000                       0.000000     1500  \n",
       "3                 0.500000                       0.000000     1200  \n",
       "4                 0.045455                       0.136364      505  \n",
       "\n",
       "[5 rows x 59 columns]"
      ]
     },
     "execution_count": 76,
     "metadata": {},
     "output_type": "execute_result"
    }
   ],
   "source": [
    "news_df.head()"
   ]
  },
  {
   "cell_type": "markdown",
   "metadata": {},
   "source": [
    "Our target variable is the `shares` column; e.g. how many times a particular article has been shared.\n",
    "\n",
    "The challenge here is that there are many columns in this dataframe, and looking for any relationships in the data surely won't be as easy as simply creating a list of correlations between each column and visualizing it through a `sns.heatmap()`. \n",
    "\n",
    "We can look at a more concise and easy-to-read version of our list of columns, so we can have a better idea of what we're dealing with;"
   ]
  },
  {
   "cell_type": "code",
   "execution_count": 114,
   "metadata": {},
   "outputs": [
    {
     "data": {
      "text/plain": [
       "Index([' n_tokens_title', ' n_tokens_content', ' n_unique_tokens',\n",
       "       ' n_non_stop_words', ' n_non_stop_unique_tokens', ' num_hrefs',\n",
       "       ' num_self_hrefs', ' num_imgs', ' num_videos', ' average_token_length',\n",
       "       ' num_keywords', ' data_channel_is_lifestyle',\n",
       "       ' data_channel_is_entertainment', ' data_channel_is_bus',\n",
       "       ' data_channel_is_socmed', ' data_channel_is_tech',\n",
       "       ' data_channel_is_world', ' kw_min_min', ' kw_max_min', ' kw_avg_min',\n",
       "       ' kw_min_max', ' kw_max_max', ' kw_avg_max', ' kw_min_avg',\n",
       "       ' kw_max_avg', ' kw_avg_avg', ' self_reference_min_shares',\n",
       "       ' self_reference_max_shares', ' self_reference_avg_sharess',\n",
       "       ' weekday_is_monday', ' weekday_is_tuesday', ' weekday_is_wednesday',\n",
       "       ' weekday_is_thursday', ' weekday_is_friday', ' weekday_is_saturday',\n",
       "       ' weekday_is_sunday', ' is_weekend', ' LDA_00', ' LDA_01', ' LDA_02',\n",
       "       ' LDA_03', ' LDA_04', ' global_subjectivity',\n",
       "       ' global_sentiment_polarity', ' global_rate_positive_words',\n",
       "       ' global_rate_negative_words', ' rate_positive_words',\n",
       "       ' rate_negative_words', ' avg_positive_polarity',\n",
       "       ' min_positive_polarity', ' max_positive_polarity',\n",
       "       ' avg_negative_polarity', ' min_negative_polarity',\n",
       "       ' max_negative_polarity', ' title_subjectivity',\n",
       "       ' title_sentiment_polarity', ' abs_title_subjectivity',\n",
       "       ' abs_title_sentiment_polarity', ' shares'],\n",
       "      dtype='object')"
      ]
     },
     "execution_count": 114,
     "metadata": {},
     "output_type": "execute_result"
    }
   ],
   "source": [
    "news_df.columns"
   ]
  },
  {
   "cell_type": "code",
   "execution_count": null,
   "metadata": {},
   "outputs": [],
   "source": [
    "We can also use the builtin `describe()` method to have a better idea of what our columns look like;"
   ]
  },
  {
   "cell_type": "code",
   "execution_count": 113,
   "metadata": {},
   "outputs": [
    {
     "data": {
      "text/html": [
       "<div>\n",
       "<style scoped>\n",
       "    .dataframe tbody tr th:only-of-type {\n",
       "        vertical-align: middle;\n",
       "    }\n",
       "\n",
       "    .dataframe tbody tr th {\n",
       "        vertical-align: top;\n",
       "    }\n",
       "\n",
       "    .dataframe thead th {\n",
       "        text-align: right;\n",
       "    }\n",
       "</style>\n",
       "<table border=\"1\" class=\"dataframe\">\n",
       "  <thead>\n",
       "    <tr style=\"text-align: right;\">\n",
       "      <th></th>\n",
       "      <th>n_tokens_title</th>\n",
       "      <th>n_tokens_content</th>\n",
       "      <th>n_unique_tokens</th>\n",
       "      <th>n_non_stop_words</th>\n",
       "      <th>n_non_stop_unique_tokens</th>\n",
       "      <th>num_hrefs</th>\n",
       "      <th>num_self_hrefs</th>\n",
       "      <th>num_imgs</th>\n",
       "      <th>num_videos</th>\n",
       "      <th>average_token_length</th>\n",
       "      <th>...</th>\n",
       "      <th>min_positive_polarity</th>\n",
       "      <th>max_positive_polarity</th>\n",
       "      <th>avg_negative_polarity</th>\n",
       "      <th>min_negative_polarity</th>\n",
       "      <th>max_negative_polarity</th>\n",
       "      <th>title_subjectivity</th>\n",
       "      <th>title_sentiment_polarity</th>\n",
       "      <th>abs_title_subjectivity</th>\n",
       "      <th>abs_title_sentiment_polarity</th>\n",
       "      <th>shares</th>\n",
       "    </tr>\n",
       "  </thead>\n",
       "  <tbody>\n",
       "    <tr>\n",
       "      <th>count</th>\n",
       "      <td>39644.000000</td>\n",
       "      <td>39644.000000</td>\n",
       "      <td>39644.000000</td>\n",
       "      <td>39644.000000</td>\n",
       "      <td>39644.000000</td>\n",
       "      <td>39644.000000</td>\n",
       "      <td>39644.000000</td>\n",
       "      <td>39644.000000</td>\n",
       "      <td>39644.000000</td>\n",
       "      <td>39644.000000</td>\n",
       "      <td>...</td>\n",
       "      <td>39644.000000</td>\n",
       "      <td>39644.000000</td>\n",
       "      <td>39644.000000</td>\n",
       "      <td>39644.000000</td>\n",
       "      <td>39644.000000</td>\n",
       "      <td>39644.000000</td>\n",
       "      <td>39644.000000</td>\n",
       "      <td>39644.000000</td>\n",
       "      <td>39644.000000</td>\n",
       "      <td>39644.000000</td>\n",
       "    </tr>\n",
       "    <tr>\n",
       "      <th>mean</th>\n",
       "      <td>10.398749</td>\n",
       "      <td>546.514731</td>\n",
       "      <td>0.548216</td>\n",
       "      <td>0.996469</td>\n",
       "      <td>0.689175</td>\n",
       "      <td>10.883690</td>\n",
       "      <td>3.293638</td>\n",
       "      <td>4.544143</td>\n",
       "      <td>1.249874</td>\n",
       "      <td>4.548239</td>\n",
       "      <td>...</td>\n",
       "      <td>0.095446</td>\n",
       "      <td>0.756728</td>\n",
       "      <td>-0.259524</td>\n",
       "      <td>-0.521944</td>\n",
       "      <td>-0.107500</td>\n",
       "      <td>0.282353</td>\n",
       "      <td>0.071425</td>\n",
       "      <td>0.341843</td>\n",
       "      <td>0.156064</td>\n",
       "      <td>3395.380184</td>\n",
       "    </tr>\n",
       "    <tr>\n",
       "      <th>std</th>\n",
       "      <td>2.114037</td>\n",
       "      <td>471.107508</td>\n",
       "      <td>3.520708</td>\n",
       "      <td>5.231231</td>\n",
       "      <td>3.264816</td>\n",
       "      <td>11.332017</td>\n",
       "      <td>3.855141</td>\n",
       "      <td>8.309434</td>\n",
       "      <td>4.107855</td>\n",
       "      <td>0.844406</td>\n",
       "      <td>...</td>\n",
       "      <td>0.071315</td>\n",
       "      <td>0.247786</td>\n",
       "      <td>0.127726</td>\n",
       "      <td>0.290290</td>\n",
       "      <td>0.095373</td>\n",
       "      <td>0.324247</td>\n",
       "      <td>0.265450</td>\n",
       "      <td>0.188791</td>\n",
       "      <td>0.226294</td>\n",
       "      <td>11626.950749</td>\n",
       "    </tr>\n",
       "    <tr>\n",
       "      <th>min</th>\n",
       "      <td>2.000000</td>\n",
       "      <td>0.000000</td>\n",
       "      <td>0.000000</td>\n",
       "      <td>0.000000</td>\n",
       "      <td>0.000000</td>\n",
       "      <td>0.000000</td>\n",
       "      <td>0.000000</td>\n",
       "      <td>0.000000</td>\n",
       "      <td>0.000000</td>\n",
       "      <td>0.000000</td>\n",
       "      <td>...</td>\n",
       "      <td>0.000000</td>\n",
       "      <td>0.000000</td>\n",
       "      <td>-1.000000</td>\n",
       "      <td>-1.000000</td>\n",
       "      <td>-1.000000</td>\n",
       "      <td>0.000000</td>\n",
       "      <td>-1.000000</td>\n",
       "      <td>0.000000</td>\n",
       "      <td>0.000000</td>\n",
       "      <td>1.000000</td>\n",
       "    </tr>\n",
       "    <tr>\n",
       "      <th>25%</th>\n",
       "      <td>9.000000</td>\n",
       "      <td>246.000000</td>\n",
       "      <td>0.470870</td>\n",
       "      <td>1.000000</td>\n",
       "      <td>0.625739</td>\n",
       "      <td>4.000000</td>\n",
       "      <td>1.000000</td>\n",
       "      <td>1.000000</td>\n",
       "      <td>0.000000</td>\n",
       "      <td>4.478404</td>\n",
       "      <td>...</td>\n",
       "      <td>0.050000</td>\n",
       "      <td>0.600000</td>\n",
       "      <td>-0.328383</td>\n",
       "      <td>-0.700000</td>\n",
       "      <td>-0.125000</td>\n",
       "      <td>0.000000</td>\n",
       "      <td>0.000000</td>\n",
       "      <td>0.166667</td>\n",
       "      <td>0.000000</td>\n",
       "      <td>946.000000</td>\n",
       "    </tr>\n",
       "    <tr>\n",
       "      <th>50%</th>\n",
       "      <td>10.000000</td>\n",
       "      <td>409.000000</td>\n",
       "      <td>0.539226</td>\n",
       "      <td>1.000000</td>\n",
       "      <td>0.690476</td>\n",
       "      <td>8.000000</td>\n",
       "      <td>3.000000</td>\n",
       "      <td>1.000000</td>\n",
       "      <td>0.000000</td>\n",
       "      <td>4.664082</td>\n",
       "      <td>...</td>\n",
       "      <td>0.100000</td>\n",
       "      <td>0.800000</td>\n",
       "      <td>-0.253333</td>\n",
       "      <td>-0.500000</td>\n",
       "      <td>-0.100000</td>\n",
       "      <td>0.150000</td>\n",
       "      <td>0.000000</td>\n",
       "      <td>0.500000</td>\n",
       "      <td>0.000000</td>\n",
       "      <td>1400.000000</td>\n",
       "    </tr>\n",
       "    <tr>\n",
       "      <th>75%</th>\n",
       "      <td>12.000000</td>\n",
       "      <td>716.000000</td>\n",
       "      <td>0.608696</td>\n",
       "      <td>1.000000</td>\n",
       "      <td>0.754630</td>\n",
       "      <td>14.000000</td>\n",
       "      <td>4.000000</td>\n",
       "      <td>4.000000</td>\n",
       "      <td>1.000000</td>\n",
       "      <td>4.854839</td>\n",
       "      <td>...</td>\n",
       "      <td>0.100000</td>\n",
       "      <td>1.000000</td>\n",
       "      <td>-0.186905</td>\n",
       "      <td>-0.300000</td>\n",
       "      <td>-0.050000</td>\n",
       "      <td>0.500000</td>\n",
       "      <td>0.150000</td>\n",
       "      <td>0.500000</td>\n",
       "      <td>0.250000</td>\n",
       "      <td>2800.000000</td>\n",
       "    </tr>\n",
       "    <tr>\n",
       "      <th>max</th>\n",
       "      <td>23.000000</td>\n",
       "      <td>8474.000000</td>\n",
       "      <td>701.000000</td>\n",
       "      <td>1042.000000</td>\n",
       "      <td>650.000000</td>\n",
       "      <td>304.000000</td>\n",
       "      <td>116.000000</td>\n",
       "      <td>128.000000</td>\n",
       "      <td>91.000000</td>\n",
       "      <td>8.041534</td>\n",
       "      <td>...</td>\n",
       "      <td>1.000000</td>\n",
       "      <td>1.000000</td>\n",
       "      <td>0.000000</td>\n",
       "      <td>0.000000</td>\n",
       "      <td>0.000000</td>\n",
       "      <td>1.000000</td>\n",
       "      <td>1.000000</td>\n",
       "      <td>0.500000</td>\n",
       "      <td>1.000000</td>\n",
       "      <td>843300.000000</td>\n",
       "    </tr>\n",
       "  </tbody>\n",
       "</table>\n",
       "<p>8 rows × 59 columns</p>\n",
       "</div>"
      ],
      "text/plain": [
       "        n_tokens_title   n_tokens_content   n_unique_tokens  \\\n",
       "count     39644.000000       39644.000000      39644.000000   \n",
       "mean         10.398749         546.514731          0.548216   \n",
       "std           2.114037         471.107508          3.520708   \n",
       "min           2.000000           0.000000          0.000000   \n",
       "25%           9.000000         246.000000          0.470870   \n",
       "50%          10.000000         409.000000          0.539226   \n",
       "75%          12.000000         716.000000          0.608696   \n",
       "max          23.000000        8474.000000        701.000000   \n",
       "\n",
       "        n_non_stop_words   n_non_stop_unique_tokens     num_hrefs  \\\n",
       "count       39644.000000               39644.000000  39644.000000   \n",
       "mean            0.996469                   0.689175     10.883690   \n",
       "std             5.231231                   3.264816     11.332017   \n",
       "min             0.000000                   0.000000      0.000000   \n",
       "25%             1.000000                   0.625739      4.000000   \n",
       "50%             1.000000                   0.690476      8.000000   \n",
       "75%             1.000000                   0.754630     14.000000   \n",
       "max          1042.000000                 650.000000    304.000000   \n",
       "\n",
       "        num_self_hrefs      num_imgs    num_videos   average_token_length  \\\n",
       "count     39644.000000  39644.000000  39644.000000           39644.000000   \n",
       "mean          3.293638      4.544143      1.249874               4.548239   \n",
       "std           3.855141      8.309434      4.107855               0.844406   \n",
       "min           0.000000      0.000000      0.000000               0.000000   \n",
       "25%           1.000000      1.000000      0.000000               4.478404   \n",
       "50%           3.000000      1.000000      0.000000               4.664082   \n",
       "75%           4.000000      4.000000      1.000000               4.854839   \n",
       "max         116.000000    128.000000     91.000000               8.041534   \n",
       "\n",
       "       ...   min_positive_polarity   max_positive_polarity  \\\n",
       "count  ...            39644.000000            39644.000000   \n",
       "mean   ...                0.095446                0.756728   \n",
       "std    ...                0.071315                0.247786   \n",
       "min    ...                0.000000                0.000000   \n",
       "25%    ...                0.050000                0.600000   \n",
       "50%    ...                0.100000                0.800000   \n",
       "75%    ...                0.100000                1.000000   \n",
       "max    ...                1.000000                1.000000   \n",
       "\n",
       "        avg_negative_polarity   min_negative_polarity   max_negative_polarity  \\\n",
       "count            39644.000000            39644.000000            39644.000000   \n",
       "mean                -0.259524               -0.521944               -0.107500   \n",
       "std                  0.127726                0.290290                0.095373   \n",
       "min                 -1.000000               -1.000000               -1.000000   \n",
       "25%                 -0.328383               -0.700000               -0.125000   \n",
       "50%                 -0.253333               -0.500000               -0.100000   \n",
       "75%                 -0.186905               -0.300000               -0.050000   \n",
       "max                  0.000000                0.000000                0.000000   \n",
       "\n",
       "        title_subjectivity   title_sentiment_polarity  \\\n",
       "count         39644.000000               39644.000000   \n",
       "mean              0.282353                   0.071425   \n",
       "std               0.324247                   0.265450   \n",
       "min               0.000000                  -1.000000   \n",
       "25%               0.000000                   0.000000   \n",
       "50%               0.150000                   0.000000   \n",
       "75%               0.500000                   0.150000   \n",
       "max               1.000000                   1.000000   \n",
       "\n",
       "        abs_title_subjectivity   abs_title_sentiment_polarity         shares  \n",
       "count             39644.000000                   39644.000000   39644.000000  \n",
       "mean                  0.341843                       0.156064    3395.380184  \n",
       "std                   0.188791                       0.226294   11626.950749  \n",
       "min                   0.000000                       0.000000       1.000000  \n",
       "25%                   0.166667                       0.000000     946.000000  \n",
       "50%                   0.500000                       0.000000    1400.000000  \n",
       "75%                   0.500000                       0.250000    2800.000000  \n",
       "max                   0.500000                       1.000000  843300.000000  \n",
       "\n",
       "[8 rows x 59 columns]"
      ]
     },
     "execution_count": 113,
     "metadata": {},
     "output_type": "execute_result"
    }
   ],
   "source": [
    "news_df.describe()    # Won't show all the columns as there are too many, but it'll give us an idea"
   ]
  },
  {
   "cell_type": "markdown",
   "metadata": {},
   "source": [
    "We can cherry pick a few columns at a time and see where that gets us. \n",
    "\n",
    "First off, let's go for the obvious; how much the day of the week had an effect on an article's performance. We can do this with columns like `weekday_is_monday` all the way to `weekday_is_sunday`.\n",
    "\n",
    "This is done by making a new temporary dataframe consisting of two columns:\n",
    "- What day of the week it is\n",
    "- Total shares divided by number of articles — in other words, the average number of shares per weekday. By using the average, we can smooth out any outliers that may skew our data."
   ]
  },
  {
   "cell_type": "code",
   "execution_count": 154,
   "metadata": {},
   "outputs": [
    {
     "data": {
      "text/html": [
       "<div>\n",
       "<style scoped>\n",
       "    .dataframe tbody tr th:only-of-type {\n",
       "        vertical-align: middle;\n",
       "    }\n",
       "\n",
       "    .dataframe tbody tr th {\n",
       "        vertical-align: top;\n",
       "    }\n",
       "\n",
       "    .dataframe thead th {\n",
       "        text-align: right;\n",
       "    }\n",
       "</style>\n",
       "<table border=\"1\" class=\"dataframe\">\n",
       "  <thead>\n",
       "    <tr style=\"text-align: right;\">\n",
       "      <th></th>\n",
       "      <th>Weekday</th>\n",
       "      <th>Shares</th>\n",
       "    </tr>\n",
       "  </thead>\n",
       "  <tbody>\n",
       "    <tr>\n",
       "      <th>0</th>\n",
       "      <td>weekday_is_monday</td>\n",
       "      <td>3647.025822</td>\n",
       "    </tr>\n",
       "    <tr>\n",
       "      <th>1</th>\n",
       "      <td>weekday_is_tuesday</td>\n",
       "      <td>3202.500677</td>\n",
       "    </tr>\n",
       "    <tr>\n",
       "      <th>2</th>\n",
       "      <td>weekday_is_wednesday</td>\n",
       "      <td>3303.405380</td>\n",
       "    </tr>\n",
       "    <tr>\n",
       "      <th>3</th>\n",
       "      <td>weekday_is_thursday</td>\n",
       "      <td>3178.599147</td>\n",
       "    </tr>\n",
       "    <tr>\n",
       "      <th>4</th>\n",
       "      <td>weekday_is_friday</td>\n",
       "      <td>3285.181021</td>\n",
       "    </tr>\n",
       "    <tr>\n",
       "      <th>5</th>\n",
       "      <td>weekday_is_saturday</td>\n",
       "      <td>4078.185079</td>\n",
       "    </tr>\n",
       "    <tr>\n",
       "      <th>6</th>\n",
       "      <td>weekday_is_sunday</td>\n",
       "      <td>3746.740592</td>\n",
       "    </tr>\n",
       "  </tbody>\n",
       "</table>\n",
       "</div>"
      ],
      "text/plain": [
       "                 Weekday       Shares\n",
       "0      weekday_is_monday  3647.025822\n",
       "1     weekday_is_tuesday  3202.500677\n",
       "2   weekday_is_wednesday  3303.405380\n",
       "3    weekday_is_thursday  3178.599147\n",
       "4      weekday_is_friday  3285.181021\n",
       "5    weekday_is_saturday  4078.185079\n",
       "6      weekday_is_sunday  3746.740592"
      ]
     },
     "execution_count": 154,
     "metadata": {},
     "output_type": "execute_result"
    }
   ],
   "source": [
    "weekday_columns = [' weekday_is_monday', ' weekday_is_tuesday', ' weekday_is_wednesday', \n",
    "                   ' weekday_is_thursday', ' weekday_is_friday', ' weekday_is_saturday', \n",
    "                   ' weekday_is_sunday']\n",
    "avg_shares = [0. for _ in weekday_columns]\n",
    "\n",
    "weekday_df = pd.DataFrame({\"Weekday\": weekday_columns, \"Shares\": avg_shares})\n",
    "\n",
    "\n",
    "for i, col in enumerate(weekday_columns):\n",
    "    weekday_df.loc[i, \"Shares\"] = news_df[news_df[col] == 1.0][' shares'].mean()\n",
    "\n",
    "weekday_df"
   ]
  },
  {
   "cell_type": "code",
   "execution_count": 155,
   "metadata": {},
   "outputs": [
    {
     "data": {
      "text/plain": [
       "[Text(0, 0, 'monday'),\n",
       " Text(1, 0, 'tuesday'),\n",
       " Text(2, 0, 'wednesday'),\n",
       " Text(3, 0, 'thursday'),\n",
       " Text(4, 0, 'friday'),\n",
       " Text(5, 0, 'saturday'),\n",
       " Text(6, 0, 'sunday')]"
      ]
     },
     "execution_count": 155,
     "metadata": {},
     "output_type": "execute_result"
    },
    {
     "data": {
      "image/png": "[encoded data removed]",
      "text/plain": [
       "<Figure size 1000x600 with 1 Axes>"
      ]
     },
     "metadata": {},
     "output_type": "display_data"
    }
   ],
   "source": [
    "# Plot weekday_df\n",
    "x_ticks = [x.split(\"_\")[-1] for x in weekday_columns]\n",
    "plt.figure(figsize=(10, 6))\n",
    "plot = sns.barplot(x=weekday_df.Weekday, y=weekday_df.Shares)\n",
    "plot.set_xticklabels(x_ticks)"
   ]
  },
  {
   "cell_type": "markdown",
   "metadata": {},
   "source": [
    "Unfortunately, because the average number of shares is rather high, any relationship that *might* exist isn't very visible. To fix this, we can scale the values of the per-weekday shares using Min-Max Scaling (previously introduced in another question) before plotting the per-weekday average shares;"
   ]
  },
  {
   "cell_type": "code",
   "execution_count": 156,
   "metadata": {},
   "outputs": [
    {
     "data": {
      "text/html": [
       "<div>\n",
       "<style scoped>\n",
       "    .dataframe tbody tr th:only-of-type {\n",
       "        vertical-align: middle;\n",
       "    }\n",
       "\n",
       "    .dataframe tbody tr th {\n",
       "        vertical-align: top;\n",
       "    }\n",
       "\n",
       "    .dataframe thead th {\n",
       "        text-align: right;\n",
       "    }\n",
       "</style>\n",
       "<table border=\"1\" class=\"dataframe\">\n",
       "  <thead>\n",
       "    <tr style=\"text-align: right;\">\n",
       "      <th></th>\n",
       "      <th>Weekday</th>\n",
       "      <th>Shares</th>\n",
       "    </tr>\n",
       "  </thead>\n",
       "  <tbody>\n",
       "    <tr>\n",
       "      <th>0</th>\n",
       "      <td>weekday_is_monday</td>\n",
       "      <td>0.520714</td>\n",
       "    </tr>\n",
       "    <tr>\n",
       "      <th>1</th>\n",
       "      <td>weekday_is_tuesday</td>\n",
       "      <td>0.026569</td>\n",
       "    </tr>\n",
       "    <tr>\n",
       "      <th>2</th>\n",
       "      <td>weekday_is_wednesday</td>\n",
       "      <td>0.138737</td>\n",
       "    </tr>\n",
       "    <tr>\n",
       "      <th>3</th>\n",
       "      <td>weekday_is_thursday</td>\n",
       "      <td>0.000000</td>\n",
       "    </tr>\n",
       "    <tr>\n",
       "      <th>4</th>\n",
       "      <td>weekday_is_friday</td>\n",
       "      <td>0.118479</td>\n",
       "    </tr>\n",
       "    <tr>\n",
       "      <th>5</th>\n",
       "      <td>weekday_is_saturday</td>\n",
       "      <td>1.000000</td>\n",
       "    </tr>\n",
       "    <tr>\n",
       "      <th>6</th>\n",
       "      <td>weekday_is_sunday</td>\n",
       "      <td>0.631559</td>\n",
       "    </tr>\n",
       "  </tbody>\n",
       "</table>\n",
       "</div>"
      ],
      "text/plain": [
       "                 Weekday    Shares\n",
       "0      weekday_is_monday  0.520714\n",
       "1     weekday_is_tuesday  0.026569\n",
       "2   weekday_is_wednesday  0.138737\n",
       "3    weekday_is_thursday  0.000000\n",
       "4      weekday_is_friday  0.118479\n",
       "5    weekday_is_saturday  1.000000\n",
       "6      weekday_is_sunday  0.631559"
      ]
     },
     "execution_count": 156,
     "metadata": {},
     "output_type": "execute_result"
    }
   ],
   "source": [
    "from sklearn.preprocessing import MinMaxScaler\n",
    "\n",
    "scaler = MinMaxScaler()\n",
    "weekday_df.Shares = scaler.fit_transform(weekday_df.Shares.to_numpy().reshape(-1, 1))    # Fit scaler to Shares column\n",
    "\n",
    "weekday_df"
   ]
  },
  {
   "cell_type": "code",
   "execution_count": 159,
   "metadata": {},
   "outputs": [
    {
     "data": {
      "text/plain": [
       "[Text(0, 0, 'monday'),\n",
       " Text(1, 0, 'tuesday'),\n",
       " Text(2, 0, 'wednesday'),\n",
       " Text(3, 0, 'thursday'),\n",
       " Text(4, 0, 'friday'),\n",
       " Text(5, 0, 'saturday'),\n",
       " Text(6, 0, 'sunday')]"
      ]
     },
     "execution_count": 159,
     "metadata": {},
     "output_type": "execute_result"
    },
    {
     "data": {
      "image/png": "[encoded data removed]",
      "text/plain": [
       "<Figure size 640x480 with 1 Axes>"
      ]
     },
     "metadata": {},
     "output_type": "display_data"
    }
   ],
   "source": [
    "plot = sns.barplot(x=weekday_df.Weekday, y=weekday_df.Shares)\n",
    "plot.set_xticklabels(x_ticks)"
   ]
  },
  {
   "cell_type": "markdown",
   "metadata": {},
   "source": [
    "Now that we've scaled our data, we're able to view the relationship between the day of the week and the number of shares _much_ more clearly. There's a clear difference in shares, as the number of shares on a weekday such as Wednesday is only 20% the number of shares on a weekend such as Saturday.\n",
    "\n",
    "Another thing we can explore in a similar fashion would be the effect of different topics on the average number of shares. Thankfully, we have features such as `data_channel_is_lifestyle` that can help us with that task. We can refer to the [description of the dataset](https://archive.ics.uci.edu/ml/datasets/Online+News+Popularity) on the website the dataset was published on to learn what columns there are, and what each one represents.\n",
    "\n",
    "I'll be taking the columns that represent data channels and plotting them in a bar graph."
   ]
  },
  {
   "cell_type": "code",
   "execution_count": 166,
   "metadata": {},
   "outputs": [
    {
     "data": {
      "text/html": [
       "<div>\n",
       "<style scoped>\n",
       "    .dataframe tbody tr th:only-of-type {\n",
       "        vertical-align: middle;\n",
       "    }\n",
       "\n",
       "    .dataframe tbody tr th {\n",
       "        vertical-align: top;\n",
       "    }\n",
       "\n",
       "    .dataframe thead th {\n",
       "        text-align: right;\n",
       "    }\n",
       "</style>\n",
       "<table border=\"1\" class=\"dataframe\">\n",
       "  <thead>\n",
       "    <tr style=\"text-align: right;\">\n",
       "      <th></th>\n",
       "      <th>Channel</th>\n",
       "      <th>Shares</th>\n",
       "    </tr>\n",
       "  </thead>\n",
       "  <tbody>\n",
       "    <tr>\n",
       "      <th>0</th>\n",
       "      <td>data_channel_is_lifestyle</td>\n",
       "      <td>1.000000</td>\n",
       "    </tr>\n",
       "    <tr>\n",
       "      <th>1</th>\n",
       "      <td>data_channel_is_entertainment</td>\n",
       "      <td>0.489643</td>\n",
       "    </tr>\n",
       "    <tr>\n",
       "      <th>2</th>\n",
       "      <td>data_channel_is_bus</td>\n",
       "      <td>0.556003</td>\n",
       "    </tr>\n",
       "    <tr>\n",
       "      <th>3</th>\n",
       "      <td>data_channel_is_socmed</td>\n",
       "      <td>0.962177</td>\n",
       "    </tr>\n",
       "    <tr>\n",
       "      <th>4</th>\n",
       "      <td>data_channel_is_tech</td>\n",
       "      <td>0.562647</td>\n",
       "    </tr>\n",
       "    <tr>\n",
       "      <th>5</th>\n",
       "      <td>data_channel_is_world</td>\n",
       "      <td>0.000000</td>\n",
       "    </tr>\n",
       "  </tbody>\n",
       "</table>\n",
       "</div>"
      ],
      "text/plain": [
       "                          Channel    Shares\n",
       "0       data_channel_is_lifestyle  1.000000\n",
       "1   data_channel_is_entertainment  0.489643\n",
       "2             data_channel_is_bus  0.556003\n",
       "3          data_channel_is_socmed  0.962177\n",
       "4            data_channel_is_tech  0.562647\n",
       "5           data_channel_is_world  0.000000"
      ]
     },
     "execution_count": 166,
     "metadata": {},
     "output_type": "execute_result"
    }
   ],
   "source": [
    "channel_columns = [' data_channel_is_lifestyle', ' data_channel_is_entertainment', \n",
    "                   ' data_channel_is_bus', ' data_channel_is_socmed', ' data_channel_is_tech', \n",
    "                  ' data_channel_is_world']\n",
    "avg_shares = [0. for _ in channel_columns]\n",
    "\n",
    "# Construct topic-to-shares DataFrame\n",
    "channel_df = pd.DataFrame({\"Channel\": channel_columns, \"Shares\": avg_shares})\n",
    "\n",
    "# Fill in value of average shares\n",
    "for i, col in enumerate(channel_columns):\n",
    "    channel_df.loc[i, \"Shares\"] = news_df[news_df[col] == 1.0][' shares'].mean()\n",
    "\n",
    "# Scale values of Share column\n",
    "scaler = MinMaxScaler()\n",
    "channel_df.Shares = scaler.fit_transform(channel_df.Shares.to_numpy().reshape(-1, 1))    # Fit scaler to Shares column\n",
    "\n",
    "channel_df"
   ]
  },
  {
   "cell_type": "code",
   "execution_count": 168,
   "metadata": {},
   "outputs": [
    {
     "data": {
      "text/plain": [
       "[Text(0, 0, 'lifestyle'),\n",
       " Text(1, 0, 'entertainment'),\n",
       " Text(2, 0, 'bus'),\n",
       " Text(3, 0, 'socmed'),\n",
       " Text(4, 0, 'tech'),\n",
       " Text(5, 0, 'world')]"
      ]
     },
     "execution_count": 168,
     "metadata": {},
     "output_type": "execute_result"
    },
    {
     "data": {
      "image/png": "[encoded data removed]",
      "text/plain": [
       "<Figure size 640x480 with 1 Axes>"
      ]
     },
     "metadata": {},
     "output_type": "display_data"
    }
   ],
   "source": [
    "# Plot barplot\n",
    "x_ticks = [x.split(\"_\")[-1] for x in channel_columns]\n",
    "plot = sns.barplot(x=channel_df.Channel, y=channel_df.Shares)\n",
    "plot.set_xticklabels(x_ticks)"
   ]
  },
  {
   "cell_type": "markdown",
   "metadata": {},
   "source": [
    "Judging by the barplot above, we can easily come to the conclusion that if a specific article's data channel is lifestyle or social media, it's more likely it'll get more shares."
   ]
  },
  {
   "cell_type": "markdown",
   "metadata": {},
   "source": [
    "Next, let's check the relationship between the number of article shares and how positive or negative the article was.\n",
    "\n",
    "For this, we can check how positive/negative the article was in _general_ (both title and text taken into consideration) using the `global_sentiment_polarity` column"
   ]
  },
  {
   "cell_type": "code",
   "execution_count": 119,
   "metadata": {},
   "outputs": [
    {
     "data": {
      "text/plain": [
       "<Axes: xlabel=' global_sentiment_polarity', ylabel=' shares'>"
      ]
     },
     "execution_count": 119,
     "metadata": {},
     "output_type": "execute_result"
    },
    {
     "data": {
      "image/png": "[encoded data removed]",
      "text/plain": [
       "<Figure size 640x480 with 1 Axes>"
      ]
     },
     "metadata": {},
     "output_type": "display_data"
    }
   ],
   "source": [
    "sns.scatterplot(y=news_df[' shares'], x=news_df[' global_sentiment_polarity'])"
   ]
  },
  {
   "cell_type": "markdown",
   "metadata": {},
   "source": [
    "There's not _much_ we can glean, but there seems to be a clear trend where neutral articles are shared more.\n",
    "\n",
    "We can also add an extra variable to the scatter plot above, `title_sentiment_polarity` which indicates the \"mood\" of the article title. This way, we might gain some valuable insights (for example, if the difference in the title mood vs. the overall article has any relation to the number of shares)"
   ]
  },
  {
   "cell_type": "code",
   "execution_count": 121,
   "metadata": {},
   "outputs": [
    {
     "data": {
      "text/plain": [
       "<Axes: xlabel=' global_sentiment_polarity', ylabel=' shares'>"
      ]
     },
     "execution_count": 121,
     "metadata": {},
     "output_type": "execute_result"
    },
    {
     "data": {
      "image/png": "[encoded data removed]",
      "text/plain": [
       "<Figure size 640x480 with 1 Axes>"
      ]
     },
     "metadata": {},
     "output_type": "display_data"
    }
   ],
   "source": [
    "sns.scatterplot(y=news_df[' shares'], x=news_df[' global_sentiment_polarity'], hue=news_df[\" title_sentiment_polarity\"])"
   ]
  },
  {
   "cell_type": "markdown",
   "metadata": {},
   "source": [
    "No clear relation here.\n",
    "\n",
    "Something else that we _can_ do is bin the data of the global sentiment to two general categories: 'positive' and 'negative'. That way, we can separate the data more cleanly and look for any potential correlations in the data between sentiment and number of shares."
   ]
  },
  {
   "cell_type": "code",
   "execution_count": 182,
   "metadata": {},
   "outputs": [
    {
     "data": {
      "text/html": [
       "<div>\n",
       "<style scoped>\n",
       "    .dataframe tbody tr th:only-of-type {\n",
       "        vertical-align: middle;\n",
       "    }\n",
       "\n",
       "    .dataframe tbody tr th {\n",
       "        vertical-align: top;\n",
       "    }\n",
       "\n",
       "    .dataframe thead th {\n",
       "        text-align: right;\n",
       "    }\n",
       "</style>\n",
       "<table border=\"1\" class=\"dataframe\">\n",
       "  <thead>\n",
       "    <tr style=\"text-align: right;\">\n",
       "      <th></th>\n",
       "      <th>global_sentiment_polarity</th>\n",
       "      <th>shares</th>\n",
       "      <th>is_positive</th>\n",
       "    </tr>\n",
       "  </thead>\n",
       "  <tbody>\n",
       "    <tr>\n",
       "      <th>0</th>\n",
       "      <td>0.092562</td>\n",
       "      <td>593</td>\n",
       "      <td>True</td>\n",
       "    </tr>\n",
       "    <tr>\n",
       "      <th>1</th>\n",
       "      <td>0.148948</td>\n",
       "      <td>711</td>\n",
       "      <td>True</td>\n",
       "    </tr>\n",
       "    <tr>\n",
       "      <th>2</th>\n",
       "      <td>0.323333</td>\n",
       "      <td>1500</td>\n",
       "      <td>True</td>\n",
       "    </tr>\n",
       "    <tr>\n",
       "      <th>3</th>\n",
       "      <td>0.100705</td>\n",
       "      <td>1200</td>\n",
       "      <td>True</td>\n",
       "    </tr>\n",
       "    <tr>\n",
       "      <th>4</th>\n",
       "      <td>0.281003</td>\n",
       "      <td>505</td>\n",
       "      <td>True</td>\n",
       "    </tr>\n",
       "    <tr>\n",
       "      <th>...</th>\n",
       "      <td>...</td>\n",
       "      <td>...</td>\n",
       "      <td>...</td>\n",
       "    </tr>\n",
       "    <tr>\n",
       "      <th>39639</th>\n",
       "      <td>0.141964</td>\n",
       "      <td>1800</td>\n",
       "      <td>True</td>\n",
       "    </tr>\n",
       "    <tr>\n",
       "      <th>39640</th>\n",
       "      <td>0.194249</td>\n",
       "      <td>1900</td>\n",
       "      <td>True</td>\n",
       "    </tr>\n",
       "    <tr>\n",
       "      <th>39641</th>\n",
       "      <td>0.024609</td>\n",
       "      <td>1900</td>\n",
       "      <td>True</td>\n",
       "    </tr>\n",
       "    <tr>\n",
       "      <th>39642</th>\n",
       "      <td>-0.008066</td>\n",
       "      <td>1100</td>\n",
       "      <td>False</td>\n",
       "    </tr>\n",
       "    <tr>\n",
       "      <th>39643</th>\n",
       "      <td>0.104892</td>\n",
       "      <td>1300</td>\n",
       "      <td>True</td>\n",
       "    </tr>\n",
       "  </tbody>\n",
       "</table>\n",
       "<p>39644 rows × 3 columns</p>\n",
       "</div>"
      ],
      "text/plain": [
       "        global_sentiment_polarity   shares  is_positive\n",
       "0                        0.092562      593         True\n",
       "1                        0.148948      711         True\n",
       "2                        0.323333     1500         True\n",
       "3                        0.100705     1200         True\n",
       "4                        0.281003      505         True\n",
       "...                           ...      ...          ...\n",
       "39639                    0.141964     1800         True\n",
       "39640                    0.194249     1900         True\n",
       "39641                    0.024609     1900         True\n",
       "39642                   -0.008066     1100        False\n",
       "39643                    0.104892     1300         True\n",
       "\n",
       "[39644 rows x 3 columns]"
      ]
     },
     "execution_count": 182,
     "metadata": {},
     "output_type": "execute_result"
    }
   ],
   "source": [
    "sentiment_df = news_df.loc[:, [' global_sentiment_polarity', ' shares']]    # Get relevant columns from the main dataframe\n",
    "sentiment_df['is_positive'] = sentiment_df[' global_sentiment_polarity'] > 0\n",
    "sentiment_df"
   ]
  },
  {
   "cell_type": "code",
   "execution_count": 183,
   "metadata": {},
   "outputs": [
    {
     "name": "stderr",
     "output_type": "stream",
     "text": [
      "c:\\users\\saqi\\appdata\\local\\programs\\python\\python38\\lib\\site-packages\\seaborn\\categorical.py:3544: UserWarning: 59.6% of the points cannot be placed; you may want to decrease the size of the markers or use stripplot.\n",
      "  warnings.warn(msg, UserWarning)\n"
     ]
    },
    {
     "data": {
      "text/plain": [
       "<Axes: xlabel='is_positive', ylabel=' shares'>"
      ]
     },
     "execution_count": 183,
     "metadata": {},
     "output_type": "execute_result"
    },
    {
     "name": "stderr",
     "output_type": "stream",
     "text": [
      "c:\\users\\saqi\\appdata\\local\\programs\\python\\python38\\lib\\site-packages\\seaborn\\categorical.py:3544: UserWarning: 23.5% of the points cannot be placed; you may want to decrease the size of the markers or use stripplot.\n",
      "  warnings.warn(msg, UserWarning)\n",
      "c:\\users\\saqi\\appdata\\local\\programs\\python\\python38\\lib\\site-packages\\seaborn\\categorical.py:3544: UserWarning: 70.0% of the points cannot be placed; you may want to decrease the size of the markers or use stripplot.\n",
      "  warnings.warn(msg, UserWarning)\n"
     ]
    },
    {
     "data": {
      "image/png": "[encoded data removed]",
      "text/plain": [
       "<Figure size 640x480 with 1 Axes>"
      ]
     },
     "metadata": {},
     "output_type": "display_data"
    }
   ],
   "source": [
    "# Construct categorical scatter plot\n",
    "# However, there are a lot of points and plotting might take a very long time if we're not careful, so we'll only plot ~1000 points\n",
    "small_df = sentiment_df.iloc[::40]\n",
    "sns.swarmplot(data=small_df, x='is_positive', y=' shares')"
   ]
  },
  {
   "cell_type": "markdown",
   "metadata": {},
   "source": [
    "It appears that there's a slightly stronger relation between positive articles and number of shares, however, it might only *appear* this way (rather than actually being the truth) as there are a larger number of positive samples versus negative samples and the data may be skewed in `is_positive=True`'s favor.\n",
    "\n",
    "Another thing we can check is the correlation between the number of shares of the worst and best keyword per article versus total number of shares. This will tell us how much of a role that a keyword might've played in the shareability of a specific article.\n",
    "\n",
    "We can use a heatmap here to properly illustrate the correlations between each column."
   ]
  },
  {
   "cell_type": "code",
   "execution_count": 188,
   "metadata": {},
   "outputs": [],
   "source": [
    "keyword_columns = [' kw_min_min', ' kw_max_min', ' kw_avg_min', ' kw_min_max', \n",
    "                   ' kw_max_max', ' kw_avg_max', ' kw_min_avg', ' kw_max_avg', ' kw_avg_avg']\n",
    "\n",
    "keyword_df = news_df.loc[:, keyword_columns + [' shares']]"
   ]
  },
  {
   "cell_type": "code",
   "execution_count": 191,
   "metadata": {},
   "outputs": [
    {
     "data": {
      "text/plain": [
       "<Axes: >"
      ]
     },
     "execution_count": 191,
     "metadata": {},
     "output_type": "execute_result"
    },
    {
     "data": {
      "image/png": "[encoded data removed]",
      "text/plain": [
       "<Figure size 640x480 with 2 Axes>"
      ]
     },
     "metadata": {},
     "output_type": "display_data"
    }
   ],
   "source": [
    "corr = keyword_df.corr()\n",
    "\n",
    "sns.heatmap(corr, annot=True)"
   ]
  },
  {
   "cell_type": "markdown",
   "metadata": {},
   "source": [
    "While there doesn't seem to be a clear correlation between the number of shares and how many times a specific keyword has been shared, there's a clear correlation between how many times different keywords have been shared in a specific article. \n",
    "\n",
    "For instance, there is a strong negative correlation between the max number of shares for the best keyword and the minimum number of shares for the worst keyword, but also a very strong positive correlation between the minimum number of shares for the average number of shares for the worst keyword and the maximum number of shares for the worst keyword. In other words, the higher the maximum, the higher the average. However, due to the nature of the feature, this was already obvious, and it doesn't tell us much.\n",
    "\n",
    "Lastly, we can check and see if the number of images and videos in a specific article plays any role in the number of shares. We can check this with a correlation heatmap;"
   ]
  },
  {
   "cell_type": "code",
   "execution_count": 193,
   "metadata": {},
   "outputs": [
    {
     "data": {
      "text/html": [
       "<div>\n",
       "<style scoped>\n",
       "    .dataframe tbody tr th:only-of-type {\n",
       "        vertical-align: middle;\n",
       "    }\n",
       "\n",
       "    .dataframe tbody tr th {\n",
       "        vertical-align: top;\n",
       "    }\n",
       "\n",
       "    .dataframe thead th {\n",
       "        text-align: right;\n",
       "    }\n",
       "</style>\n",
       "<table border=\"1\" class=\"dataframe\">\n",
       "  <thead>\n",
       "    <tr style=\"text-align: right;\">\n",
       "      <th></th>\n",
       "      <th>num_imgs</th>\n",
       "      <th>num_videos</th>\n",
       "      <th>shares</th>\n",
       "    </tr>\n",
       "  </thead>\n",
       "  <tbody>\n",
       "    <tr>\n",
       "      <th>0</th>\n",
       "      <td>1.0</td>\n",
       "      <td>0.0</td>\n",
       "      <td>593</td>\n",
       "    </tr>\n",
       "    <tr>\n",
       "      <th>1</th>\n",
       "      <td>1.0</td>\n",
       "      <td>0.0</td>\n",
       "      <td>711</td>\n",
       "    </tr>\n",
       "    <tr>\n",
       "      <th>2</th>\n",
       "      <td>1.0</td>\n",
       "      <td>0.0</td>\n",
       "      <td>1500</td>\n",
       "    </tr>\n",
       "    <tr>\n",
       "      <th>3</th>\n",
       "      <td>1.0</td>\n",
       "      <td>0.0</td>\n",
       "      <td>1200</td>\n",
       "    </tr>\n",
       "    <tr>\n",
       "      <th>4</th>\n",
       "      <td>20.0</td>\n",
       "      <td>0.0</td>\n",
       "      <td>505</td>\n",
       "    </tr>\n",
       "    <tr>\n",
       "      <th>...</th>\n",
       "      <td>...</td>\n",
       "      <td>...</td>\n",
       "      <td>...</td>\n",
       "    </tr>\n",
       "    <tr>\n",
       "      <th>39639</th>\n",
       "      <td>1.0</td>\n",
       "      <td>1.0</td>\n",
       "      <td>1800</td>\n",
       "    </tr>\n",
       "    <tr>\n",
       "      <th>39640</th>\n",
       "      <td>3.0</td>\n",
       "      <td>48.0</td>\n",
       "      <td>1900</td>\n",
       "    </tr>\n",
       "    <tr>\n",
       "      <th>39641</th>\n",
       "      <td>12.0</td>\n",
       "      <td>1.0</td>\n",
       "      <td>1900</td>\n",
       "    </tr>\n",
       "    <tr>\n",
       "      <th>39642</th>\n",
       "      <td>1.0</td>\n",
       "      <td>0.0</td>\n",
       "      <td>1100</td>\n",
       "    </tr>\n",
       "    <tr>\n",
       "      <th>39643</th>\n",
       "      <td>0.0</td>\n",
       "      <td>2.0</td>\n",
       "      <td>1300</td>\n",
       "    </tr>\n",
       "  </tbody>\n",
       "</table>\n",
       "<p>39644 rows × 3 columns</p>\n",
       "</div>"
      ],
      "text/plain": [
       "        num_imgs   num_videos   shares\n",
       "0            1.0          0.0      593\n",
       "1            1.0          0.0      711\n",
       "2            1.0          0.0     1500\n",
       "3            1.0          0.0     1200\n",
       "4           20.0          0.0      505\n",
       "...          ...          ...      ...\n",
       "39639        1.0          1.0     1800\n",
       "39640        3.0         48.0     1900\n",
       "39641       12.0          1.0     1900\n",
       "39642        1.0          0.0     1100\n",
       "39643        0.0          2.0     1300\n",
       "\n",
       "[39644 rows x 3 columns]"
      ]
     },
     "execution_count": 193,
     "metadata": {},
     "output_type": "execute_result"
    }
   ],
   "source": [
    "media_cols = [\" num_imgs\", ' num_videos']\n",
    "\n",
    "media_df = news_df.loc[:, media_cols + [\" shares\"]]\n",
    "\n",
    "media_df"
   ]
  },
  {
   "cell_type": "code",
   "execution_count": 195,
   "metadata": {},
   "outputs": [
    {
     "data": {
      "text/plain": [
       "<Axes: >"
      ]
     },
     "execution_count": 195,
     "metadata": {},
     "output_type": "execute_result"
    },
    {
     "data": {
      "image/png": "[encoded data removed]",
      "text/plain": [
       "<Figure size 640x480 with 2 Axes>"
      ]
     },
     "metadata": {},
     "output_type": "display_data"
    }
   ],
   "source": [
    "corr = media_df.corr()\n",
    "\n",
    "sns.heatmap(corr, annot=True)"
   ]
  },
  {
   "cell_type": "markdown",
   "metadata": {},
   "source": [
    "Again, there's no obvious relation (save for the fact that it's slightly less likely that we'll have a lot of images in an article with a high number of videos), but we can further illustrate any potential relationships;"
   ]
  },
  {
   "cell_type": "code",
   "execution_count": 207,
   "metadata": {},
   "outputs": [
    {
     "data": {
      "text/plain": [
       "Text(0.5, 0, '# of Media')"
      ]
     },
     "execution_count": 207,
     "metadata": {},
     "output_type": "execute_result"
    },
    {
     "data": {
      "image/png": "[encoded data removed]",
      "text/plain": [
       "<Figure size 640x480 with 1 Axes>"
      ]
     },
     "metadata": {},
     "output_type": "display_data"
    }
   ],
   "source": [
    "plt = sns.lineplot(x=media_df[\" num_imgs\"], y=media_df[\" shares\"])\n",
    "sns.lineplot(x=media_df[\" num_videos\"], y=media_df[\" shares\"])\n",
    "\n",
    "plt.set_xlabel(\"# of Media\")"
   ]
  },
  {
   "cell_type": "markdown",
   "metadata": {},
   "source": [
    "No clear relation here either. \n",
    "\n",
    "\n",
    "### - *Propose 5 different hypothesis tests related to the dataset. At least use 3 different tests.*\n",
    "\n",
    "*Hypothesis testing* refers to the process of conducting analysis on a data sample to be able to make inferences about the overall data. Usually we're checking for one thing at a time and making inferences based on the values obtained from various statistical calculations. These inferences either validate assumptions we've made about our data or negate them.\n",
    "\n",
    "Hypothesis testing is incredibly useful, because the insights it gives us can help us work with our data better; if statistical pre-processing is needed, if we should remove unnecessary features and etc.\n",
    "\n",
    "The main steps for performing hypothesis tests are as such:\n",
    "\n",
    "1. Formulate a hypothesis\n",
    "2. Determine the significance level\n",
    "3. Determine the type of test\n",
    "4. Calculate the test statistic values and the p-values\n",
    "5. Make a decision from the results of this test.\n",
    "\n",
    "In hypothesis testing, there are two important parameters:\n",
    "- *Null hypothesis* ($H_0$): The null hypothesis is a general statement that there is no relationship or association among groups. \n",
    "- *Alternative hypothesis* ($H_1$): The hypothesis contrary to the null hypothesis.\n",
    "\n",
    "The aforementioned level of significance refers to the degree of significance that we reject or accept the null hypothesis. \n",
    "100% accuracy is not possible, therefore, our level of significance is usually around 5% — in other words, we're 95% confident in our new assumption.\n",
    "\n",
    "> Another definition of note is the **p value**. This is the calculated probability that our null hypothesis $H_0$ is true. If our p-value is less than our level of significance we can reject our null hypothesis and assume our alternative hypothesis is true."
   ]
  },
  {
   "cell_type": "code",
   "execution_count": 237,
   "metadata": {},
   "outputs": [],
   "source": [
    "# The level of significance we'll be using for the remainder of this section of Exercise 12\n",
    "level_of_significance = 0.05    # 5%"
   ]
  },
  {
   "cell_type": "markdown",
   "metadata": {},
   "source": [
    "For these statistical tests, I'll be using the [Scipy](https://scipy.org/) python module, a well-known library for scientific and technical computing.\n",
    "\n",
    "\n",
    "#### 1. Normal Distribution: Anderson-Darling Test\n",
    "\n",
    "From Wikipedia, the [Anderson-Darling test](https://en.wikipedia.org/wiki/Anderson%E2%80%93Darling_test) is a test to see if a given sample of data is drawn from a given probability distribution, such as a Gausian distribution. \n",
    "\n",
    "The assumption for this test is that the observations in each sample are independent and identically distributed. Therefore, for our null and alternative test is as such:\n",
    "\n",
    "- $H_0$: The sample has a Gaussian distribution\n",
    "- $H_1$: The sample does not have a Gaussian distribution.\n",
    "\n",
    "To calculate this, I'll be using Scipy's [`anderson`](https://docs.scipy.org/doc/scipy/reference/generated/scipy.stats.anderson.html) method. This method takes two parameters:\n",
    "- `x`: The array of sample data. In this example, we'll be passing in our data's `shares` column.\n",
    "- `dist`: The type of distribution to test against. The default value is 'norm', as in a normal distribution, and is the distribution we are testing against.\n",
    "\n",
    "I'll be testing this on every column in our dataframe to see which ones have a normal distribution."
   ]
  },
  {
   "cell_type": "code",
   "execution_count": 229,
   "metadata": {},
   "outputs": [],
   "source": [
    "from scipy.stats import anderson \n",
    "\n",
    "# Loop over every column\n",
    "for col in news_df.columns:\n",
    "    result = anderson(news_df[col])\n",
    "     # The second index of the critical values corresponds to a level of significance of 5%, as per the documentation\n",
    "    if result.statistic < result.critical_values[2]:   \n",
    "        print(f\"Column {col} probably has a normal distribution.\")"
   ]
  },
  {
   "cell_type": "markdown",
   "metadata": {},
   "source": [
    "\n",
    "#### 2. Correlation: Pearson's Correlation Coefficient\n",
    "\n",
    "The [Pearson correlation coefficient (PCC)](https://en.wikipedia.org/wiki/Pearson_correlation_coefficient), also known as the bivariate correlation measures the linear correlation between two sets of data. The formula for calculation the correlation between two sets of data $X$ and $Y$ is as such:\n",
    "\n",
    "$$\n",
    "\\rho_{X,Y} = \\frac{cov(X, Y)}{\\sigma_X \\sigma_Y}\n",
    "$$\n",
    "\n",
    "Where $cov$ is the covariance, $\\sigma_X$ and $\\sigma_Y$ are the standard deviations of X and Y respectably. \n",
    "\n",
    "Pearson correlation has a number of assumptions;\n",
    "- The observations in each sample are independent and identically distributed\n",
    "- The observations in each sample are normally distributed\n",
    "- The observations in each sample have the same variance.\n",
    "\n",
    "So that our null and alternative hypothesis are as follows:\n",
    "\n",
    "- $H_0$: The two samples are independent, normally distributed and have the same variance\n",
    "- $H_1$: There is a dependency between the samples or another one of the assumptions above does not hold\n",
    "\n",
    "I'll look to calculate the pearson correlation between different features and the `num_imgs` feature. In other words, does a specific column play a role in the number of images an article has?\n",
    "\n",
    "To calculate this, I'll be using Scipy's [`pearsonr`](https://docs.scipy.org/doc/scipy/reference/generated/scipy.stats.pearsonr.html) method. "
   ]
  },
  {
   "cell_type": "code",
   "execution_count": 239,
   "metadata": {},
   "outputs": [
    {
     "name": "stdout",
     "output_type": "stream",
     "text": [
      "Columns  n_tokens_title and num_imgs are most likely independent\n",
      "Columns  n_tokens_content and num_imgs are most likely correlated\n",
      "Columns  n_unique_tokens and num_imgs are most likely correlated\n",
      "Columns  n_non_stop_words and num_imgs are most likely correlated\n",
      "Columns  n_non_stop_unique_tokens and num_imgs are most likely correlated\n",
      "Columns  num_hrefs and num_imgs are most likely correlated\n",
      "Columns  num_self_hrefs and num_imgs are most likely correlated\n",
      "Columns  num_imgs and num_imgs are most likely correlated\n",
      "Columns  num_videos and num_imgs are most likely correlated\n",
      "Columns  average_token_length and num_imgs are most likely correlated\n",
      "Columns  num_keywords and num_imgs are most likely correlated\n",
      "Columns  data_channel_is_lifestyle and num_imgs are most likely correlated\n",
      "Columns  data_channel_is_entertainment and num_imgs are most likely correlated\n",
      "Columns  data_channel_is_bus and num_imgs are most likely correlated\n",
      "Columns  data_channel_is_socmed and num_imgs are most likely independent\n",
      "Columns  data_channel_is_tech and num_imgs are most likely independent\n",
      "Columns  data_channel_is_world and num_imgs are most likely correlated\n",
      "Columns  kw_min_min and num_imgs are most likely correlated\n",
      "Columns  kw_max_min and num_imgs are most likely independent\n",
      "Columns  kw_avg_min and num_imgs are most likely independent\n",
      "Columns  kw_min_max and num_imgs are most likely independent\n",
      "Columns  kw_max_max and num_imgs are most likely correlated\n",
      "Columns  kw_avg_max and num_imgs are most likely independent\n",
      "Columns  kw_min_avg and num_imgs are most likely correlated\n",
      "Columns  kw_max_avg and num_imgs are most likely correlated\n",
      "Columns  kw_avg_avg and num_imgs are most likely correlated\n",
      "Columns  self_reference_min_shares and num_imgs are most likely independent\n",
      "Columns  self_reference_max_shares and num_imgs are most likely correlated\n",
      "Columns  self_reference_avg_sharess and num_imgs are most likely correlated\n",
      "Columns  weekday_is_monday and num_imgs are most likely independent\n",
      "Columns  weekday_is_tuesday and num_imgs are most likely independent\n",
      "Columns  weekday_is_wednesday and num_imgs are most likely correlated\n",
      "Columns  weekday_is_thursday and num_imgs are most likely independent\n",
      "Columns  weekday_is_friday and num_imgs are most likely independent\n",
      "Columns  weekday_is_saturday and num_imgs are most likely correlated\n",
      "Columns  weekday_is_sunday and num_imgs are most likely correlated\n",
      "Columns  is_weekend and num_imgs are most likely correlated\n",
      "Columns  LDA_00 and num_imgs are most likely correlated\n",
      "Columns  LDA_01 and num_imgs are most likely correlated\n",
      "Columns  LDA_02 and num_imgs are most likely correlated\n",
      "Columns  LDA_03 and num_imgs are most likely correlated\n",
      "Columns  LDA_04 and num_imgs are most likely correlated\n",
      "Columns  global_subjectivity and num_imgs are most likely correlated\n",
      "Columns  global_sentiment_polarity and num_imgs are most likely correlated\n",
      "Columns  global_rate_positive_words and num_imgs are most likely correlated\n",
      "Columns  global_rate_negative_words and num_imgs are most likely correlated\n",
      "Columns  rate_positive_words and num_imgs are most likely correlated\n",
      "Columns  rate_negative_words and num_imgs are most likely correlated\n",
      "Columns  avg_positive_polarity and num_imgs are most likely correlated\n",
      "Columns  min_positive_polarity and num_imgs are most likely correlated\n",
      "Columns  max_positive_polarity and num_imgs are most likely correlated\n",
      "Columns  avg_negative_polarity and num_imgs are most likely correlated\n",
      "Columns  min_negative_polarity and num_imgs are most likely correlated\n",
      "Columns  max_negative_polarity and num_imgs are most likely correlated\n",
      "Columns  title_subjectivity and num_imgs are most likely correlated\n",
      "Columns  title_sentiment_polarity and num_imgs are most likely correlated\n",
      "Columns  abs_title_subjectivity and num_imgs are most likely correlated\n",
      "Columns  abs_title_sentiment_polarity and num_imgs are most likely correlated\n",
      "Columns  shares and num_imgs are most likely correlated\n"
     ]
    }
   ],
   "source": [
    "from scipy.stats import pearsonr\n",
    "\n",
    "for col in news_df.columns:\n",
    "    stat, p = pearsonr(news_df[col], news_df[' num_imgs'])\n",
    "    if p > level_of_significance:\n",
    "        print(f\"Columns {col} and num_imgs are most likely independent\")\n",
    "    else:\n",
    "        print(f\"Columns {col} and num_imgs are most likely correlated\")"
   ]
  },
  {
   "cell_type": "markdown",
   "metadata": {},
   "source": [
    "#### 3. Correlation: Kendall's Rank Correlation\n",
    "\n",
    "Similarly, we can use [Kendall's Rank Correlation](https://en.wikipedia.org/wiki/Kendall_rank_correlation_coefficient) to check and see if two samples have a monotonic relationship or not. This test is considered to be [`nonparametric`](https://en.wikipedia.org/wiki/Nonparametric_statistics), meaning that it does not need the distribution to meet an assumption to be properly analyzed.\n",
    "> Nonparametric tests are also sometimes called distribution-free tests for this very same reason.\n",
    "\n",
    "Our assumptions are as follows:\n",
    "- $H_0$: The two features are independent\n",
    "- $H_1$: The two features are dependent on one another\n",
    "\n",
    "We can use Scipy's [`kendalltau`](https://docs.scipy.org/doc/scipy/reference/generated/scipy.stats.kendalltau.html) to calculate if `title_subjectivity` and other columns are related or not.\n"
   ]
  },
  {
   "cell_type": "code",
   "execution_count": 240,
   "metadata": {},
   "outputs": [
    {
     "name": "stdout",
     "output_type": "stream",
     "text": [
      "Columns  n_tokens_title and title_subjectivity are most likely correlated\n",
      "Columns  n_tokens_content and title_subjectivity are most likely independent\n",
      "Columns  n_unique_tokens and title_subjectivity are most likely independent\n",
      "Columns  n_non_stop_words and title_subjectivity are most likely independent\n",
      "Columns  n_non_stop_unique_tokens and title_subjectivity are most likely independent\n",
      "Columns  num_hrefs and title_subjectivity are most likely correlated\n",
      "Columns  num_self_hrefs and title_subjectivity are most likely correlated\n",
      "Columns  num_imgs and title_subjectivity are most likely correlated\n",
      "Columns  num_videos and title_subjectivity are most likely correlated\n",
      "Columns  average_token_length and title_subjectivity are most likely correlated\n",
      "Columns  num_keywords and title_subjectivity are most likely correlated\n",
      "Columns  data_channel_is_lifestyle and title_subjectivity are most likely independent\n",
      "Columns  data_channel_is_entertainment and title_subjectivity are most likely correlated\n",
      "Columns  data_channel_is_bus and title_subjectivity are most likely correlated\n",
      "Columns  data_channel_is_socmed and title_subjectivity are most likely correlated\n",
      "Columns  data_channel_is_tech and title_subjectivity are most likely correlated\n",
      "Columns  data_channel_is_world and title_subjectivity are most likely correlated\n",
      "Columns  kw_min_min and title_subjectivity are most likely independent\n",
      "Columns  kw_max_min and title_subjectivity are most likely correlated\n",
      "Columns  kw_avg_min and title_subjectivity are most likely correlated\n",
      "Columns  kw_min_max and title_subjectivity are most likely correlated\n",
      "Columns  kw_max_max and title_subjectivity are most likely independent\n",
      "Columns  kw_avg_max and title_subjectivity are most likely correlated\n",
      "Columns  kw_min_avg and title_subjectivity are most likely correlated\n",
      "Columns  kw_max_avg and title_subjectivity are most likely correlated\n",
      "Columns  kw_avg_avg and title_subjectivity are most likely correlated\n",
      "Columns  self_reference_min_shares and title_subjectivity are most likely independent\n",
      "Columns  self_reference_max_shares and title_subjectivity are most likely correlated\n",
      "Columns  self_reference_avg_sharess and title_subjectivity are most likely correlated\n",
      "Columns  weekday_is_monday and title_subjectivity are most likely independent\n",
      "Columns  weekday_is_tuesday and title_subjectivity are most likely independent\n",
      "Columns  weekday_is_wednesday and title_subjectivity are most likely correlated\n",
      "Columns  weekday_is_thursday and title_subjectivity are most likely independent\n",
      "Columns  weekday_is_friday and title_subjectivity are most likely independent\n",
      "Columns  weekday_is_saturday and title_subjectivity are most likely independent\n",
      "Columns  weekday_is_sunday and title_subjectivity are most likely correlated\n",
      "Columns  is_weekend and title_subjectivity are most likely correlated\n",
      "Columns  LDA_00 and title_subjectivity are most likely correlated\n",
      "Columns  LDA_01 and title_subjectivity are most likely correlated\n",
      "Columns  LDA_02 and title_subjectivity are most likely correlated\n",
      "Columns  LDA_03 and title_subjectivity are most likely correlated\n",
      "Columns  LDA_04 and title_subjectivity are most likely correlated\n",
      "Columns  global_subjectivity and title_subjectivity are most likely correlated\n",
      "Columns  global_sentiment_polarity and title_subjectivity are most likely correlated\n",
      "Columns  global_rate_positive_words and title_subjectivity are most likely correlated\n",
      "Columns  global_rate_negative_words and title_subjectivity are most likely correlated\n",
      "Columns  rate_positive_words and title_subjectivity are most likely correlated\n",
      "Columns  rate_negative_words and title_subjectivity are most likely independent\n",
      "Columns  avg_positive_polarity and title_subjectivity are most likely correlated\n",
      "Columns  min_positive_polarity and title_subjectivity are most likely independent\n",
      "Columns  max_positive_polarity and title_subjectivity are most likely correlated\n",
      "Columns  avg_negative_polarity and title_subjectivity are most likely correlated\n",
      "Columns  min_negative_polarity and title_subjectivity are most likely correlated\n",
      "Columns  max_negative_polarity and title_subjectivity are most likely correlated\n",
      "Columns  title_subjectivity and title_subjectivity are most likely correlated\n",
      "Columns  title_sentiment_polarity and title_subjectivity are most likely correlated\n",
      "Columns  abs_title_subjectivity and title_subjectivity are most likely correlated\n",
      "Columns  abs_title_sentiment_polarity and title_subjectivity are most likely correlated\n",
      "Columns  shares and title_subjectivity are most likely correlated\n"
     ]
    }
   ],
   "source": [
    "from scipy.stats import kendalltau\n",
    "\n",
    "for col in news_df.columns:\n",
    "    stat, p = pearsonr(news_df[col], news_df[' title_subjectivity'])\n",
    "    if p > level_of_significance:\n",
    "        print(f\"Columns {col} and title_subjectivity are most likely independent\")\n",
    "    else:\n",
    "        print(f\"Columns {col} and title_subjectivity are most likely correlated\")"
   ]
  },
  {
   "cell_type": "markdown",
   "metadata": {},
   "source": [
    "#### 4. Mann-Whitney U Test\n",
    "\n",
    "The [Mann-Whitney U test](https://en.wikipedia.org/wiki/Mann%E2%80%93Whitney_U_test) test checks to see if the distributions of two independent samples are equal or not. Usually, this test is used to test the difference in location between distributions.\n",
    "\n",
    "This test operates under two assumptions:\n",
    "- The observations in each sample are independent and identically distributed\n",
    "- The observations in each sample can be ranked.\n",
    "\n",
    "The null and alternate hypothesis are as follows:\n",
    "- $H_0$: The distributions of both samples is the same\n",
    "- $H_1$: the distributions of both samples are not equal\n",
    "\n",
    "For this, we will refer back to the previous correlation tests, namely Kendall's Rank Coefficient (as it was also nonparametric and did not take distribution into consideration) and chose two columns that were independent of one another so that this test's assumptions hold true.\n",
    "- The two columns I'll be using are `kw_max_max` and `title_subjectivity`.\n",
    "\n",
    "Additionally, we'll be using Scipy's [`mannwhitneyu`](https://docs.scipy.org/doc/scipy/reference/generated/scipy.stats.mannwhitneyu.html) function to conduct this test."
   ]
  },
  {
   "cell_type": "code",
   "execution_count": 244,
   "metadata": {},
   "outputs": [
    {
     "name": "stdout",
     "output_type": "stream",
     "text": [
      "Columns kw_max_max and title_subjectivity most likely do not belong to the same distribution.\n"
     ]
    }
   ],
   "source": [
    "from scipy.stats import mannwhitneyu\n",
    "\n",
    "col_1 = ' kw_max_max'\n",
    "col_2 = ' title_subjectivity'\n",
    "\n",
    "stat, p = mannwhitneyu(news_df[col_1], news_df[col_2])\n",
    "\n",
    "if p > level_of_significance:\n",
    "    print(f\"Columns{col_1} and{col_2} most likely belong to the same distribution.\")\n",
    "else:\n",
    "    print(f\"Columns{col_1} and{col_2} most likely do not belong to the same distribution.\")"
   ]
  },
  {
   "cell_type": "markdown",
   "metadata": {},
   "source": [
    "#### 5. Kruskal-Wallis H Test\n",
    "\n",
    "The [Kruskal-Wallis H test](https://en.wikipedia.org/wiki/Kruskal%E2%80%93Wallis_one-way_analysis_of_variance) is very similar to the Mann-Whitney U test in the sense that we are checking to see whether the distributions for two features are equal or not. \n",
    "\n",
    "This test operates under two assumptions:\n",
    "- The observations in each sample are independent and identically distributed\n",
    "- The observations in each sample can be ranked.\n",
    "\n",
    "The null and alternate hypothesis are as follows:\n",
    "- $H_0$: The distributions of both samples is the same\n",
    "- $H_1$: the distributions of both samples are not equal\n",
    "\n",
    "I'll be using the same two columns as the previous test, namely `kw_max_max` and `title_subjectivity`. For conducting the actual test, I'll be using Scipy's [`kruskal`](https://docs.scipy.org/doc/scipy/reference/generated/scipy.stats.kruskal.html) method."
   ]
  },
  {
   "cell_type": "code",
   "execution_count": 246,
   "metadata": {},
   "outputs": [
    {
     "name": "stdout",
     "output_type": "stream",
     "text": [
      "Columns kw_max_max and title_subjectivity most likely do not belong to the same distribution.\n"
     ]
    }
   ],
   "source": [
    "from scipy.stats import kruskal\n",
    "\n",
    "stat, p = kruskal(news_df[col_1], news_df[col_2])\n",
    "\n",
    "if p > level_of_significance:\n",
    "    print(f\"Columns{col_1} and{col_2} most likely belong to the same distribution.\")\n",
    "else:\n",
    "    print(f\"Columns{col_1} and{col_2} most likely do not belong to the same distribution.\")"
   ]
  },
  {
   "cell_type": "markdown",
   "metadata": {},
   "source": [
    "*Sources:*\n",
    "- [DataCamp: Hypothesis Testing in Machine Learning](https://www.datacamp.com/tutorial/hypothesis-testing-machine-learning#:~:text=The%20process%20of%20hypothesis%20testing,will%20discuss%20in%20this%20tutorial.)\n",
    "- [Analytics Vidhya: Everything you need to know about Hypothesis Testing in Machine Learning](https://www.analyticsvidhya.com/blog/2021/09/hypothesis-testing-in-machine-learning-everything-you-need-to-know/)\n",
    "- [Machine Learning Mastery: 17 Statistical Hypothesis Tests in Python (Cheat Sheet)](https://machinelearningmastery.com/statistical-hypothesis-tests-in-python-cheat-sheet/)\n",
    "- [Towards Data Science: Hypothesis testing in Machine learning using Python](https://towardsdatascience.com/hypothesis-testing-in-machine-learning-using-python-a0dc89e169ce)\n",
    "- [Corpporate Finance Institue: Nonaparametric Tests - Overview, Reasons to Use, Types](https://corporatefinanceinstitute.com/resources/data-science/nonparametric-tests/#:~:text=What%20are%20Nonparametric%20Tests%3F,to%20as%20distribution%2Dfree%20tests.)"
   ]
  },
  {
   "cell_type": "markdown",
   "metadata": {},
   "source": [
    "### - *Try Ridge and Lasso regression.*\n",
    "\n",
    "For this, I'll be using Scikit Learn's built-in models and methods:\n",
    "- [Ridge model documentation](https://scikit-learn.org/stable/modules/generated/sklearn.linear_model.Ridge.html)\n",
    "- [Lasso model documentation](https://scikit-learn.org/stable/modules/generated/sklearn.linear_model.Lasso.html)\n",
    "\n",
    "For evaluation, I'll also be using Scikit Learn's [mean squared error (MSE)](https://scikit-learn.org/stable/modules/generated/sklearn.metrics.mean_squared_error.html) function to calculate cost."
   ]
  },
  {
   "cell_type": "code",
   "execution_count": 253,
   "metadata": {},
   "outputs": [
    {
     "name": "stdout",
     "output_type": "stream",
     "text": [
      "Cost for ridge regression model: 269404777.80223584\n",
      "Cost for lasso regression model: 267829872.91184846\n"
     ]
    }
   ],
   "source": [
    "from sklearn.linear_model import Ridge, Lasso\n",
    "from sklearn.metrics import mean_squared_error\n",
    "from sklearn.model_selection import train_test_split\n",
    "\n",
    "# Split data into train/validation splits\n",
    "x_train, x_val, y_train, y_val = train_test_split(news_df.drop(columns=' shares'), news_df[' shares'], \n",
    "                                                  test_size=0.2, random_state=rand_seed)\n",
    "\n",
    "# Train and eval ridge regression model\n",
    "ridge_reg = Ridge().fit(x_train, y_train)\n",
    "ridge_val_pred = ridge_reg.predict(x_val)\n",
    "ridge_cost = mean_squared_error(y_val, ridge_val_pred)\n",
    "print(f\"Cost for ridge regression model: {ridge_cost}\")\n",
    "\n",
    "# Train and eval lasso regression model\n",
    "lasso_reg = Lasso().fit(x_train, y_train)\n",
    "lasso_val_pred = lasso_reg.predict(x_val)\n",
    "lasso_cost = mean_squared_error(y_val, lasso_val_pred)\n",
    "print(f\"Cost for lasso regression model: {lasso_cost}\")"
   ]
  },
  {
   "cell_type": "markdown",
   "metadata": {},
   "source": [
    "For future sections of this question, I'll wrap the lines above into a function so it's easy to gauge model performance. This function will only take a dataframe as a parameter, so we can test how well our feature engineering works on the model performance."
   ]
  },
  {
   "cell_type": "code",
   "execution_count": 293,
   "metadata": {},
   "outputs": [
    {
     "name": "stdout",
     "output_type": "stream",
     "text": [
      "Cost for ridge regression model: 269404777.80223584\n",
      "Average cost for ridge regression model: 33977.144381666774\n",
      "Cost for lasso regression model: 267829872.91184846\n",
      "Average cost for lasso regression model: 33778.518465361136\n"
     ]
    },
    {
     "data": {
      "text/plain": [
       "(269404777.80223584, 267829872.91184846)"
      ]
     },
     "execution_count": 293,
     "metadata": {},
     "output_type": "execute_result"
    }
   ],
   "source": [
    "def train_lasso_ridge(df):\n",
    "    # Split data into train/validation splits\n",
    "    x_train, x_val, y_train, y_val = train_test_split(df.drop(columns=' shares'), df[' shares'], \n",
    "                                                      test_size=0.2, random_state=rand_seed)\n",
    "\n",
    "    # Train and eval ridge regression model\n",
    "    ridge_reg = Ridge().fit(x_train, y_train)\n",
    "    ridge_val_pred = ridge_reg.predict(x_val)\n",
    "    ridge_cost = mean_squared_error(y_val, ridge_val_pred)\n",
    "    print(f\"Cost for ridge regression model: {ridge_cost}\")\n",
    "    print(f\"Average cost for ridge regression model: {ridge_cost/ridge_val_pred.shape[0]}\")\n",
    "\n",
    "    # Train and eval lasso regression model\n",
    "    lasso_reg = Lasso().fit(x_train, y_train)\n",
    "    lasso_val_pred = lasso_reg.predict(x_val)\n",
    "    lasso_cost = mean_squared_error(y_val, lasso_val_pred)\n",
    "    print(f\"Cost for lasso regression model: {lasso_cost}\")\n",
    "    print(f\"Average cost for lasso regression model: {lasso_cost/ridge_val_pred.shape[0]}\")\n",
    "    \n",
    "    return ridge_cost, lasso_cost\n",
    "\n",
    "train_lasso_ridge(news_df)"
   ]
  },
  {
   "cell_type": "markdown",
   "metadata": {},
   "source": [
    "### - *Use various scaling methods and report their effects.*\n",
    "\n",
    "From the rudimentary EDA and hypothesis tests performed earlier on in this exercise, we already know different features have different variances. Similarly, some of the features are on different scales than others, and that can cause issues. We can further glimpse into the severity of this problem by calling the `describe()` function on our main dataframe."
   ]
  },
  {
   "cell_type": "code",
   "execution_count": 258,
   "metadata": {},
   "outputs": [
    {
     "data": {
      "text/html": [
       "<div>\n",
       "<style scoped>\n",
       "    .dataframe tbody tr th:only-of-type {\n",
       "        vertical-align: middle;\n",
       "    }\n",
       "\n",
       "    .dataframe tbody tr th {\n",
       "        vertical-align: top;\n",
       "    }\n",
       "\n",
       "    .dataframe thead th {\n",
       "        text-align: right;\n",
       "    }\n",
       "</style>\n",
       "<table border=\"1\" class=\"dataframe\">\n",
       "  <thead>\n",
       "    <tr style=\"text-align: right;\">\n",
       "      <th></th>\n",
       "      <th>n_tokens_title</th>\n",
       "      <th>n_tokens_content</th>\n",
       "      <th>n_unique_tokens</th>\n",
       "      <th>n_non_stop_words</th>\n",
       "      <th>n_non_stop_unique_tokens</th>\n",
       "      <th>num_hrefs</th>\n",
       "      <th>num_self_hrefs</th>\n",
       "      <th>num_imgs</th>\n",
       "      <th>num_videos</th>\n",
       "      <th>average_token_length</th>\n",
       "      <th>...</th>\n",
       "      <th>min_positive_polarity</th>\n",
       "      <th>max_positive_polarity</th>\n",
       "      <th>avg_negative_polarity</th>\n",
       "      <th>min_negative_polarity</th>\n",
       "      <th>max_negative_polarity</th>\n",
       "      <th>title_subjectivity</th>\n",
       "      <th>title_sentiment_polarity</th>\n",
       "      <th>abs_title_subjectivity</th>\n",
       "      <th>abs_title_sentiment_polarity</th>\n",
       "      <th>shares</th>\n",
       "    </tr>\n",
       "  </thead>\n",
       "  <tbody>\n",
       "    <tr>\n",
       "      <th>count</th>\n",
       "      <td>39644.000000</td>\n",
       "      <td>39644.000000</td>\n",
       "      <td>39644.000000</td>\n",
       "      <td>39644.000000</td>\n",
       "      <td>39644.000000</td>\n",
       "      <td>39644.000000</td>\n",
       "      <td>39644.000000</td>\n",
       "      <td>39644.000000</td>\n",
       "      <td>39644.000000</td>\n",
       "      <td>39644.000000</td>\n",
       "      <td>...</td>\n",
       "      <td>39644.000000</td>\n",
       "      <td>39644.000000</td>\n",
       "      <td>39644.000000</td>\n",
       "      <td>39644.000000</td>\n",
       "      <td>39644.000000</td>\n",
       "      <td>39644.000000</td>\n",
       "      <td>39644.000000</td>\n",
       "      <td>39644.000000</td>\n",
       "      <td>39644.000000</td>\n",
       "      <td>39644.000000</td>\n",
       "    </tr>\n",
       "    <tr>\n",
       "      <th>mean</th>\n",
       "      <td>10.398749</td>\n",
       "      <td>546.514731</td>\n",
       "      <td>0.548216</td>\n",
       "      <td>0.996469</td>\n",
       "      <td>0.689175</td>\n",
       "      <td>10.883690</td>\n",
       "      <td>3.293638</td>\n",
       "      <td>4.544143</td>\n",
       "      <td>1.249874</td>\n",
       "      <td>4.548239</td>\n",
       "      <td>...</td>\n",
       "      <td>0.095446</td>\n",
       "      <td>0.756728</td>\n",
       "      <td>-0.259524</td>\n",
       "      <td>-0.521944</td>\n",
       "      <td>-0.107500</td>\n",
       "      <td>0.282353</td>\n",
       "      <td>0.071425</td>\n",
       "      <td>0.341843</td>\n",
       "      <td>0.156064</td>\n",
       "      <td>3395.380184</td>\n",
       "    </tr>\n",
       "    <tr>\n",
       "      <th>std</th>\n",
       "      <td>2.114037</td>\n",
       "      <td>471.107508</td>\n",
       "      <td>3.520708</td>\n",
       "      <td>5.231231</td>\n",
       "      <td>3.264816</td>\n",
       "      <td>11.332017</td>\n",
       "      <td>3.855141</td>\n",
       "      <td>8.309434</td>\n",
       "      <td>4.107855</td>\n",
       "      <td>0.844406</td>\n",
       "      <td>...</td>\n",
       "      <td>0.071315</td>\n",
       "      <td>0.247786</td>\n",
       "      <td>0.127726</td>\n",
       "      <td>0.290290</td>\n",
       "      <td>0.095373</td>\n",
       "      <td>0.324247</td>\n",
       "      <td>0.265450</td>\n",
       "      <td>0.188791</td>\n",
       "      <td>0.226294</td>\n",
       "      <td>11626.950749</td>\n",
       "    </tr>\n",
       "    <tr>\n",
       "      <th>min</th>\n",
       "      <td>2.000000</td>\n",
       "      <td>0.000000</td>\n",
       "      <td>0.000000</td>\n",
       "      <td>0.000000</td>\n",
       "      <td>0.000000</td>\n",
       "      <td>0.000000</td>\n",
       "      <td>0.000000</td>\n",
       "      <td>0.000000</td>\n",
       "      <td>0.000000</td>\n",
       "      <td>0.000000</td>\n",
       "      <td>...</td>\n",
       "      <td>0.000000</td>\n",
       "      <td>0.000000</td>\n",
       "      <td>-1.000000</td>\n",
       "      <td>-1.000000</td>\n",
       "      <td>-1.000000</td>\n",
       "      <td>0.000000</td>\n",
       "      <td>-1.000000</td>\n",
       "      <td>0.000000</td>\n",
       "      <td>0.000000</td>\n",
       "      <td>1.000000</td>\n",
       "    </tr>\n",
       "    <tr>\n",
       "      <th>25%</th>\n",
       "      <td>9.000000</td>\n",
       "      <td>246.000000</td>\n",
       "      <td>0.470870</td>\n",
       "      <td>1.000000</td>\n",
       "      <td>0.625739</td>\n",
       "      <td>4.000000</td>\n",
       "      <td>1.000000</td>\n",
       "      <td>1.000000</td>\n",
       "      <td>0.000000</td>\n",
       "      <td>4.478404</td>\n",
       "      <td>...</td>\n",
       "      <td>0.050000</td>\n",
       "      <td>0.600000</td>\n",
       "      <td>-0.328383</td>\n",
       "      <td>-0.700000</td>\n",
       "      <td>-0.125000</td>\n",
       "      <td>0.000000</td>\n",
       "      <td>0.000000</td>\n",
       "      <td>0.166667</td>\n",
       "      <td>0.000000</td>\n",
       "      <td>946.000000</td>\n",
       "    </tr>\n",
       "    <tr>\n",
       "      <th>50%</th>\n",
       "      <td>10.000000</td>\n",
       "      <td>409.000000</td>\n",
       "      <td>0.539226</td>\n",
       "      <td>1.000000</td>\n",
       "      <td>0.690476</td>\n",
       "      <td>8.000000</td>\n",
       "      <td>3.000000</td>\n",
       "      <td>1.000000</td>\n",
       "      <td>0.000000</td>\n",
       "      <td>4.664082</td>\n",
       "      <td>...</td>\n",
       "      <td>0.100000</td>\n",
       "      <td>0.800000</td>\n",
       "      <td>-0.253333</td>\n",
       "      <td>-0.500000</td>\n",
       "      <td>-0.100000</td>\n",
       "      <td>0.150000</td>\n",
       "      <td>0.000000</td>\n",
       "      <td>0.500000</td>\n",
       "      <td>0.000000</td>\n",
       "      <td>1400.000000</td>\n",
       "    </tr>\n",
       "    <tr>\n",
       "      <th>75%</th>\n",
       "      <td>12.000000</td>\n",
       "      <td>716.000000</td>\n",
       "      <td>0.608696</td>\n",
       "      <td>1.000000</td>\n",
       "      <td>0.754630</td>\n",
       "      <td>14.000000</td>\n",
       "      <td>4.000000</td>\n",
       "      <td>4.000000</td>\n",
       "      <td>1.000000</td>\n",
       "      <td>4.854839</td>\n",
       "      <td>...</td>\n",
       "      <td>0.100000</td>\n",
       "      <td>1.000000</td>\n",
       "      <td>-0.186905</td>\n",
       "      <td>-0.300000</td>\n",
       "      <td>-0.050000</td>\n",
       "      <td>0.500000</td>\n",
       "      <td>0.150000</td>\n",
       "      <td>0.500000</td>\n",
       "      <td>0.250000</td>\n",
       "      <td>2800.000000</td>\n",
       "    </tr>\n",
       "    <tr>\n",
       "      <th>max</th>\n",
       "      <td>23.000000</td>\n",
       "      <td>8474.000000</td>\n",
       "      <td>701.000000</td>\n",
       "      <td>1042.000000</td>\n",
       "      <td>650.000000</td>\n",
       "      <td>304.000000</td>\n",
       "      <td>116.000000</td>\n",
       "      <td>128.000000</td>\n",
       "      <td>91.000000</td>\n",
       "      <td>8.041534</td>\n",
       "      <td>...</td>\n",
       "      <td>1.000000</td>\n",
       "      <td>1.000000</td>\n",
       "      <td>0.000000</td>\n",
       "      <td>0.000000</td>\n",
       "      <td>0.000000</td>\n",
       "      <td>1.000000</td>\n",
       "      <td>1.000000</td>\n",
       "      <td>0.500000</td>\n",
       "      <td>1.000000</td>\n",
       "      <td>843300.000000</td>\n",
       "    </tr>\n",
       "  </tbody>\n",
       "</table>\n",
       "<p>8 rows × 59 columns</p>\n",
       "</div>"
      ],
      "text/plain": [
       "        n_tokens_title   n_tokens_content   n_unique_tokens  \\\n",
       "count     39644.000000       39644.000000      39644.000000   \n",
       "mean         10.398749         546.514731          0.548216   \n",
       "std           2.114037         471.107508          3.520708   \n",
       "min           2.000000           0.000000          0.000000   \n",
       "25%           9.000000         246.000000          0.470870   \n",
       "50%          10.000000         409.000000          0.539226   \n",
       "75%          12.000000         716.000000          0.608696   \n",
       "max          23.000000        8474.000000        701.000000   \n",
       "\n",
       "        n_non_stop_words   n_non_stop_unique_tokens     num_hrefs  \\\n",
       "count       39644.000000               39644.000000  39644.000000   \n",
       "mean            0.996469                   0.689175     10.883690   \n",
       "std             5.231231                   3.264816     11.332017   \n",
       "min             0.000000                   0.000000      0.000000   \n",
       "25%             1.000000                   0.625739      4.000000   \n",
       "50%             1.000000                   0.690476      8.000000   \n",
       "75%             1.000000                   0.754630     14.000000   \n",
       "max          1042.000000                 650.000000    304.000000   \n",
       "\n",
       "        num_self_hrefs      num_imgs    num_videos   average_token_length  \\\n",
       "count     39644.000000  39644.000000  39644.000000           39644.000000   \n",
       "mean          3.293638      4.544143      1.249874               4.548239   \n",
       "std           3.855141      8.309434      4.107855               0.844406   \n",
       "min           0.000000      0.000000      0.000000               0.000000   \n",
       "25%           1.000000      1.000000      0.000000               4.478404   \n",
       "50%           3.000000      1.000000      0.000000               4.664082   \n",
       "75%           4.000000      4.000000      1.000000               4.854839   \n",
       "max         116.000000    128.000000     91.000000               8.041534   \n",
       "\n",
       "       ...   min_positive_polarity   max_positive_polarity  \\\n",
       "count  ...            39644.000000            39644.000000   \n",
       "mean   ...                0.095446                0.756728   \n",
       "std    ...                0.071315                0.247786   \n",
       "min    ...                0.000000                0.000000   \n",
       "25%    ...                0.050000                0.600000   \n",
       "50%    ...                0.100000                0.800000   \n",
       "75%    ...                0.100000                1.000000   \n",
       "max    ...                1.000000                1.000000   \n",
       "\n",
       "        avg_negative_polarity   min_negative_polarity   max_negative_polarity  \\\n",
       "count            39644.000000            39644.000000            39644.000000   \n",
       "mean                -0.259524               -0.521944               -0.107500   \n",
       "std                  0.127726                0.290290                0.095373   \n",
       "min                 -1.000000               -1.000000               -1.000000   \n",
       "25%                 -0.328383               -0.700000               -0.125000   \n",
       "50%                 -0.253333               -0.500000               -0.100000   \n",
       "75%                 -0.186905               -0.300000               -0.050000   \n",
       "max                  0.000000                0.000000                0.000000   \n",
       "\n",
       "        title_subjectivity   title_sentiment_polarity  \\\n",
       "count         39644.000000               39644.000000   \n",
       "mean              0.282353                   0.071425   \n",
       "std               0.324247                   0.265450   \n",
       "min               0.000000                  -1.000000   \n",
       "25%               0.000000                   0.000000   \n",
       "50%               0.150000                   0.000000   \n",
       "75%               0.500000                   0.150000   \n",
       "max               1.000000                   1.000000   \n",
       "\n",
       "        abs_title_subjectivity   abs_title_sentiment_polarity         shares  \n",
       "count             39644.000000                   39644.000000   39644.000000  \n",
       "mean                  0.341843                       0.156064    3395.380184  \n",
       "std                   0.188791                       0.226294   11626.950749  \n",
       "min                   0.000000                       0.000000       1.000000  \n",
       "25%                   0.166667                       0.000000     946.000000  \n",
       "50%                   0.500000                       0.000000    1400.000000  \n",
       "75%                   0.500000                       0.250000    2800.000000  \n",
       "max                   0.500000                       1.000000  843300.000000  \n",
       "\n",
       "[8 rows x 59 columns]"
      ]
     },
     "execution_count": 258,
     "metadata": {},
     "output_type": "execute_result"
    }
   ],
   "source": [
    "news_df.describe()"
   ]
  },
  {
   "cell_type": "markdown",
   "metadata": {},
   "source": [
    "We can scale the columns using Scikit Learn's [StandardScaler](https://scikit-learn.org/stable/modules/generated/sklearn.preprocessing.StandardScaler.html) to both push the columns between a [-1, 1] range by removing the mean and scaling to unit variance. \n",
    "\n",
    "First, we'll create a copy of our previous dataframe, and then scale columns one by one, save for the `shares` column. Then, we'll pass the new dataframe onto the `train_lasso_ridge` function defined previously and gauge model performance."
   ]
  },
  {
   "cell_type": "code",
   "execution_count": 294,
   "metadata": {},
   "outputs": [
    {
     "data": {
      "text/html": [
       "<div>\n",
       "<style scoped>\n",
       "    .dataframe tbody tr th:only-of-type {\n",
       "        vertical-align: middle;\n",
       "    }\n",
       "\n",
       "    .dataframe tbody tr th {\n",
       "        vertical-align: top;\n",
       "    }\n",
       "\n",
       "    .dataframe thead th {\n",
       "        text-align: right;\n",
       "    }\n",
       "</style>\n",
       "<table border=\"1\" class=\"dataframe\">\n",
       "  <thead>\n",
       "    <tr style=\"text-align: right;\">\n",
       "      <th></th>\n",
       "      <th>n_tokens_title</th>\n",
       "      <th>n_tokens_content</th>\n",
       "      <th>n_unique_tokens</th>\n",
       "      <th>n_non_stop_words</th>\n",
       "      <th>n_non_stop_unique_tokens</th>\n",
       "      <th>num_hrefs</th>\n",
       "      <th>num_self_hrefs</th>\n",
       "      <th>num_imgs</th>\n",
       "      <th>num_videos</th>\n",
       "      <th>average_token_length</th>\n",
       "      <th>...</th>\n",
       "      <th>avg_positive_polarity</th>\n",
       "      <th>min_positive_polarity</th>\n",
       "      <th>max_positive_polarity</th>\n",
       "      <th>avg_negative_polarity</th>\n",
       "      <th>min_negative_polarity</th>\n",
       "      <th>max_negative_polarity</th>\n",
       "      <th>title_subjectivity</th>\n",
       "      <th>title_sentiment_polarity</th>\n",
       "      <th>abs_title_subjectivity</th>\n",
       "      <th>abs_title_sentiment_polarity</th>\n",
       "    </tr>\n",
       "  </thead>\n",
       "  <tbody>\n",
       "    <tr>\n",
       "      <th>0</th>\n",
       "      <td>0.757447</td>\n",
       "      <td>-0.695210</td>\n",
       "      <td>0.032772</td>\n",
       "      <td>0.000675</td>\n",
       "      <td>0.038658</td>\n",
       "      <td>-0.607463</td>\n",
       "      <td>-0.335566</td>\n",
       "      <td>-0.426526</td>\n",
       "      <td>-0.304268</td>\n",
       "      <td>0.156474</td>\n",
       "      <td>...</td>\n",
       "      <td>0.237337</td>\n",
       "      <td>0.063865</td>\n",
       "      <td>-0.228941</td>\n",
       "      <td>-0.708369</td>\n",
       "      <td>-0.268895</td>\n",
       "      <td>-0.969886</td>\n",
       "      <td>0.671245</td>\n",
       "      <td>-0.975432</td>\n",
       "      <td>-1.810719</td>\n",
       "      <td>0.138920</td>\n",
       "    </tr>\n",
       "    <tr>\n",
       "      <th>1</th>\n",
       "      <td>-0.661657</td>\n",
       "      <td>-0.618794</td>\n",
       "      <td>0.016056</td>\n",
       "      <td>0.000675</td>\n",
       "      <td>0.031479</td>\n",
       "      <td>-0.695709</td>\n",
       "      <td>-0.594963</td>\n",
       "      <td>-0.426526</td>\n",
       "      <td>-0.304268</td>\n",
       "      <td>0.432838</td>\n",
       "      <td>...</td>\n",
       "      <td>-0.640040</td>\n",
       "      <td>-0.870968</td>\n",
       "      <td>-0.228941</td>\n",
       "      <td>1.102174</td>\n",
       "      <td>1.367424</td>\n",
       "      <td>0.078642</td>\n",
       "      <td>-0.870807</td>\n",
       "      <td>-0.269076</td>\n",
       "      <td>0.837749</td>\n",
       "      <td>-0.689658</td>\n",
       "    </tr>\n",
       "    <tr>\n",
       "      <th>2</th>\n",
       "      <td>-0.661657</td>\n",
       "      <td>-0.712192</td>\n",
       "      <td>0.007645</td>\n",
       "      <td>0.000675</td>\n",
       "      <td>-0.007752</td>\n",
       "      <td>-0.695709</td>\n",
       "      <td>-0.594963</td>\n",
       "      <td>-0.426526</td>\n",
       "      <td>-0.304268</td>\n",
       "      <td>-0.183415</td>\n",
       "      <td>...</td>\n",
       "      <td>1.358401</td>\n",
       "      <td>0.063865</td>\n",
       "      <td>0.981798</td>\n",
       "      <td>-1.621797</td>\n",
       "      <td>-0.957871</td>\n",
       "      <td>-0.270867</td>\n",
       "      <td>-0.870807</td>\n",
       "      <td>-0.269076</td>\n",
       "      <td>0.837749</td>\n",
       "      <td>-0.689658</td>\n",
       "    </tr>\n",
       "    <tr>\n",
       "      <th>3</th>\n",
       "      <td>-0.661657</td>\n",
       "      <td>-0.032933</td>\n",
       "      <td>-0.012619</td>\n",
       "      <td>0.000675</td>\n",
       "      <td>-0.007211</td>\n",
       "      <td>-0.166229</td>\n",
       "      <td>-0.854360</td>\n",
       "      <td>-0.426526</td>\n",
       "      <td>-0.304268</td>\n",
       "      <td>-0.169758</td>\n",
       "      <td>...</td>\n",
       "      <td>0.307442</td>\n",
       "      <td>0.573773</td>\n",
       "      <td>0.174639</td>\n",
       "      <td>-0.862584</td>\n",
       "      <td>-0.268895</td>\n",
       "      <td>-0.620377</td>\n",
       "      <td>-0.870807</td>\n",
       "      <td>-0.269076</td>\n",
       "      <td>0.837749</td>\n",
       "      <td>-0.689658</td>\n",
       "    </tr>\n",
       "    <tr>\n",
       "      <th>4</th>\n",
       "      <td>1.230482</td>\n",
       "      <td>1.115439</td>\n",
       "      <td>-0.037655</td>\n",
       "      <td>0.000675</td>\n",
       "      <td>-0.045420</td>\n",
       "      <td>0.716237</td>\n",
       "      <td>4.074185</td>\n",
       "      <td>1.860061</td>\n",
       "      <td>-0.304268</td>\n",
       "      <td>0.159400</td>\n",
       "      <td>...</td>\n",
       "      <td>0.548135</td>\n",
       "      <td>-0.870968</td>\n",
       "      <td>0.981798</td>\n",
       "      <td>0.307944</td>\n",
       "      <td>0.075594</td>\n",
       "      <td>0.602906</td>\n",
       "      <td>0.531059</td>\n",
       "      <td>0.244637</td>\n",
       "      <td>-1.569949</td>\n",
       "      <td>-0.087056</td>\n",
       "    </tr>\n",
       "    <tr>\n",
       "      <th>...</th>\n",
       "      <td>...</td>\n",
       "      <td>...</td>\n",
       "      <td>...</td>\n",
       "      <td>...</td>\n",
       "      <td>...</td>\n",
       "      <td>...</td>\n",
       "      <td>...</td>\n",
       "      <td>...</td>\n",
       "      <td>...</td>\n",
       "      <td>...</td>\n",
       "      <td>...</td>\n",
       "      <td>...</td>\n",
       "      <td>...</td>\n",
       "      <td>...</td>\n",
       "      <td>...</td>\n",
       "      <td>...</td>\n",
       "      <td>...</td>\n",
       "      <td>...</td>\n",
       "      <td>...</td>\n",
       "      <td>...</td>\n",
       "      <td>...</td>\n",
       "    </tr>\n",
       "    <tr>\n",
       "      <th>39639</th>\n",
       "      <td>0.284413</td>\n",
       "      <td>-0.425630</td>\n",
       "      <td>-0.005443</td>\n",
       "      <td>0.000675</td>\n",
       "      <td>-0.001346</td>\n",
       "      <td>-0.166229</td>\n",
       "      <td>0.961420</td>\n",
       "      <td>-0.426526</td>\n",
       "      <td>-0.060829</td>\n",
       "      <td>-0.029747</td>\n",
       "      <td>...</td>\n",
       "      <td>-0.191635</td>\n",
       "      <td>0.063865</td>\n",
       "      <td>-0.027151</td>\n",
       "      <td>-0.003726</td>\n",
       "      <td>0.075594</td>\n",
       "      <td>-0.183490</td>\n",
       "      <td>-0.562396</td>\n",
       "      <td>-0.269076</td>\n",
       "      <td>0.308055</td>\n",
       "      <td>-0.689658</td>\n",
       "    </tr>\n",
       "    <tr>\n",
       "      <th>39640</th>\n",
       "      <td>0.757447</td>\n",
       "      <td>-0.463838</td>\n",
       "      <td>0.042060</td>\n",
       "      <td>0.000675</td>\n",
       "      <td>0.059999</td>\n",
       "      <td>-0.166229</td>\n",
       "      <td>0.961420</td>\n",
       "      <td>-0.185832</td>\n",
       "      <td>11.380809</td>\n",
       "      <td>-0.169058</td>\n",
       "      <td>...</td>\n",
       "      <td>0.200881</td>\n",
       "      <td>0.573773</td>\n",
       "      <td>-0.228941</td>\n",
       "      <td>0.379044</td>\n",
       "      <td>0.420082</td>\n",
       "      <td>0.078642</td>\n",
       "      <td>0.054425</td>\n",
       "      <td>3.498156</td>\n",
       "      <td>-0.751332</td>\n",
       "      <td>3.729424</td>\n",
       "    </tr>\n",
       "    <tr>\n",
       "      <th>39641</th>\n",
       "      <td>-0.188622</td>\n",
       "      <td>-0.221852</td>\n",
       "      <td>-0.009050</td>\n",
       "      <td>0.000675</td>\n",
       "      <td>-0.013798</td>\n",
       "      <td>1.157470</td>\n",
       "      <td>-0.594963</td>\n",
       "      <td>0.897288</td>\n",
       "      <td>-0.060829</td>\n",
       "      <td>0.626110</td>\n",
       "      <td>...</td>\n",
       "      <td>-0.445302</td>\n",
       "      <td>0.573773</td>\n",
       "      <td>-1.036100</td>\n",
       "      <td>-0.758786</td>\n",
       "      <td>-0.957871</td>\n",
       "      <td>-0.620377</td>\n",
       "      <td>0.531059</td>\n",
       "      <td>0.244637</td>\n",
       "      <td>-1.569949</td>\n",
       "      <td>-0.087056</td>\n",
       "    </tr>\n",
       "    <tr>\n",
       "      <th>39642</th>\n",
       "      <td>-2.080761</td>\n",
       "      <td>0.287592</td>\n",
       "      <td>-0.002477</td>\n",
       "      <td>0.000675</td>\n",
       "      <td>0.001068</td>\n",
       "      <td>-0.077983</td>\n",
       "      <td>-0.594963</td>\n",
       "      <td>-0.426526</td>\n",
       "      <td>-0.304268</td>\n",
       "      <td>0.505491</td>\n",
       "      <td>...</td>\n",
       "      <td>-1.118934</td>\n",
       "      <td>-0.461978</td>\n",
       "      <td>-1.036100</td>\n",
       "      <td>0.424968</td>\n",
       "      <td>0.075594</td>\n",
       "      <td>0.996104</td>\n",
       "      <td>-0.870807</td>\n",
       "      <td>-0.269076</td>\n",
       "      <td>0.837749</td>\n",
       "      <td>-0.689658</td>\n",
       "    </tr>\n",
       "    <tr>\n",
       "      <th>39643</th>\n",
       "      <td>-0.188622</td>\n",
       "      <td>-0.826817</td>\n",
       "      <td>0.043677</td>\n",
       "      <td>0.000675</td>\n",
       "      <td>0.048082</td>\n",
       "      <td>-0.872203</td>\n",
       "      <td>-0.594963</td>\n",
       "      <td>-0.546872</td>\n",
       "      <td>0.182610</td>\n",
       "      <td>-0.091073</td>\n",
       "      <td>...</td>\n",
       "      <td>-1.018619</td>\n",
       "      <td>0.063865</td>\n",
       "      <td>-1.036100</td>\n",
       "      <td>0.466037</td>\n",
       "      <td>1.109058</td>\n",
       "      <td>-0.969886</td>\n",
       "      <td>0.157228</td>\n",
       "      <td>0.672732</td>\n",
       "      <td>-0.927896</td>\n",
       "      <td>0.415112</td>\n",
       "    </tr>\n",
       "  </tbody>\n",
       "</table>\n",
       "<p>39644 rows × 58 columns</p>\n",
       "</div>"
      ],
      "text/plain": [
       "        n_tokens_title   n_tokens_content   n_unique_tokens  \\\n",
       "0             0.757447          -0.695210          0.032772   \n",
       "1            -0.661657          -0.618794          0.016056   \n",
       "2            -0.661657          -0.712192          0.007645   \n",
       "3            -0.661657          -0.032933         -0.012619   \n",
       "4             1.230482           1.115439         -0.037655   \n",
       "...                ...                ...               ...   \n",
       "39639         0.284413          -0.425630         -0.005443   \n",
       "39640         0.757447          -0.463838          0.042060   \n",
       "39641        -0.188622          -0.221852         -0.009050   \n",
       "39642        -2.080761           0.287592         -0.002477   \n",
       "39643        -0.188622          -0.826817          0.043677   \n",
       "\n",
       "        n_non_stop_words   n_non_stop_unique_tokens   num_hrefs  \\\n",
       "0               0.000675                   0.038658   -0.607463   \n",
       "1               0.000675                   0.031479   -0.695709   \n",
       "2               0.000675                  -0.007752   -0.695709   \n",
       "3               0.000675                  -0.007211   -0.166229   \n",
       "4               0.000675                  -0.045420    0.716237   \n",
       "...                  ...                        ...         ...   \n",
       "39639           0.000675                  -0.001346   -0.166229   \n",
       "39640           0.000675                   0.059999   -0.166229   \n",
       "39641           0.000675                  -0.013798    1.157470   \n",
       "39642           0.000675                   0.001068   -0.077983   \n",
       "39643           0.000675                   0.048082   -0.872203   \n",
       "\n",
       "        num_self_hrefs   num_imgs   num_videos   average_token_length  ...  \\\n",
       "0            -0.335566  -0.426526    -0.304268               0.156474  ...   \n",
       "1            -0.594963  -0.426526    -0.304268               0.432838  ...   \n",
       "2            -0.594963  -0.426526    -0.304268              -0.183415  ...   \n",
       "3            -0.854360  -0.426526    -0.304268              -0.169758  ...   \n",
       "4             4.074185   1.860061    -0.304268               0.159400  ...   \n",
       "...                ...        ...          ...                    ...  ...   \n",
       "39639         0.961420  -0.426526    -0.060829              -0.029747  ...   \n",
       "39640         0.961420  -0.185832    11.380809              -0.169058  ...   \n",
       "39641        -0.594963   0.897288    -0.060829               0.626110  ...   \n",
       "39642        -0.594963  -0.426526    -0.304268               0.505491  ...   \n",
       "39643        -0.594963  -0.546872     0.182610              -0.091073  ...   \n",
       "\n",
       "        avg_positive_polarity   min_positive_polarity   max_positive_polarity  \\\n",
       "0                    0.237337                0.063865               -0.228941   \n",
       "1                   -0.640040               -0.870968               -0.228941   \n",
       "2                    1.358401                0.063865                0.981798   \n",
       "3                    0.307442                0.573773                0.174639   \n",
       "4                    0.548135               -0.870968                0.981798   \n",
       "...                       ...                     ...                     ...   \n",
       "39639               -0.191635                0.063865               -0.027151   \n",
       "39640                0.200881                0.573773               -0.228941   \n",
       "39641               -0.445302                0.573773               -1.036100   \n",
       "39642               -1.118934               -0.461978               -1.036100   \n",
       "39643               -1.018619                0.063865               -1.036100   \n",
       "\n",
       "        avg_negative_polarity   min_negative_polarity   max_negative_polarity  \\\n",
       "0                   -0.708369               -0.268895               -0.969886   \n",
       "1                    1.102174                1.367424                0.078642   \n",
       "2                   -1.621797               -0.957871               -0.270867   \n",
       "3                   -0.862584               -0.268895               -0.620377   \n",
       "4                    0.307944                0.075594                0.602906   \n",
       "...                       ...                     ...                     ...   \n",
       "39639               -0.003726                0.075594               -0.183490   \n",
       "39640                0.379044                0.420082                0.078642   \n",
       "39641               -0.758786               -0.957871               -0.620377   \n",
       "39642                0.424968                0.075594                0.996104   \n",
       "39643                0.466037                1.109058               -0.969886   \n",
       "\n",
       "        title_subjectivity   title_sentiment_polarity  \\\n",
       "0                 0.671245                  -0.975432   \n",
       "1                -0.870807                  -0.269076   \n",
       "2                -0.870807                  -0.269076   \n",
       "3                -0.870807                  -0.269076   \n",
       "4                 0.531059                   0.244637   \n",
       "...                    ...                        ...   \n",
       "39639            -0.562396                  -0.269076   \n",
       "39640             0.054425                   3.498156   \n",
       "39641             0.531059                   0.244637   \n",
       "39642            -0.870807                  -0.269076   \n",
       "39643             0.157228                   0.672732   \n",
       "\n",
       "        abs_title_subjectivity   abs_title_sentiment_polarity  \n",
       "0                    -1.810719                       0.138920  \n",
       "1                     0.837749                      -0.689658  \n",
       "2                     0.837749                      -0.689658  \n",
       "3                     0.837749                      -0.689658  \n",
       "4                    -1.569949                      -0.087056  \n",
       "...                        ...                            ...  \n",
       "39639                 0.308055                      -0.689658  \n",
       "39640                -0.751332                       3.729424  \n",
       "39641                -1.569949                      -0.087056  \n",
       "39642                 0.837749                      -0.689658  \n",
       "39643                -0.927896                       0.415112  \n",
       "\n",
       "[39644 rows x 58 columns]"
      ]
     },
     "execution_count": 294,
     "metadata": {},
     "output_type": "execute_result"
    }
   ],
   "source": [
    "from sklearn.preprocessing import StandardScaler\n",
    "\n",
    "news_df_std = news_df.copy()\n",
    "news_df_std.drop(columns=[' shares'], inplace=True)    # Temporarily remove shares column as we're not looking to scale that specific column\n",
    "\n",
    "for col in news_df_std.columns:\n",
    "    scaler = StandardScaler()\n",
    "    news_df_std[col] = scaler.fit_transform(news_df_std[col].to_numpy().reshape(-1, 1))\n",
    "\n",
    "news_df_std"
   ]
  },
  {
   "cell_type": "markdown",
   "metadata": {},
   "source": [
    "Now that we've scaled our data, we can check its effect on model performance:"
   ]
  },
  {
   "cell_type": "code",
   "execution_count": 295,
   "metadata": {},
   "outputs": [
    {
     "name": "stdout",
     "output_type": "stream",
     "text": [
      "Cost for ridge regression model: 232968482.1062608\n",
      "Average cost for ridge regression model: 29381.823950846363\n",
      "Cost for lasso regression model: 135172031.8720749\n",
      "Average cost for lasso regression model: 17047.803237744345\n"
     ]
    },
    {
     "name": "stderr",
     "output_type": "stream",
     "text": [
      "c:\\users\\saqi\\appdata\\local\\programs\\python\\python38\\lib\\site-packages\\sklearn\\linear_model\\_coordinate_descent.py:631: ConvergenceWarning: Objective did not converge. You might want to increase the number of iterations, check the scale of the features or consider increasing regularisation. Duality gap: 1.178e+09, tolerance: 4.664e+08\n",
      "  model = cd_fast.enet_coordinate_descent(\n"
     ]
    },
    {
     "data": {
      "text/plain": [
       "(232968482.1062608, 135172031.8720749)"
      ]
     },
     "execution_count": 295,
     "metadata": {},
     "output_type": "execute_result"
    }
   ],
   "source": [
    "# Bring shares column back before fitting model on new data\n",
    "news_df_std[' shares'] = news_df[' shares']\n",
    "\n",
    "train_lasso_ridge(news_df_std)"
   ]
  },
  {
   "cell_type": "markdown",
   "metadata": {},
   "source": [
    "And we can already tell that normalizing our data is greatly decreased model cost.\n",
    "\n",
    "Another scaler we can use is [`MinMaxScaler`](https://scikit-learn.org/stable/modules/generated/sklearn.preprocessing.MinMaxScaler.html). We can test its effects similar to how we had tested StandardScaler."
   ]
  },
  {
   "cell_type": "code",
   "execution_count": 296,
   "metadata": {},
   "outputs": [
    {
     "name": "stdout",
     "output_type": "stream",
     "text": [
      "Cost for ridge regression model: 85971465.52473389\n",
      "Average cost for ridge regression model: 10842.661814192696\n",
      "Cost for lasso regression model: 85923504.00293887\n",
      "Average cost for lasso regression model: 10836.612940211737\n"
     ]
    },
    {
     "data": {
      "text/plain": [
       "(85971465.52473389, 85923504.00293887)"
      ]
     },
     "execution_count": 296,
     "metadata": {},
     "output_type": "execute_result"
    }
   ],
   "source": [
    "from sklearn.preprocessing import MinMaxScaler\n",
    "\n",
    "news_df_mm = news_df.copy()\n",
    "news_df_mm.drop(columns=[' shares'], inplace=True)    # Temporarily remove shares column as we're not looking to scale that specific column\n",
    "\n",
    "for col in news_df_mm.columns:\n",
    "    scaler = MinMaxScaler()\n",
    "    news_df_mm[col] = scaler.fit_transform(news_df_mm[col].to_numpy().reshape(-1, 1))\n",
    "\n",
    "news_df_mm[' shares'] = news_df[' shares']\n",
    "train_lasso_ridge(news_df_mm)"
   ]
  },
  {
   "cell_type": "markdown",
   "metadata": {},
   "source": [
    "Interestingly, the MinMax Scaler improves the two models performance to a greater degree than the previous scaler.\n",
    "\n",
    "Another scaler we can test is the [`PowerTransformer`](https://scikit-learn.org/stable/modules/generated/sklearn.preprocessing.PowerTransformer.html), which paplies a power transform featurewise to make data more Gaussian-like. According to the scikit-learn documentation:\n",
    "\n",
    "> Power transforms are a family of parametric, monotonic transformations that are applied to make data more Gaussian-like. This is useful for modeling issues related to heteroscedasticity (non-constant variance), or other situations where normality is desired."
   ]
  },
  {
   "cell_type": "code",
   "execution_count": 278,
   "metadata": {},
   "outputs": [
    {
     "name": "stdout",
     "output_type": "stream",
     "text": [
      "Cost for ridge regression model: 85677184.68353161\n",
      "Average cost for ridge regression model: 10805.547317887706\n",
      "Cost for lasso regression model: 85699729.41939563\n",
      "Average cost for lasso regression model: 10808.390644393445\n"
     ]
    },
    {
     "name": "stderr",
     "output_type": "stream",
     "text": [
      "c:\\users\\saqi\\appdata\\local\\programs\\python\\python38\\lib\\site-packages\\sklearn\\linear_model\\_coordinate_descent.py:631: ConvergenceWarning: Objective did not converge. You might want to increase the number of iterations, check the scale of the features or consider increasing regularisation. Duality gap: 1.174e+09, tolerance: 4.664e+08\n",
      "  model = cd_fast.enet_coordinate_descent(\n"
     ]
    }
   ],
   "source": [
    "from sklearn.preprocessing import PowerTransformer\n",
    "\n",
    "news_df_pow = news_df.copy()\n",
    "news_df_pow.drop(columns=[' shares'], inplace=True)    # Temporarily remove shares column as we're not looking to scale that specific column\n",
    "\n",
    "for col in news_df_pow.columns:\n",
    "    scaler = PowerTransformer()\n",
    "    news_df_pow[col] = scaler.fit_transform(news_df_pow[col].to_numpy().reshape(-1, 1))\n",
    "\n",
    "news_df_pow[' shares'] = news_df[' shares']\n",
    "train_lasso_ridge(news_df_pow)"
   ]
  },
  {
   "cell_type": "markdown",
   "metadata": {},
   "source": [
    "### - *Add polynomial features and report their effect.*"
   ]
  },
  {
   "cell_type": "code",
   "execution_count": 286,
   "metadata": {},
   "outputs": [
    {
     "data": {
      "text/plain": [
       "(39644, 1770)"
      ]
     },
     "execution_count": 286,
     "metadata": {},
     "output_type": "execute_result"
    }
   ],
   "source": [
    "from sklearn.preprocessing import PolynomialFeatures\n",
    "\n",
    "news_poly = news_df.copy()\n",
    "news_poly.drop(columns=' shares', inplace=True)\n",
    "\n",
    "transformer = PolynomialFeatures(degree=2)\n",
    "news_poly = transformer.fit_transform(news_poly)\n",
    "\n",
    "news_poly.shape"
   ]
  },
  {
   "cell_type": "code",
   "execution_count": null,
   "metadata": {},
   "outputs": [],
   "source": [
    "news_poly = pd.DataFrame(news_poly)\n",
    "\n",
    "news_poly[' shares'] = news_df[' shares']\n",
    "\n",
    "train_lasso_ridge(news_poly)"
   ]
  },
  {
   "cell_type": "markdown",
   "metadata": {},
   "source": [
    "This did not work as our cost was greatly increased. However, we can try this again with scaled features from the previous section of this exercise;"
   ]
  },
  {
   "cell_type": "code",
   "execution_count": 292,
   "metadata": {},
   "outputs": [
    {
     "name": "stderr",
     "output_type": "stream",
     "text": [
      "c:\\users\\saqi\\appdata\\local\\programs\\python\\python38\\lib\\site-packages\\sklearn\\linear_model\\_ridge.py:216: LinAlgWarning: Ill-conditioned matrix (rcond=5.7842e-29): result may not be accurate.\n",
      "  return linalg.solve(A, Xy, assume_a=\"pos\", overwrite_a=True).T\n"
     ]
    },
    {
     "name": "stdout",
     "output_type": "stream",
     "text": [
      "Cost for ridge regression model: 905837369028409.6\n",
      "Average cost for ridge regression model: 114243582927.02858\n",
      "Cost for lasso regression model: 11054195312.393135\n",
      "Average cost for lasso regression model: 1394147.472870871\n"
     ]
    },
    {
     "name": "stderr",
     "output_type": "stream",
     "text": [
      "c:\\users\\saqi\\appdata\\local\\programs\\python\\python38\\lib\\site-packages\\sklearn\\linear_model\\_coordinate_descent.py:631: ConvergenceWarning: Objective did not converge. You might want to increase the number of iterations, check the scale of the features or consider increasing regularisation. Duality gap: 2.072e+12, tolerance: 4.664e+08\n",
      "  model = cd_fast.enet_coordinate_descent(\n"
     ]
    }
   ],
   "source": [
    "news_df_poly2 = news_df_pow.copy()\n",
    "news_df_poly2.drop(columns=' shares', inplace=True)\n",
    "\n",
    "transformer = PolynomialFeatures(degree=2)\n",
    "news_df_poly2 = transformer.fit_transform(news_df_poly2)\n",
    "\n",
    "news_df_poly2 = pd.DataFrame(news_df_poly2)\n",
    "news_df_poly2[' shares'] = news_df[' shares']\n",
    "\n",
    "train_lasso_ridge(news_poly)"
   ]
  },
  {
   "cell_type": "markdown",
   "metadata": {},
   "source": [
    "Our results are still not very good. This may be due to the fact that there are many columns in previous sections that are \"useless\"; they have little to no effect on model performance. We know this based on the hypothesis tests conducted in the previous sections of this exercise."
   ]
  },
  {
   "cell_type": "markdown",
   "metadata": {},
   "source": [
    "*Sources:*\n",
    "- [Machine Learning Mastery: How to Use Polynomial Feature Transforms for Machine Learning](https://machinelearningmastery.com/polynomial-features-transforms-for-machine-learning/)"
   ]
  },
  {
   "cell_type": "markdown",
   "metadata": {},
   "source": [
    "### - *Apply the feature selection methods that you have implemented in the above sections.*\n",
    "\n",
    "For this section of this exercise, I'll be simply reusing the code from **Exercise 10** with little to no explanation, as I've already explained the code at length. \n",
    "\n",
    "I'll be using the lasso model here, as it has performed consistently better than ridge regression during this exercise. I'll also be using the dataframe scaled via the power scaler (`news_df_pow`), as that has shown to have the greatest improvement."
   ]
  },
  {
   "cell_type": "markdown",
   "metadata": {},
   "source": [
    "#### Forward Selection"
   ]
  },
  {
   "cell_type": "code",
   "execution_count": 313,
   "metadata": {},
   "outputs": [],
   "source": [
    "import numpy as np\n",
    "\n",
    "candidate_features = list(news_df.columns.values)   # List all potential features\n",
    "candidate_features.remove(' shares')\n",
    "best_candidate = None\n",
    "best_candidate_performance = np.inf\n",
    "\n",
    "# For logging best performing model so far\n",
    "best_performance = np.inf     # The less our model's \n",
    "best_performing_features = []\n",
    "\n",
    "# Splitting data into train/validation sets for (somewhat) accurate assessment  \n",
    "x_train, x_val, y_train, y_val = train_test_split(news_df_pow.drop(columns=' shares'), news_df_pow[' shares'], \n",
    "                                                      test_size=0.2, random_state=rand_seed)"
   ]
  },
  {
   "cell_type": "code",
   "execution_count": 317,
   "metadata": {},
   "outputs": [
    {
     "name": "stdout",
     "output_type": "stream",
     "text": [
      "Adding feature:  LDA_03\n",
      "Adding feature:  kw_min_max\n",
      "Adding feature:  num_videos\n",
      "Adding feature:  data_channel_is_entertainment\n",
      "Adding feature:  weekday_is_monday\n",
      "Adding feature:  avg_negative_polarity\n",
      "Adding feature:  n_non_stop_unique_tokens\n",
      "Adding feature:  self_reference_avg_sharess\n",
      "Adding feature:  num_self_hrefs\n",
      "Adding feature:  global_subjectivity\n",
      "Adding feature:  min_positive_polarity\n",
      "Adding feature:  weekday_is_saturday\n",
      "Adding feature:  n_tokens_title\n",
      "Adding feature:  kw_min_avg\n",
      "Adding feature:  LDA_00\n",
      "Adding feature:  LDA_04\n",
      "Adding feature:  LDA_01\n",
      "Adding feature:  n_unique_tokens\n",
      "Adding feature:  self_reference_min_shares\n",
      "Adding feature:  self_reference_max_shares\n",
      "Adding feature:  abs_title_subjectivity\n",
      "Adding feature:  title_sentiment_polarity\n",
      "Adding feature:  global_rate_positive_words\n",
      "Adding feature:  rate_negative_words\n",
      "Adding feature:  num_keywords\n",
      "Adding feature:  weekday_is_sunday\n"
     ]
    },
    {
     "ename": "KeyboardInterrupt",
     "evalue": "",
     "output_type": "error",
     "traceback": [
      "\u001b[1;31m---------------------------------------------------------------------------\u001b[0m",
      "\u001b[1;31mKeyboardInterrupt\u001b[0m                         Traceback (most recent call last)",
      "Cell \u001b[1;32mIn[317], line 8\u001b[0m\n\u001b[0;32m      5\u001b[0m train_subset \u001b[38;5;241m=\u001b[39m x_train[current_features]\n\u001b[0;32m      7\u001b[0m \u001b[38;5;66;03m# Train linear regression model\u001b[39;00m\n\u001b[1;32m----> 8\u001b[0m reg \u001b[38;5;241m=\u001b[39m \u001b[43mLasso\u001b[49m\u001b[43m(\u001b[49m\u001b[43m)\u001b[49m\u001b[38;5;241;43m.\u001b[39;49m\u001b[43mfit\u001b[49m\u001b[43m(\u001b[49m\u001b[43mtrain_subset\u001b[49m\u001b[43m,\u001b[49m\u001b[43m \u001b[49m\u001b[43my_train\u001b[49m\u001b[43m)\u001b[49m\n\u001b[0;32m     10\u001b[0m \u001b[38;5;66;03m# Get prediction on validation set\u001b[39;00m\n\u001b[0;32m     11\u001b[0m val_subset \u001b[38;5;241m=\u001b[39m x_val[current_features]\n",
      "File \u001b[1;32mc:\\users\\saqi\\appdata\\local\\programs\\python\\python38\\lib\\site-packages\\sklearn\\linear_model\\_coordinate_descent.py:1004\u001b[0m, in \u001b[0;36mElasticNet.fit\u001b[1;34m(self, X, y, sample_weight, check_input)\u001b[0m\n\u001b[0;32m   1002\u001b[0m \u001b[38;5;28;01melse\u001b[39;00m:\n\u001b[0;32m   1003\u001b[0m     this_Xy \u001b[38;5;241m=\u001b[39m \u001b[38;5;28;01mNone\u001b[39;00m\n\u001b[1;32m-> 1004\u001b[0m _, this_coef, this_dual_gap, this_iter \u001b[38;5;241m=\u001b[39m \u001b[38;5;28;43mself\u001b[39;49m\u001b[38;5;241;43m.\u001b[39;49m\u001b[43mpath\u001b[49m\u001b[43m(\u001b[49m\n\u001b[0;32m   1005\u001b[0m \u001b[43m    \u001b[49m\u001b[43mX\u001b[49m\u001b[43m,\u001b[49m\n\u001b[0;32m   1006\u001b[0m \u001b[43m    \u001b[49m\u001b[43my\u001b[49m\u001b[43m[\u001b[49m\u001b[43m:\u001b[49m\u001b[43m,\u001b[49m\u001b[43m \u001b[49m\u001b[43mk\u001b[49m\u001b[43m]\u001b[49m\u001b[43m,\u001b[49m\n\u001b[0;32m   1007\u001b[0m \u001b[43m    \u001b[49m\u001b[43ml1_ratio\u001b[49m\u001b[38;5;241;43m=\u001b[39;49m\u001b[38;5;28;43mself\u001b[39;49m\u001b[38;5;241;43m.\u001b[39;49m\u001b[43ml1_ratio\u001b[49m\u001b[43m,\u001b[49m\n\u001b[0;32m   1008\u001b[0m \u001b[43m    \u001b[49m\u001b[43meps\u001b[49m\u001b[38;5;241;43m=\u001b[39;49m\u001b[38;5;28;43;01mNone\u001b[39;49;00m\u001b[43m,\u001b[49m\n\u001b[0;32m   1009\u001b[0m \u001b[43m    \u001b[49m\u001b[43mn_alphas\u001b[49m\u001b[38;5;241;43m=\u001b[39;49m\u001b[38;5;28;43;01mNone\u001b[39;49;00m\u001b[43m,\u001b[49m\n\u001b[0;32m   1010\u001b[0m \u001b[43m    \u001b[49m\u001b[43malphas\u001b[49m\u001b[38;5;241;43m=\u001b[39;49m\u001b[43m[\u001b[49m\u001b[43malpha\u001b[49m\u001b[43m]\u001b[49m\u001b[43m,\u001b[49m\n\u001b[0;32m   1011\u001b[0m \u001b[43m    \u001b[49m\u001b[43mprecompute\u001b[49m\u001b[38;5;241;43m=\u001b[39;49m\u001b[43mprecompute\u001b[49m\u001b[43m,\u001b[49m\n\u001b[0;32m   1012\u001b[0m \u001b[43m    \u001b[49m\u001b[43mXy\u001b[49m\u001b[38;5;241;43m=\u001b[39;49m\u001b[43mthis_Xy\u001b[49m\u001b[43m,\u001b[49m\n\u001b[0;32m   1013\u001b[0m \u001b[43m    \u001b[49m\u001b[43mcopy_X\u001b[49m\u001b[38;5;241;43m=\u001b[39;49m\u001b[38;5;28;43;01mTrue\u001b[39;49;00m\u001b[43m,\u001b[49m\n\u001b[0;32m   1014\u001b[0m \u001b[43m    \u001b[49m\u001b[43mcoef_init\u001b[49m\u001b[38;5;241;43m=\u001b[39;49m\u001b[43mcoef_\u001b[49m\u001b[43m[\u001b[49m\u001b[43mk\u001b[49m\u001b[43m]\u001b[49m\u001b[43m,\u001b[49m\n\u001b[0;32m   1015\u001b[0m \u001b[43m    \u001b[49m\u001b[43mverbose\u001b[49m\u001b[38;5;241;43m=\u001b[39;49m\u001b[38;5;28;43;01mFalse\u001b[39;49;00m\u001b[43m,\u001b[49m\n\u001b[0;32m   1016\u001b[0m \u001b[43m    \u001b[49m\u001b[43mreturn_n_iter\u001b[49m\u001b[38;5;241;43m=\u001b[39;49m\u001b[38;5;28;43;01mTrue\u001b[39;49;00m\u001b[43m,\u001b[49m\n\u001b[0;32m   1017\u001b[0m \u001b[43m    \u001b[49m\u001b[43mpositive\u001b[49m\u001b[38;5;241;43m=\u001b[39;49m\u001b[38;5;28;43mself\u001b[39;49m\u001b[38;5;241;43m.\u001b[39;49m\u001b[43mpositive\u001b[49m\u001b[43m,\u001b[49m\n\u001b[0;32m   1018\u001b[0m \u001b[43m    \u001b[49m\u001b[43mcheck_input\u001b[49m\u001b[38;5;241;43m=\u001b[39;49m\u001b[38;5;28;43;01mFalse\u001b[39;49;00m\u001b[43m,\u001b[49m\n\u001b[0;32m   1019\u001b[0m \u001b[43m    \u001b[49m\u001b[38;5;66;43;03m# from here on **params\u001b[39;49;00m\n\u001b[0;32m   1020\u001b[0m \u001b[43m    \u001b[49m\u001b[43mtol\u001b[49m\u001b[38;5;241;43m=\u001b[39;49m\u001b[38;5;28;43mself\u001b[39;49m\u001b[38;5;241;43m.\u001b[39;49m\u001b[43mtol\u001b[49m\u001b[43m,\u001b[49m\n\u001b[0;32m   1021\u001b[0m \u001b[43m    \u001b[49m\u001b[43mX_offset\u001b[49m\u001b[38;5;241;43m=\u001b[39;49m\u001b[43mX_offset\u001b[49m\u001b[43m,\u001b[49m\n\u001b[0;32m   1022\u001b[0m \u001b[43m    \u001b[49m\u001b[43mX_scale\u001b[49m\u001b[38;5;241;43m=\u001b[39;49m\u001b[43mX_scale\u001b[49m\u001b[43m,\u001b[49m\n\u001b[0;32m   1023\u001b[0m \u001b[43m    \u001b[49m\u001b[43mmax_iter\u001b[49m\u001b[38;5;241;43m=\u001b[39;49m\u001b[38;5;28;43mself\u001b[39;49m\u001b[38;5;241;43m.\u001b[39;49m\u001b[43mmax_iter\u001b[49m\u001b[43m,\u001b[49m\n\u001b[0;32m   1024\u001b[0m \u001b[43m    \u001b[49m\u001b[43mrandom_state\u001b[49m\u001b[38;5;241;43m=\u001b[39;49m\u001b[38;5;28;43mself\u001b[39;49m\u001b[38;5;241;43m.\u001b[39;49m\u001b[43mrandom_state\u001b[49m\u001b[43m,\u001b[49m\n\u001b[0;32m   1025\u001b[0m \u001b[43m    \u001b[49m\u001b[43mselection\u001b[49m\u001b[38;5;241;43m=\u001b[39;49m\u001b[38;5;28;43mself\u001b[39;49m\u001b[38;5;241;43m.\u001b[39;49m\u001b[43mselection\u001b[49m\u001b[43m,\u001b[49m\n\u001b[0;32m   1026\u001b[0m \u001b[43m    \u001b[49m\u001b[43msample_weight\u001b[49m\u001b[38;5;241;43m=\u001b[39;49m\u001b[43msample_weight\u001b[49m\u001b[43m,\u001b[49m\n\u001b[0;32m   1027\u001b[0m \u001b[43m\u001b[49m\u001b[43m)\u001b[49m\n\u001b[0;32m   1028\u001b[0m coef_[k] \u001b[38;5;241m=\u001b[39m this_coef[:, \u001b[38;5;241m0\u001b[39m]\n\u001b[0;32m   1029\u001b[0m dual_gaps_[k] \u001b[38;5;241m=\u001b[39m this_dual_gap[\u001b[38;5;241m0\u001b[39m]\n",
      "File \u001b[1;32mc:\\users\\saqi\\appdata\\local\\programs\\python\\python38\\lib\\site-packages\\sklearn\\linear_model\\_coordinate_descent.py:631\u001b[0m, in \u001b[0;36menet_path\u001b[1;34m(X, y, l1_ratio, eps, n_alphas, alphas, precompute, Xy, copy_X, coef_init, verbose, return_n_iter, positive, check_input, **params)\u001b[0m\n\u001b[0;32m    617\u001b[0m     model \u001b[38;5;241m=\u001b[39m cd_fast\u001b[38;5;241m.\u001b[39menet_coordinate_descent_gram(\n\u001b[0;32m    618\u001b[0m         coef_,\n\u001b[0;32m    619\u001b[0m         l1_reg,\n\u001b[1;32m   (...)\u001b[0m\n\u001b[0;32m    628\u001b[0m         positive,\n\u001b[0;32m    629\u001b[0m     )\n\u001b[0;32m    630\u001b[0m \u001b[38;5;28;01melif\u001b[39;00m precompute \u001b[38;5;129;01mis\u001b[39;00m \u001b[38;5;28;01mFalse\u001b[39;00m:\n\u001b[1;32m--> 631\u001b[0m     model \u001b[38;5;241m=\u001b[39m \u001b[43mcd_fast\u001b[49m\u001b[38;5;241;43m.\u001b[39;49m\u001b[43menet_coordinate_descent\u001b[49m\u001b[43m(\u001b[49m\n\u001b[0;32m    632\u001b[0m \u001b[43m        \u001b[49m\u001b[43mcoef_\u001b[49m\u001b[43m,\u001b[49m\u001b[43m \u001b[49m\u001b[43ml1_reg\u001b[49m\u001b[43m,\u001b[49m\u001b[43m \u001b[49m\u001b[43ml2_reg\u001b[49m\u001b[43m,\u001b[49m\u001b[43m \u001b[49m\u001b[43mX\u001b[49m\u001b[43m,\u001b[49m\u001b[43m \u001b[49m\u001b[43my\u001b[49m\u001b[43m,\u001b[49m\u001b[43m \u001b[49m\u001b[43mmax_iter\u001b[49m\u001b[43m,\u001b[49m\u001b[43m \u001b[49m\u001b[43mtol\u001b[49m\u001b[43m,\u001b[49m\u001b[43m \u001b[49m\u001b[43mrng\u001b[49m\u001b[43m,\u001b[49m\u001b[43m \u001b[49m\u001b[43mrandom\u001b[49m\u001b[43m,\u001b[49m\u001b[43m \u001b[49m\u001b[43mpositive\u001b[49m\n\u001b[0;32m    633\u001b[0m \u001b[43m    \u001b[49m\u001b[43m)\u001b[49m\n\u001b[0;32m    634\u001b[0m \u001b[38;5;28;01melse\u001b[39;00m:\n\u001b[0;32m    635\u001b[0m     \u001b[38;5;28;01mraise\u001b[39;00m \u001b[38;5;167;01mValueError\u001b[39;00m(\n\u001b[0;32m    636\u001b[0m         \u001b[38;5;124m\"\u001b[39m\u001b[38;5;124mPrecompute should be one of True, False, \u001b[39m\u001b[38;5;124m'\u001b[39m\u001b[38;5;124mauto\u001b[39m\u001b[38;5;124m'\u001b[39m\u001b[38;5;124m or array-like. Got \u001b[39m\u001b[38;5;132;01m%r\u001b[39;00m\u001b[38;5;124m\"\u001b[39m\n\u001b[0;32m    637\u001b[0m         \u001b[38;5;241m%\u001b[39m precompute\n\u001b[0;32m    638\u001b[0m     )\n",
      "\u001b[1;31mKeyboardInterrupt\u001b[0m: "
     ]
    }
   ],
   "source": [
    "while len(candidate_features) > 0:\n",
    "    for candidate in candidate_features:\n",
    "        # Create subset of training dataset with selected features\n",
    "        current_features = best_performing_features + [candidate]\n",
    "        train_subset = x_train[current_features]\n",
    "        \n",
    "        # Train linear regression model\n",
    "        reg = Lasso().fit(train_subset, y_train)\n",
    "        \n",
    "        # Get prediction on validation set\n",
    "        val_subset = x_val[current_features]\n",
    "        pred = reg.predict(val_subset)\n",
    "        \n",
    "        # Get model performance using mse() defined above\n",
    "        cost = mse(pred, y_val)\n",
    "        if cost < best_candidate_performance:\n",
    "            best_candidate_performance = cost\n",
    "            best_candidate = candidate\n",
    "        \n",
    "    # Check if model has improved\n",
    "    if best_candidate is not None:\n",
    "        best_performing_features.append(best_candidate)\n",
    "        print(f\"Adding feature: {best_candidate}\")\n",
    "        candidate_features.remove(best_candidate)\n",
    "        best_performance = best_candidate_performance\n",
    "    \n",
    "    else:\n",
    "        print(\"No improvement! Stopping...\")\n",
    "        break\n",
    "        \n",
    "    # Reset loop\n",
    "    best_candidate = None\n",
    "    best_candidate_performance = best_performance\n",
    "\n",
    "    \n",
    "print(\"Selected features: \")\n",
    "print(best_performing_features)\n",
    "print(f\"Best model cost: {best_performance}\")"
   ]
  },
  {
   "cell_type": "markdown",
   "metadata": {},
   "source": [
    "#### Backward Selection"
   ]
  },
  {
   "cell_type": "code",
   "execution_count": null,
   "metadata": {},
   "outputs": [],
   "source": [
    "remaining_features = list(x_train.columns.values)\n",
    "removed_features = []\n",
    "\n",
    "candidate_feature = None\n",
    "best_candidate_cost = np.inf\n",
    "\n",
    "prev_cost = np.inf\n",
    "\n",
    "while len(remaining_features) > 0:\n",
    "    for feat in remaining_features:\n",
    "        # Create subset of training dataset with selected features\n",
    "        features_to_drop = removed_features + [feat]\n",
    "        train_subset = x_train.drop(columns=features_to_drop, axis=1)\n",
    "        \n",
    "        # Train linear regression model\n",
    "        reg = Lasso().fit(train_subset, y_train)\n",
    "        \n",
    "        # Get predictions on validation set\n",
    "        val_subset = x_val.drop(columns=features_to_drop, axis=1)\n",
    "        pred = reg.predict(val_subset)\n",
    "        \n",
    "        # Get model performance using mse() defined above\n",
    "        cost = mse(pred, y_val)\n",
    "        if cost < best_candidate_cost:\n",
    "            best_candidate_cost = cost\n",
    "            candidate_feature = feat\n",
    "        \n",
    "    # Check if removing best feature is \"worth it\", e.g. 1% decrease\n",
    "    if best_candidate_cost - prev_cost < prev_cost * 0.05:\n",
    "        removed_features.append(candidate_feature)\n",
    "        remaining_features.remove(candidate_feature)\n",
    "        prev_cost = best_candidate_cost\n",
    "        print(f\"Removing feature: {candidate_feature}\")\n",
    "    else:\n",
    "        print(\"No improvement! Stopping...\")\n",
    "        break\n",
    "    \n",
    "    # Reset loop\n",
    "    candidate_feature = None\n",
    "    best_candidate_cost = np.inf\n",
    "\n",
    "print(\"Remaining features: \")\n",
    "print(remaining_features)\n",
    "print(f\"Best model cost: {prev_cost}\")"
   ]
  },
  {
   "cell_type": "markdown",
   "metadata": {
    "id": "_1oS2uL9aLeG"
   },
   "source": [
    "# **Exercise 13:**"
   ]
  },
  {
   "cell_type": "markdown",
   "metadata": {
    "id": "9FZjEIA8aOI1"
   },
   "source": [
    "## *Implement batch gradient descent with early stopping for softmax regression from scratch. Use it on a classification task on the Penguins dataset.*"
   ]
  },
  {
   "cell_type": "markdown",
   "metadata": {
    "id": "du8Qxx_1rR6f"
   },
   "source": [
    "### A. Data Preprocessing and (Some) EDA"
   ]
  },
  {
   "cell_type": "markdown",
   "metadata": {
    "id": "c0dLBuXabCiF"
   },
   "source": [
    "For sourcing the data, I'll be using the [`palmerpenguins`](https://github.com/mcnakhaee/palmerpenguins) python module. The original dataset published by Allison Horst exists [here](https://allisonhorst.github.io/palmerpenguins/) as an R package, and this module is a python port."
   ]
  },
  {
   "cell_type": "code",
   "execution_count": null,
   "metadata": {
    "id": "xg-DVUl2bAH2"
   },
   "outputs": [],
   "source": [
    "!pip install palmerpenguins\n",
    "\n",
    "from palmerpenguins import load_penguins\n",
    "penguins = load_penguins()\n",
    "penguins.head()"
   ]
  },
  {
   "cell_type": "markdown",
   "metadata": {
    "id": "GgkTElVjj1HR"
   },
   "source": [
    "Judging by the sample above, there's some feature engineering we need to do before continuing:\n",
    "1. There are `NaN` values. We can further verify this by counting the number of `NaN` values. \n",
    "\n",
    "> It should be noted that we should check for `NaN` values regardless of if we spot any using `head()` or `tail()` or any similar functions."
   ]
  },
  {
   "cell_type": "code",
   "execution_count": null,
   "metadata": {
    "id": "dfPRQR_Fkveo"
   },
   "outputs": [],
   "source": [
    "penguins.isna().sum()"
   ]
  },
  {
   "cell_type": "markdown",
   "metadata": {
    "id": "u3yWpQKEl5Dn"
   },
   "source": [
    "We can then fill these values according to their species, so that we don't add to the noise in our data by filling in values for entries using data from other classes;"
   ]
  },
  {
   "cell_type": "code",
   "execution_count": null,
   "metadata": {
    "id": "BuzvOMPGmv8Q"
   },
   "outputs": [],
   "source": [
    "# List columns with NaN values\n",
    "na_columns = [\"bill_length_mm\", \"bill_depth_mm\", \"flipper_length_mm\", \"body_mass_g\", \"sex\"]\n",
    "\n",
    "# Fill in empty values per column\n",
    "for column in na_columns:\n",
    "  penguins[column] = (penguins.groupby(\"species\", group_keys=False)[column].apply(lambda s: s.bfill().ffill()))\n",
    "\n",
    "# Count number of NaN values per column\n",
    "penguins.isna().sum()"
   ]
  },
  {
   "cell_type": "markdown",
   "metadata": {
    "id": "bCIRh-04l-CH"
   },
   "source": [
    "2. There are a number of categorical features that should be converted to corresponding numerical values, so we can use them in our machine learning model. For instance, for the `species` column:"
   ]
  },
  {
   "cell_type": "code",
   "execution_count": null,
   "metadata": {
    "id": "iei3PetrnYTQ"
   },
   "outputs": [],
   "source": [
    "penguins.species.value_counts()"
   ]
  },
  {
   "cell_type": "markdown",
   "metadata": {
    "id": "ArvLKV86niH4"
   },
   "source": [
    "We can see here that there are a limited number of classes in the `species` column, but these classes are strings, and we won't be able to use them directly in a model. Therefore, we can convert each class to a code for all columns that have categorical values;"
   ]
  },
  {
   "cell_type": "code",
   "execution_count": null,
   "metadata": {
    "id": "Wt_jlc5Gn8Rv"
   },
   "outputs": [],
   "source": [
    "cat_columns = [\"species\", \"island\", \"sex\"]\n",
    "\n",
    "for col_name in cat_columns:\n",
    "    penguins[col_name]= penguins[col_name].astype('category')\n",
    "    penguins[col_name] = penguins[col_name].cat.codes\n",
    "\n",
    "\n",
    "penguins.head()"
   ]
  },
  {
   "cell_type": "markdown",
   "metadata": {
    "id": "ufX7hUuskeyX"
   },
   "source": [
    "3. We can also gauge the importance of features like `island` and `year` using a heatmap, and then judging if these features should be dropped or not. We can do this by calculating the correlation between different columns using Pandas's built in [`corr`](https://pandas.pydata.org/docs/reference/api/pandas.DataFrame.corr.html) function and then plotting the correlations in a [heatmap](https://seaborn.pydata.org/generated/seaborn.heatmap.html)."
   ]
  },
  {
   "cell_type": "code",
   "execution_count": null,
   "metadata": {
    "id": "2e8VQOe_okJY"
   },
   "outputs": [],
   "source": [
    "corr = penguins.corr()    # Calculate column-wise correlations\n",
    "\n",
    "# Plot relevant heatmap\n",
    "sns.heatmap(corr, xticklabels=corr.columns, yticklabels=corr.columns, annot=True)"
   ]
  },
  {
   "cell_type": "markdown",
   "metadata": {
    "id": "fqmMFGEyqh44"
   },
   "source": [
    "Judging by the heatmap above, we were able to learn that `sex` and `year` have very little correlation with `species` (which so happens to be the column we're aiming to predict), so we can safely remove these two columns from our dataframe;"
   ]
  },
  {
   "cell_type": "code",
   "execution_count": null,
   "metadata": {
    "id": "-z6cBAkLq26o"
   },
   "outputs": [],
   "source": [
    "penguins.drop([\"sex\", \"year\"], inplace=True, axis=1)\n",
    "\n",
    "# Preview how the final dataframe looks like:\n",
    "penguins.head()"
   ]
  },
  {
   "cell_type": "markdown",
   "metadata": {
    "id": "j4QJ7Au_BFFm"
   },
   "source": [
    "4. Finally, we'll scale our data so that:\n",
    "- All features have the same scale\n",
    "- We won't run into issues when calculating exponents later on\n",
    "\n",
    "For this, we'll be using Scikit-Learn's [`StandardScaler`](https://scikit-learn.org/stable/modules/generated/sklearn.preprocessing.StandardScaler.html) which standardizes features by removing the mean and scaling to a unit variance. In other words, it scales each column to [0, 1], centers it to a mean of 0 and a deviation of 1.\n",
    "\n",
    "This is done by calculating the standard score of a sample $x$:\n",
    "\n",
    "$$\n",
    "z = \\frac{x - 𝜇}{s}\n",
    "$$\n",
    "\n",
    "Where $𝜇$ is the mean of the samples (or zero if the `with_mean` parameter is set to `False`) and `s` is the standard deviation of the training samples (or one if the `with_std` parameter is set to `False`)\n",
    "\n",
    "`StandardScaler` makes it so that the feature columns take on a normal distribution, making it easier to learn the parameters, especially for models like logistic regression and SVM. This is done in a way that useful information is still maintained, especially regarding outliers while also making the algorithm less sensitive to them. This is in contrast to min-max scaling where the data is scaled to a limited range of values.\n",
    "\n",
    "We'll do this for columns with continuous values, e.g. `bill_length_mm`, `bill_depth_mm`, `flipper_length_mm` and `body_mass_g`."
   ]
  },
  {
   "cell_type": "code",
   "execution_count": null,
   "metadata": {
    "id": "T8U3k7MsDzJm"
   },
   "outputs": [],
   "source": [
    "from sklearn.preprocessing import StandardScaler\n",
    "\n",
    "scaler = StandardScaler()\n",
    "\n",
    "columns_to_scale = [\"bill_length_mm\", \"bill_depth_mm\", \"flipper_length_mm\", \"body_mass_g\"]\n",
    "\n",
    "for column in columns_to_scale:\n",
    "  col_data = penguins[column].to_numpy().reshape(-1, 1)\n",
    "  penguins[column] = scaler.fit_transform(col_data)\n",
    "\n",
    "penguins.head()"
   ]
  },
  {
   "cell_type": "markdown",
   "metadata": {
    "id": "hv8_QL41rHi_"
   },
   "source": [
    "Now that we're done preprocessing our data, we can finally split our data into train/test datasets and move onto the actual model."
   ]
  },
  {
   "cell_type": "code",
   "execution_count": null,
   "metadata": {
    "id": "Uu3RBhZorg5o"
   },
   "outputs": [],
   "source": [
    "# Split the data into train/test pairs\n",
    "from sklearn.model_selection import train_test_split\n",
    "\n",
    "pen_train, pen_val = train_test_split(penguins, test_size=0.2, random_state=rand_seed)\n",
    "\n",
    "x_train, y_train = pen_train.drop('species', axis=1), pen_train.species\n",
    "x_val, y_val = pen_val.drop('species', axis=1), pen_val.species"
   ]
  },
  {
   "cell_type": "markdown",
   "metadata": {
    "id": "JAL9Mfh0r6nn"
   },
   "source": [
    "### B. Creating the Model\n",
    "\n",
    "As per the problem specification, the model we'll be using in this problem is a model based on *softmax regression*.\n",
    "\n",
    "Softmax regression is a form of logistic regression — e.g. the task at hand is a classification one where we're attempting to predict if a specific input vector belongs to a certain class. This method normalizes an input to a vector of probability distributions that sums up to 1.\n",
    "\n",
    "The output of this method is a vector of values between 0 and 1, each corresponding to the probability that our input belongs to a certain class.\n",
    "\n",
    "- Softmax regression is sometimes called multinomial logistic regression, because we're able to accommodate as many classes as we need for our specific task.\n",
    "\n",
    "In softmax regression, we have the softmax *function* which is defined as below:\n",
    "\n",
    "$$\n",
    "P(y=j | z^{(i)}) = \\frac{e^{z(t)}}{Σ^{k}_{j=0}e^{z(t)}_k}\n",
    "$$\n",
    "\n",
    "Where we have $k$ number of classes. And $z$ is defined as below:\n",
    "\n",
    "$$\n",
    "z = \\theta^Tx + b = \\theta_1x_1 + \\theta_2x_2 + ... + \\theta_mx_m + b\n",
    "$$\n",
    "\n",
    "Where we have $m$ features and $\\theta$ denotes the coefficients we're aiming to learn, with $b$ being our intercept or bias.\n",
    "\n",
    "> The term $\\frac{1}{\\sum^K_{j=1}exp(\\theta^{(j)T})}$ normalizes the distribution so it sums to 1.\n",
    "\n",
    "Similar to Exercise 6, we'll initialize our parameters using Numpy's `np.random.rand`. The number of coefficients will be one more than the number of columns in `x_train`, with the last coefficient being the bias."
   ]
  },
  {
   "cell_type": "code",
   "execution_count": null,
   "metadata": {
    "id": "jBDZE9Ou3Bn3"
   },
   "outputs": [],
   "source": [
    "np.random.seed(rand_seed)    # Just in case we haven't already set our random seed for reproducability\n",
    "\n",
    "n_classes = penguins.species.unique().shape[0]\n",
    "n_features = x_train.shape[1]\n",
    "\n",
    "parameters = np.random.rand(n_classes, n_features + 1)    # n_classes number of coefficients for each feature (including intercept)\n",
    "parameters"
   ]
  },
  {
   "cell_type": "markdown",
   "metadata": {
    "id": "oafMNLS4-14-"
   },
   "source": [
    "We can then write a function for getting our model's prediction for a single input;"
   ]
  },
  {
   "cell_type": "code",
   "execution_count": null,
   "metadata": {
    "id": "7MYe-wJ4_Av3"
   },
   "outputs": [],
   "source": [
    "def get_pred_softmax(input):\n",
    "  class_probs = []\n",
    "  \n",
    "  row = input.to_numpy()   # Convers Pandas Series row to Numpy Array\n",
    "  row = np.append(row, 1)    # Add bias\n",
    "\n",
    "  for i in range(n_classes):\n",
    "    prob = np.dot(row, parameters[i])\n",
    "    class_probs.append(np.exp(prob))\n",
    "\n",
    "  classwise_prob = class_probs/sum(class_probs)    # Class-wise probabilities that sum up to 1\n",
    "\n",
    "  # The class with the highest probability is considered to be model selection\n",
    "  return classwise_prob\n",
    "\n",
    "pred = get_pred_softmax(x_train.iloc[0])\n",
    "print(f\"Model prediction: {np.argmax(pred)}\\nClass-wise predictions: {pred}\")"
   ]
  },
  {
   "cell_type": "markdown",
   "metadata": {
    "id": "xlmdw2q_3A_v"
   },
   "source": [
    "\n",
    "Our goal is to set $\\theta$ such that we minimize the cost function below; \n",
    "\n",
    "$$\n",
    "J(\\theta;b) = \\frac{1}{n}\\sum^n_{i=1}H(y_i, pred_i) \n",
    "$$\n",
    "\n",
    "Where $H_i$ is the cross-entropy function defined by:\n",
    "\n",
    "$$\n",
    "H(y_i, pred_i) = - \\sum_my_i.log(pred_i)\n",
    "$$\n",
    "\n",
    "If we take the derivative, the gradient $∇\\theta_jJ(\\theta_i;b)$ is:\n",
    "\n",
    "$$\n",
    "∇\\theta_jJ(\\theta_i;b)=\\frac{1}{n}\\sum^n_{i=0}[x^{(i)}(pred_i - y_i)]\n",
    "$$\n",
    "\n",
    "*(proof omitted for brevity)*\n",
    "\n",
    "So we can update the parameters using this function:\n",
    "\n",
    "$$\n",
    "\\theta_j = \\theta_j - \\alpha∇\\theta_jJ(\\theta_i;b)\n",
    "$$\n",
    "\n",
    "For every class $j=1,...,k$. Where $\\alpha$ is our learning rate that'll dictate how big each step will be and $m$ is the number of samples in our batch.\n"
   ]
  },
  {
   "cell_type": "code",
   "execution_count": null,
   "metadata": {
    "id": "IkqQMVPs_Hhy"
   },
   "outputs": [],
   "source": [
    "learning_rate = 1.0\n",
    "\n",
    "# Convert y label to one-hot vector of probabilities\n",
    "def one_hot_label(label):\n",
    "  probs = [0.0 for i in range(n_classes)]\n",
    "  probs[label] = 1.0\n",
    "  return np.array(probs)\n",
    "\n",
    "# Cost function derivative for single input\n",
    "def calc_gradient(pred, label, input):\n",
    "  delta = pred - label\n",
    "  input = np.atleast_2d(np.append(input, 1)).repeat(n_classes, axis=0)\n",
    "  grad = input.T.dot(delta)\n",
    "  return grad\n",
    "\n",
    "\n",
    "# Update parameters for a specific batch\n",
    "def update_params(inputs, labels, lr=learning_rate):\n",
    "  global parameters\n",
    "\n",
    "  # Convert to numpy\n",
    "  labels = labels.to_numpy()\n",
    "\n",
    "  # Loop over batch, get gradient for each single observation\n",
    "  gradients = []\n",
    "  for i in range(inputs.shape[0]):\n",
    "    row = inputs.iloc[i]\n",
    "    label = labels[i]\n",
    "    o_h_label = one_hot_label(label)\n",
    "    pred = get_pred_softmax(row)\n",
    "\n",
    "    grad = calc_gradient(pred, o_h_label, row.to_numpy())\n",
    "    gradients.append(grad)\n",
    "\n",
    "  gradients = np.array(gradients).sum(axis=0)\n",
    "  gradients /= inputs.shape[0]\n",
    "  gradients *= lr\n",
    "\n",
    "\n",
    "  parameters[label] -= gradients\n",
    "    \n",
    "\n",
    "\n",
    "print(\"Parameters before update: \")\n",
    "print(parameters)\n",
    "\n",
    "# Update coefficients with a batch size of 10\n",
    "update_params(x_train.iloc[0:10], y_train.iloc[0:10])\n",
    "\n",
    "print(\"\\n***\\n\")\n",
    "print(\"Parameters after update:\")\n",
    "print(parameters)"
   ]
  },
  {
   "cell_type": "markdown",
   "metadata": {
    "id": "1_RoorBnyCwz"
   },
   "source": [
    "Now that we've got the core training function in place, we can now create our main training loop. We'll write a simple function that count the number of correct predictions against incorrect ones.\n",
    "\n",
    "As per the problem specification, we'll be using batch gradient descent and early stopping as well.\n",
    "- With batch gradient descent, we won't be using one sample at a time for training our model, but instead dividing the dataset up into \"batches\" (the size of which defined by the parameter `batch_size`) which we will feed to our model and use the averaged error over that batch to tune our coefficients. The function `update_params` above already supports this.\n",
    "- With early stopping, I'll be constantly monitoring model performance on the validation set during training. Of course, I'll have a predefined number of epochs, but should our model begin to overfit (e.g. begins to perform worse over a set number of epochs (defined by the parameter `patience`)), we'll assume we're done training our model and stop the training process earlier.\n",
    "\n",
    "**Side note**: We'll also add a small function that gives us the final model prediction. In other words, out of the list of class probabilities, which class had the highest probability."
   ]
  },
  {
   "cell_type": "code",
   "execution_count": null,
   "metadata": {
    "id": "e2jA70mPyrRa"
   },
   "outputs": [],
   "source": [
    "def calc_acc(y1_list, y2_list):\n",
    "  count = 0\n",
    "  for y1, y2 in zip(y1_list, y2_list):\n",
    "    if y1 == y2:\n",
    "      count += 1\n",
    "  return count/len(y1_list)\n",
    "\n",
    "def final_prediction(pred):\n",
    "  return np.argmax(pred)\n",
    "\n",
    "batch_size = 1\n",
    "n_epochs = 100\n",
    "patience = 30   # Wait for this many rounds before stopping\n",
    "best_score = -1\n",
    "n_count = 0\n",
    "\n",
    "\n",
    "n_batches = int(x_train.shape[0] / batch_size)\n",
    "\n",
    "\n",
    "\n",
    "for epoch in range(n_epochs):\n",
    "  \n",
    "  # Train over batches\n",
    "  for i in range(n_batches):\n",
    "    start_idx, end_idx = i * batch_size, (i+1) * batch_size\n",
    "    update_params(x_train.iloc[start_idx:end_idx], y_train.iloc[start_idx:end_idx])\n",
    "  \n",
    "  # Get predictions on validation set\n",
    "  val_pred = []\n",
    "  for i in range(x_val.shape[0]):\n",
    "    val_pred.append(final_prediction(get_pred_softmax(x_val.iloc[i])))\n",
    "  \n",
    "  train_pred = []\n",
    "  for i in range(x_train.shape[0]):\n",
    "    train_pred.append(final_prediction(get_pred_softmax(x_train.iloc[i])))\n",
    "\n",
    "\n",
    "  score = calc_acc(y_val, val_pred)\n",
    "  train_score = calc_acc(y_train, train_pred)\n",
    "\n",
    "  if epoch%1 == 0:\n",
    "    print(f\"Epoch: {epoch}/{n_epochs-1}\")\n",
    "    print(f\"Training Score: {train_score}\")\n",
    "    print(f\"Validation Score: {score}\")\n",
    "    print(parameters)\n",
    "\n",
    "\n",
    "  # Early stopping\n",
    "  if score > best_score:\n",
    "    best_score = score\n",
    "    n_count = 0\n",
    "  else:\n",
    "    n_count += 1\n",
    "    print(f\"Try {n_count}/{patience}\")\n",
    "    if n_count >= patience:\n",
    "      print(f\"No model improvement over the last {n_count} rounds! Stopping...\")\n",
    "      break\n",
    "\n",
    "print(f\"Best score: {best_score}\")\n"
   ]
  },
  {
   "cell_type": "markdown",
   "metadata": {
    "id": "HDID8flBsVrw"
   },
   "source": [
    "*Sources:*\n",
    "- [Towards Data Science: The Softmax Function, Simplified](https://towardsdatascience.com/softmax-function-simplified-714068bf8156)\n",
    "- [Stanford: Softmax Regression](http://deeplearning.stanford.edu/tutorial/supervised/SoftmaxRegression/#:~:text=Properties%20of%20softmax%20regression%20parameterization&text=label%20probabilities%20as-,P(y(i)%3Dk%7Cx(i,%E2%8A%A4x(i)).)\n",
    "- [Data Science StackExchange: When should I use StandardScaler and when MinMaxScaler?](https://datascience.stackexchange.com/questions/43972/when-should-i-use-standardscaler-and-when-minmaxscaler)\n",
    "- [Python Machine Learning Book code: Softmax Regression](https://github.com/rasbt/python-machine-learning-book/blob/master/code/bonus/softmax-regression.ipynb)"
   ]
  }
 ],
 "metadata": {
  "colab": {
   "provenance": []
  },
  "kernelspec": {
   "display_name": "Python 3 (ipykernel)",
   "language": "python",
   "name": "python3"
  },
  "language_info": {
   "codemirror_mode": {
    "name": "ipython",
    "version": 3
   },
   "file_extension": ".py",
   "mimetype": "text/x-python",
   "name": "python",
   "nbconvert_exporter": "python",
   "pygments_lexer": "ipython3",
   "version": "3.8.10"
  }
 },
 "nbformat": 4,
 "nbformat_minor": 1
}
