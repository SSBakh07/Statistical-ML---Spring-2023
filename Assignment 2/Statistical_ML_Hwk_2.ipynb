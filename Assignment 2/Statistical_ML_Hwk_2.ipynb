{
 "cells": [
  {
   "cell_type": "markdown",
   "id": "74078d04",
   "metadata": {},
   "source": [
    "# Machine Learning - 2<sup>st</sup> Assignment\n",
    "\n",
    "## Student: Sheedeh Sharif Bakhtiar\n",
    "### Student ID: 400422108\n",
    "\n",
    "> Code + data can also be found [here on my GitHub](https://github.com/SSBakh07/Statistical-ML---Spring-2023)\n",
    "\n",
    "<a id=\"top\"></a>"
   ]
  },
  {
   "cell_type": "markdown",
   "id": "476305ff",
   "metadata": {},
   "source": [
    "<a id=\"ex1\"></a>\n",
    "# **Exercise 1:**\n",
    "\n",
    "## *Is it possible for an SVM classifier to provide a confidence score or probability when making predictions on a particular instance? Explain it.*\n",
    "\n",
    "**Support vector machines (SVMs)**, also known as *support vector networks* are supervised machine learning models used in both regression and classification tasks. Concisely put, they work by finding a hyperplane in an $n$-dimensional space (with $n$ being the number of features) that (hopefully) separate our data points such that data points belonging to one class reside on one side of the hyperplane and data points that belong to the other class reside on the other side of the hyperplane. In other words, this hyperplane is defined such that where a specific data point resides relative to the hyperplane denotes what class this point belongs to.\n",
    "\n",
    "Mathematically, the hyperplane is defined as follows:\n",
    "\n",
    "$$\n",
    "f(X) = \\beta_0 + ∑^{N}_{i=1}\\beta_iX_i\n",
    "$$\n",
    "\n",
    "Where $\\beta_0$ is our intercept, and $\\beta_i$ are the coefficients that define where our hyperplane lies in $n$ dimensional space. We try to define our hyperplane such that we maximize the margin between data points of different classes.\n",
    "\n",
    "Whether $f(X_i)>0$ hold for a specific sample $X_i$ would dictate what class this data sample belongs to. However, it is important to note that usually, our data isn't so easily separable such that we can find a hyperplane that cleanly splits our space into two regions, so something known as a *soft margin*, where we can allow points to be misclassified to a certain degree. However, this is beyond the scope of this question.\n",
    "\n",
    "In general, SVMs are better suited when the classes are relatively separate, otherwise logistic regression and SVMs have similar performance.\n",
    "\n",
    "However, it should be noted that the SVMs described above are inherently binary classifiers, as the hyperplane divides the space into two regions. In multi-class scenarios, we can choose one of two approaches:\n",
    "1. **One-vs-One (OvO):** In this approach, we train pair-wise classifiers for each $\\binom{k}{2}$ class combinations for all $k$ classes, and for each new data point we wish to classify, we pick the class that wins the most pairwise battles between all the other classes. This solution is more preferred when the number of classes is low.\n",
    "2. **One-vs-Rest (OvR):** In this approach, we train one classifier for each of the $k$ classes. Each of these $k$ classes serve to classify points of one class against the rest of the classes in a binary classification task. The class with the classifier that has the largest value of $\\hat{f_k}(x^{*})$ (e.g. class corresponding to classifier that denotes the point to have the most distance from the hyperplane in the positive region) is considered to be the data point's class.\n",
    "\n",
    "However, now that I've outlined how SVMs work, we can tackle whether confidence scores are possible when utilizing SVMs for a specific classification task. \n",
    "\n",
    "A method for calculating confidence scores would be to take the data point's distance from the hyperplane (e.g. $\\left | \\hat{f_k}(x^{*}) \\right |$) into account. In other words, our SVM score would directly correlate to our classifier's *confidence*.\n",
    "\n",
    "However, as SVMs are, it is impossible to obtain probabilities as SVMs by nature are *not* probabilistic. However, we can introduce probabilities into our classifier. [As referenced in a Cross Validated question](https://stats.stackexchange.com/questions/55072/svm-confidence-according-to-distance-from-hyperline), [Platt (1999)](http://citeseerx.ist.psu.edu/viewdoc/download;jsessionid=BFDD4EA8843BCB150DD396F11F01075E?doi=10.1.1.41.1639&rep=rep1&type=pdf) describes a method for obtaining probabilities, as it appears that class conditional densities between margins are exponential. Platt describes a sigmoid model suggested by Bayes' rule as such:\n",
    "\n",
    "$$\n",
    "P(y=1 | f) = \\frac{1}{1 + exp(Af + B))}\n",
    "$$\n",
    "\n",
    "Which is equivalent to assuming the output of the SVM is proportional to the log-likelihood of a positive training example. $A$ and $B$ are parameters that can be found. \n",
    "\n",
    "In conclusion, SVMs do not output probabilities, but we can add elements that can help us transform distance to hyperplane to probabilities.\n",
    "\n",
    "\n",
    "*Sources:*\n",
    "- [Wikipedia: Support vector machine](https://en.wikipedia.org/wiki/Support_vector_machine)\n",
    "- [Towards Data Science: Support Vector Machine — Introduction to Machine Learning Algorithms](https://towardsdatascience.com/support-vector-machine-introduction-to-machine-learning-algorithms-934a444fca47)\n",
    "- [Tibshirani's Slides on Statistical Learning](https://scheshmi.github.io/CS-SBU-MachineLearning-2023/resources/slides) \n",
    "- [Prateek Joshi: How To Compute Confidence Measure For SVM Classifiers](https://prateekvjoshi.com/2015/12/15/how-to-compute-confidence-measure-for-svm-classifiers/)"
   ]
  },
  {
   "cell_type": "markdown",
   "id": "7f42f11a",
   "metadata": {},
   "source": [
    "<a id=\"ex2\"></a>\n",
    "\n",
    "# **Exercise 2:**\n",
    "\n",
    "## *What actions should you take if you have trained an SVM classifier using an RBF kernel but notice that it underfits the training set? Would it be appropriate to increase or decrease the value of γ (gamma) or C, or both?*\n",
    "\n",
    "\n",
    "\n",
    "Before I answer this question, I'll first briefly explain what $γ$ and $C$ are in the context of support vector machines;\n",
    "\n",
    "$C$ is a regularization parameter that denotes how tolerant we want our SVM to be towards misclassifications. In other words, $C$ denotes how much we penalize our classifier for misclassifying each point. The larger $C$ is, the smaller our margin is, and the smaller $C$ is, the larger our margin is. Increasing $C$ until there are no more improvements may not be a good idea through, because a small margin means that we may risk overfitting on the training set. Similarly, small values for $C$ may also be bad, as if $C$ is small enough, you might get misclassified examples even if the training data is linearly separable. Similar to learning rates in other machine learning models, a balance is needed.\n",
    "\n",
    "$γ$ is a hyperparameter used in non-linear SVMs, such as SVMs that use non-linear kernels such as RBF. The RBF kernel is defined as below:\n",
    "\n",
    "$$\n",
    "K(X_1, X_2) = exp(- \\gamma \\left \\| X_1 - X_2 \\right \\|^2)\n",
    "$$\n",
    "\n",
    "Where $\\gamma$ is our parameter in question.\n",
    "\n",
    "In non-mathematical terms, the RBF kernel function for two points $X_1$ and $X_2$ compute similarity or how close they are to each other.\n",
    "\n",
    "When tuning linear SVMs, we only need to worry about one parameter; $C$. However, should we be using a kernel such as RBF, not only do we have two parameters ($C$ *and* $γ$) but these two influence each other. If $γ$ is large, than the influence of $C$ becomes negligible. If $γ$ is too small, then $C$ alters the model just like it would on a linear model.\n",
    "\n",
    "\n",
    "*Sources:*\n",
    "- [Medium: What is the Significance of C value in Support Vector Machine?](https://medium.com/@pushkarmandot/what-is-the-significance-of-c-value-in-support-vector-machine-28224e852c5a)\n",
    "- [Cross Validated: What is the influence of C in SVMs with linear kernel?](https://stats.stackexchange.com/questions/31066/what-is-the-influence-of-c-in-svms-with-linear-kernel)\n",
    "- [Towards Data Science: SVM Hyperparameters Explained with Visualizations](https://towardsdatascience.com/svm-hyperparameters-explained-with-visualizations-143e48cb701b#:~:text=Gamma%20is%20a%20hyperparameter%20used,of%20a%20single%20training%20point.)"
   ]
  },
  {
   "cell_type": "markdown",
   "id": "e27c54a9",
   "metadata": {},
   "source": [
    "\n",
    "# **Exercise 3:**\n",
    "\n",
    "## *What does it mean for a model to be ϵ-insensitive?*\n",
    "\n",
    "Epsilon insensitive means that in our model's cost function, there is a margin of error that is ignored such that should a misclassified data point fall within the range of $|\\epsilon|$ around our decision boundary, our loss function will choose to ignore that misclassification. By defining an error-insensitive margin like this, we can avoid overfitting to data points that lie very very closely to the decision boundary.\n",
    "\n",
    "$\\epsilon$ can be thought of as a tube around our decision boundary (e.g. for an SVM it would be a hyperplane, such that should an error fall *within* that tube, it'll be ignored. Hence, the phrase \"$\\epsilon$-insensitive\". This concept is not unique to SVMs, and can be used in other models as well.\n",
    "\n",
    "\n",
    "*Sources:*\n",
    "- [Andrew Zisserman's Machine Learning Slides on Regression](https://www.robots.ox.ac.uk/~az/lectures/ml/2011/lect6.pdf)\n",
    "- [Towards Data Science: Understanding SVR and Epsilon Insensitive Loss with Scikit-learn](https://towardsdatascience.com/understanding-svr-and-epsilon-insensitive-loss-with-scikit-learn-28ec03a3d0d9)\n",
    "- [Cross Validated: Meaning of Epsilon in SVM regression](https://stats.stackexchange.com/questions/259018/meaning-of-epsilon-in-svm-regression)\n"
   ]
  },
  {
   "cell_type": "markdown",
   "id": "c5b7ddb5",
   "metadata": {},
   "source": [
    "# **Exercise 4:**\n",
    "## *What is the difference between hard margin and soft margin SVM? When would you use each one?*\n",
    "\n",
    "\n",
    "As briefly mentioned in previous questions, SVMs work by finding a hyperplane in $m$ dimensional feature space that best separates the data into two parts. The class label associated with each point depends on where said point lies relative to this hyperplane.\n",
    "\n",
    "The distance between each data point close to the hyperplane and the hyperplane itself is known as the *margin*. SVM is looking to maximize this margin as much as possible.\n",
    "\n",
    "In general, we have two types of margins: *hard* margins and *soft* margins.\n",
    "\n",
    "*Hard margins* are used when we don't want any misclassifications. This means that our hyperplane needs to be defined such that each point of each class lies on their side of the space divided by said hyperplane. Obviously, this is only possible when our data is linearly separable.\n",
    "\n",
    "> For data to be linearly separable, there needs to exist a hyperplane where *all* points of one class lie on one side of the hyperplane and *all* points of the other class lie on the other. In other words, we're able to neatly separate data from different classes from one another.\n",
    "\n",
    "*Soft margins* are used when the data is not linearly separable. In these cases, we need to define our margin such that errors are allowed to some capacity, because we're not able to separate our data so neatly. However, this new hyperplane that allows for misclassifications must be defined such that misclassification error is at a minimum, and the margin for points closest to the hyperplane is at a maximum. This trade-off between margin and misclassification is done using the parameter $C$, which dictates how much we wish to penalize our model for each misclassification. The exact details are discussed in [Exercise 2](#ex2).\n",
    "\n",
    "However it should be noted that sometimes while our data might be linearly separable, but a soft margin would *still* be preferable. This is due to the fact that if we were to use a hard margin, we'd risk having a very small margin, where we'd risk overfitting, or we'd be far too sensitive to outliers that lie too close to said hard margin. So, we might want to prefer using a soft margin where we'd want to make sure our model is generalizing.\n",
    "\n",
    "In summary, we might want to use hard margins when our data is linearly separable or we're looking to minimize misclassifications as much as possible. When our data is *not* linearly separable, and/or we're looking to prevent any potential overfitting, a soft margin would be more preferable.\n",
    "\n",
    "\n",
    "*Sources:*\n",
    "- [Baeldung: Using a Hard Margin vs. Soft Margin in SVM](https://www.baeldung.com/cs/svm-hard-margin-vs-soft-margin#:~:text=The%20difference%20between%20a%20hard,be%20feasible%20to%20do%20that.)\n",
    "- [Section: Using a Hard Margin vs Soft Margin in Support Vector Machines](https://www.section.io/engineering-education/using-a-hard-margin-vs-soft-margin-in-support-vector-machines/)\n",
    "- [Analytics Vidhya: Introduction to SVM](https://www.analyticsvidhya.com/blog/2021/04/insight-into-svm-support-vector-machine-along-with-code/)\n",
    "- [Wikipedia: Linear Separability](https://en.wikipedia.org/wiki/Linear_separability)\n",
    "- [StackOverFlow: SVM - hard or soft margins?](https://stackoverflow.com/questions/4629505/svm-hard-or-soft-margins)"
   ]
  },
  {
   "cell_type": "markdown",
   "id": "3270c695",
   "metadata": {},
   "source": [
    "# **Exercise 5:**\n",
    "## *Is a node’s Gini impurity generally lower or greater than its parent’s? Is it generally lower/greater, or always lower/greater?*\n",
    "\n",
    "During the decision tree learning process, at each split we are looking for the \"decision\" that will best fulfill some sort of condition based on some metric. One of the metrics used to makes said decisions, is the Gini impurity measure, which we are looking to decrease at every step.\n",
    "\n",
    "The Gini impurity measure is defined as such: \n",
    "\n",
    "If we have a total of $C$ classes and $p(i)$ is the probability of picking a datapoint with class $i$, then the Gini impurity is calculated as such:\n",
    "\n",
    "$$\n",
    "G = \\sum^{C}_{i=1}p(i) * (1 - p(i))\n",
    "$$\n",
    "\n",
    "Intuitively, this metric simply gives us a hint as to what the probability of misclassifying an observation is, thus at each step we are looking to decrease it. The lower our Gini impurity is at each step, the better, because this decreases the probability of misclassification. We make splits that give us the most possible *Gini gain*, meaning the highest difference in Gini impurity before and after the split.\n",
    "\n",
    "Therefore, the Gini impurity of a child node is always decreasing, otherwise, a split just wouldn't be made.\n",
    "\n",
    "- [Towards Data Science: ](https://towardsdatascience.com/gini-impurity-measure-dbd3878ead33)\n",
    "- [Victor Zhou: A Simple Explanation of Gini Impurity](https://victorzhou.com/blog/gini-impurity/)\n",
    "- [Wikipedia: Decision Tree Learning](https://en.wikipedia.org/wiki/Decision_tree_learning#:~:text=Gini%20impurity%20measures%20how%20often,into%20a%20single%20target%20category.)"
   ]
  },
  {
   "cell_type": "markdown",
   "id": "5d68c402",
   "metadata": {},
   "source": [
    "# **Exercise 6:**\n",
    "## *Is it a good idea to consider scaling the input features if a Decision Tree underfits the training set?*\n",
    "\n",
    "In general, due to how decision trees work by trying to decrease Gini impurity at each step, this specific algorithm (and by extension, decision tree-derived algorithms such as [random forest](https://en.wikipedia.org/wiki/Random_forest)) is not sensitive to feature scaling or any sort of normalization. This is because the split on a feature is not influenced by other features.\n",
    "\n",
    "Therefore, if our decision tree model is underfitting, features scaling will not have much of an effect, however, hyperparameter tuning such as increasing the number of splits/increasing the depth of the tree, or utilizing ensemble methods may help alleviate the problem.\n",
    "\n",
    "*Sources:*\n",
    "- [atoti: When to perform Feature Scaling?](https://www.atoti.io/articles/when-to-perform-a-feature-scaling/#:~:text=The%20decision%20tree%20splits%20a,the%20scale%20of%20the%20features.)\n",
    "- [Forcastegy: Do Decision Trees Need Feature Scaling Or Normalization?](https://forecastegy.com/posts/do-decision-trees-need-feature-scaling-or-normalization/)\n"
   ]
  },
  {
   "cell_type": "markdown",
   "id": "0ce457a5",
   "metadata": {},
   "source": [
    "# **Exercise 7:**\n",
    "## *How can you use tree-based models for feature selection?*\n",
    "\n",
    "We can calculate feature importance by fitting our tree to our data. In general, at every level splits are made based on gini impurity decrease, and the more important a feature is at a certain split, the greater the impurity decrease is. \n",
    "\n",
    "We can determine feature importance by averaging the impurity decrease per-feature across all splits, resulting in an approximate ranking of features based on importance.\n",
    "\n",
    "However, it should be noted that the metric used during splitting (Gini impurity or otherwise) influences the potential ranking of variables, so we should take care in choosing our splitting metric wisely.\n",
    "\n",
    "*Sources:*\n",
    "- [Towards Data Science: Feature Selection Using Random forest](https://towardsdatascience.com/feature-selection-using-random-forest-26d7b747597f)\n",
    "- [Busigence: Feature selection using Decision Tree](https://busigence.com/blog/feature-selection-using-decision-tree)"
   ]
  },
  {
   "cell_type": "markdown",
   "id": "84fa6c06",
   "metadata": {},
   "source": [
    "# **Exercise 8:**\n",
    "## *How do you tweak the hyperparameters of the following model in mentioned circumstances:*\n",
    "### *AdaBoost - Underfitting*\n",
    "\n",
    "AdaBoost — as the name suggests, is a popular boosting algorithm which takes several weak learners to combine them into a single strong learner.\n",
    "\n",
    "> [Boosting](https://en.wikipedia.org/wiki/Boosting_(machine_learning)) is a family of ensemble meta-learners with the motivation of creating a strong learner by grouping a number of weak learners to work together. By grouping a number of different predictors together, we can reduce the bias in our model while keeping variance fixed.\n",
    "\n",
    "The most common estimator used in AdaBoost are decision trees with a single split, also known as a *stump*. AdaBoost ensembles have a number of different parameters (for example, [scikit-learn's documentation on `sklearn.ensembleAdaBoostClassifier`](https://scikit-learn.org/stable/modules/generated/sklearn.ensemble.AdaBoostClassifier.html)), but should we be faced with a situation where our AdaBoost model is underfitting, we can attempt to alleviate the problem by increasing the number of weak learners in our ensemble.\n",
    "\n",
    "\n",
    "### *Gradient Boosting - Overfitting*\n",
    "\n",
    "Gradient Boosting, much like AdaBoost, is an ensemble method where several weak learners come together to make a single strong learner. The difference between these two is in how these weak learners are created during the iterative process. For one, Gradient boosting methods train on error residuals, while AdaBoost does not.\n",
    "\n",
    "If our Gradient Boosting model is overfitting, we can reduce the number of weak learners, or decrease the \"strength\" of each of the weak learners.\n",
    "\n",
    "\n",
    "*Sources:*\n",
    "- [Wikipedia: AdaBoost](https://en.wikipedia.org/wiki/AdaBoost)\n",
    "- [Paperspace: A Guide to AdaBoost: Boosting To Save The Day](https://blog.paperspace.com/adaboost-optimizer/)\n",
    "- [Wikipedia: Gradient Boosting](https://en.wikipedia.org/wiki/Gradient_boosting)\n",
    "- [Quora: What is the difference between gradient boosting and AdaBoost?](https://www.quora.com/What-is-the-difference-between-gradient-boosting-and-AdaBoost)"
   ]
  },
  {
   "cell_type": "markdown",
   "id": "2f9d9a80",
   "metadata": {},
   "source": [
    "# **Exercise 9:**\n",
    "## *What is the difference between homogeneous and heterogeneous ensembles? Which one is more powerful?*\n",
    "\n",
    "As briefly mentioned in previous questions, ensembles are a group of machine learning models working together to create one, single model that is stronger than each of the individual models. \n",
    "\n",
    "In general, we can divide ensemble models into two different categories: \n",
    "\n",
    "- *Homogenous* ensembles which are a collection of classifiers all with the same type (e.g. all of the classifiers are decision trees, or logistic regression models) but built on different subsets of the data. An example of this would be random forest classifiers, where all classifiers are decision trees, but each tree is trained on different data. These algorithms should not be fine-tunes and should be left weak. This way, we can reduce the risk of over-fitting.\n",
    "\n",
    "- *Heterogenous* ensembles are a collection of classifiers with different types, but each have a different types. For instance, an ensemble of logistic regressors, decision trees and SVMs all trained on the same data would be considered an ensemble of this type.\n",
    "\n",
    "While homogenous models are incredibly powerful, they also need a lot of data. Similarly, heterogenous ensembles can be quite powerful as well, but depending on the models used in the ensemble, they might be a bit computationally expensive to train.\n",
    "\n",
    "*Sources:*\n",
    "- [Analytics Vidhya: Exploring Ensemble Learning in Machine Learning World!](https://www.analyticsvidhya.com/blog/2021/01/exploring-ensemble-learning-in-machine-learning-world/#:~:text=HOMOGENEOUS%20ENSEMBLE%20is%20a%20collection,in%20the%20Random%20Forest%20model.&text=HETEROGENEOUS%20ENSEMBLE%20is%20a%20set,built%20upon%20the%20same%20data.)\n",
    "- [Stack OverFlow: Homogeneous vs heterogeneous ensembles](https://stackoverflow.com/questions/49445446/homogeneous-vs-heterogeneous-ensembles)"
   ]
  },
  {
   "cell_type": "markdown",
   "id": "a1fd3e1c",
   "metadata": {},
   "source": [
    "# **Exercise 10:**\n",
    "## *How ROC and AUC are being used in the evaluation of classification performance?*\n",
    "\n",
    "A *receiver operating characteristic curve* (better known as an *ROC curve*) is a graph which shows the performance of a classification model at all classification threshold. This curve plots two parameters against each other; the true positive rate and the false positive rate.\n",
    "\n",
    "> The true positive rate (also known as *recall* is a reflection of the number of predictions the classifier has *correctly* classified as part of a specific class and the false positive rate is a reflection of the number of predictions that the classifier has flagged as a false positive.\n",
    "\n",
    "*AUC* (which stands for *\"Area under the ROC curve\"*) measures the area underneath the ROC curve for the purpose of providing an aggregate measure of performance across all possible classification thresholds.\n",
    "\n",
    "The value of AUC dictates the measure of separability in a model, in other words, how well our model can separate the classes from one another. Optimally, we'd want our AUC to be 1, meaning that it's always able to separate the classes. When AUC is at 0.5, our model is no better than a random model, which is considered to be the worst case scenario. In other words, AUC gives us an estimated probability of classifying a data point correctly (e.g. an AUC of 0.7 would mean we have 70% chance of classifying a point correctly).\n",
    "\n",
    "In summary, the AUC is obtained from the ROC, and using the AUC we can gauge how well our classifier is performing given metrics such as the true positive rate and false positive rate.\n",
    "\n",
    "In a multiclass scenario, we could plot the classes against each other in a one-vs-all scenario, thus extending this metric to a multiclass setting.\n",
    "\n",
    "\n",
    "*Sources:*\n",
    "- [Google: Classification: ROC Curve and AUC](https://developers.google.com/machine-learning/crash-course/classification/roc-and-auc#:~:text=AUC%20stands%20for%20%22Area%20under,across%20all%20possible%20classification%20thresholds.)\n",
    "- [Towards Data Science: Understanding AUC - ROC Curve](https://towardsdatascience.com/understanding-auc-roc-curve-68b2303cc9c5)"
   ]
  },
  {
   "cell_type": "markdown",
   "id": "f7e07d1c",
   "metadata": {},
   "source": [
    "# **Exercise 11:**\n",
    "## *How does the threshold value used in classification affect the model's performance? This value specifies a cut-off for an observation to be classified as either 0 or 1. Can you explain the trade-off between false positive and false negative rates, and how the choice of threshold value impacts precision and recall?*\n",
    "\n",
    "Many classification models do not output 0s and 1, but instead output confidences, or the probability that a certain data sample belongs to a certain class. To convert these continuous values into a discrete 0 and 1 for our final prediction, we define a *threshold value*, at which we divide our model output into two parts; anything less than this threshold value would be considered a 0, and anything more than equal to this threshold value would be considered a 1.\n",
    "\n",
    "While by default, most model's threshold value is set to 0.5, this might not always be the best choice. In fact, we need to take care in how we pick our threshold value, as this specific value is problem-specific and should be fine tuned.\n",
    "\n",
    "For instance, in some problems we might be sensitive towards false positives (for example, it's better to erronously flag a patient's test results as potentially bad as opposed to accidentally classifying a sick patient as healthy) and in some problems we may want to avoid false negatives more. Therefore, the specific trade-off between false positives and false negatives is completely domain-specific.\n",
    "\n",
    "One of the best ways to pick our threshold value is by utilizing ROC curves, which were discussed in the previous exercise, or a precision-recall curve.\n",
    "\n",
    "> The ratio of true positives to the sum of true positives and false positives is called *precision*. As the name suggests, precision indicates the model's *precision*, as in, how confident we can be in our prediction when our model assumes a data sample is positive (e.g. our model output is 1).\n",
    "\n",
    "A precision-recall curve solely focuses on the performance of the classifier on the positive class, so if we are looking to fine-tune our model in favor of having greater precision (e.g. being more confident when it comes to positive predictions) or greater recall (e.g. being more likely to flag a data sample as positive), we can use this specific graph.\n",
    "\n",
    "\n",
    "*Sources:*\n",
    "- [DeepChecks: What is a Threshold in Machine Learning](https://deepchecks.com/glossary/classification-threshold/#:~:text=A%20classification%20threshold%20value%20must,always%20going%20to%20be%200.5%E2%80%A6)\n",
    "- [iguazio: What is the Classification Threshold in Machine Learning?](https://www.iguazio.com/glossary/classification-threshold/)\n"
   ]
  },
  {
   "cell_type": "markdown",
   "id": "cc7fb669",
   "metadata": {},
   "source": [
    "# **Exercise 12:**\n",
    "## *What is the difference between one-vs-one and one-vs-all multiclass classification approaches in classifiers? Under what circumstances would you use one over the other?*\n",
    "\n",
    "As extensively explained in [Exercise 1](#ex1), both OvO and OvA are methods for combining various binary classifiers into a singular multiclass classifier.\n",
    "\n",
    "> In summary, OvO (one vs. one) trains a number of pairwise classifiers, and for each new data sample that is to be classifier, the class that wins the most one-on-one classifications is considered to be the new sample's class. On the other and, OvA (one vs. all) trains $k$ classifiers for each class, and the class with the highest confidence is considered to be the new data point's class.\n",
    "\n",
    "OvO is preferable when we don't have many classes, as it might be computationally expensive to train many pairwise classifiers for each possible combination of classes. However, with this approach we'll have more confidence in our specific classification, because we'll have taken all class pairs into consideration.\n",
    "\n",
    "On the otherhand, if there are a large number of classes and we're looking to be computationally efficient, then OvA would be more preferable.\n",
    "\n",
    "(*Sources all listed in [Exercise 1](#ex1)*)\n"
   ]
  },
  {
   "cell_type": "markdown",
   "id": "6b076016",
   "metadata": {},
   "source": [
    "# **Exercise 13:**\n",
    "## *In this part, you are going to work with the Vehicle Insurance Claim Fraud Detection dataset. You will implement multiple classification models using the Scikit-Learn package to predict if a claim application is fraudulent or not, based on about 32 features. You are expected:*\n",
    "### *Perform exploratory data analysis on the dataset.*"
   ]
  },
  {
   "cell_type": "code",
   "execution_count": 77,
   "id": "feb7a7d4",
   "metadata": {},
   "outputs": [
    {
     "data": {
      "text/plain": [
       "Index(['Month', 'WeekOfMonth', 'DayOfWeek', 'Make', 'AccidentArea',\n",
       "       'DayOfWeekClaimed', 'MonthClaimed', 'WeekOfMonthClaimed', 'Sex',\n",
       "       'MaritalStatus', 'Age', 'Fault', 'PolicyType', 'VehicleCategory',\n",
       "       'VehiclePrice', 'FraudFound_P', 'PolicyNumber', 'RepNumber',\n",
       "       'Deductible', 'DriverRating', 'Days_Policy_Accident',\n",
       "       'Days_Policy_Claim', 'PastNumberOfClaims', 'AgeOfVehicle',\n",
       "       'AgeOfPolicyHolder', 'PoliceReportFiled', 'WitnessPresent', 'AgentType',\n",
       "       'NumberOfSuppliments', 'AddressChange_Claim', 'NumberOfCars', 'Year',\n",
       "       'BasePolicy'],\n",
       "      dtype='object')"
      ]
     },
     "execution_count": 77,
     "metadata": {},
     "output_type": "execute_result"
    }
   ],
   "source": [
    "# Import relevant libraries\n",
    "import numpy as np\n",
    "import pandas as pd\n",
    "import matplotlib.pyplot as plt\n",
    "%matplotlib inline\n",
    "import seaborn as sns\n",
    "\n",
    "# Load data\n",
    "raw_df = pd.read_csv(\"./data/fraud_oracle.csv\")\n",
    "raw_df.columns"
   ]
  },
  {
   "cell_type": "code",
   "execution_count": 78,
   "id": "af7dcb2a",
   "metadata": {},
   "outputs": [],
   "source": [
    "# For simplicity's sake, I'll define a target_col variable so I don't need to worry about spelling the column name correctly every time\n",
    "target_col = 'FraudFound_P'"
   ]
  },
  {
   "cell_type": "markdown",
   "id": "493ad358",
   "metadata": {},
   "source": [
    "Checking for NA data:"
   ]
  },
  {
   "cell_type": "code",
   "execution_count": 79,
   "id": "d665e00b",
   "metadata": {},
   "outputs": [
    {
     "data": {
      "text/plain": [
       "Month                   0\n",
       "WeekOfMonth             0\n",
       "DayOfWeek               0\n",
       "Make                    0\n",
       "AccidentArea            0\n",
       "DayOfWeekClaimed        0\n",
       "MonthClaimed            0\n",
       "WeekOfMonthClaimed      0\n",
       "Sex                     0\n",
       "MaritalStatus           0\n",
       "Age                     0\n",
       "Fault                   0\n",
       "PolicyType              0\n",
       "VehicleCategory         0\n",
       "VehiclePrice            0\n",
       "FraudFound_P            0\n",
       "PolicyNumber            0\n",
       "RepNumber               0\n",
       "Deductible              0\n",
       "DriverRating            0\n",
       "Days_Policy_Accident    0\n",
       "Days_Policy_Claim       0\n",
       "PastNumberOfClaims      0\n",
       "AgeOfVehicle            0\n",
       "AgeOfPolicyHolder       0\n",
       "PoliceReportFiled       0\n",
       "WitnessPresent          0\n",
       "AgentType               0\n",
       "NumberOfSuppliments     0\n",
       "AddressChange_Claim     0\n",
       "NumberOfCars            0\n",
       "Year                    0\n",
       "BasePolicy              0\n",
       "dtype: int64"
      ]
     },
     "execution_count": 79,
     "metadata": {},
     "output_type": "execute_result"
    }
   ],
   "source": [
    "# Check for na data\n",
    "\n",
    "raw_df.isna().sum()"
   ]
  },
  {
   "cell_type": "markdown",
   "id": "117eb139",
   "metadata": {},
   "source": [
    "Thankfully, there's no null data.\n",
    "\n",
    "We'll make a copy of the raw data so we can alter our data without any fear:"
   ]
  },
  {
   "cell_type": "code",
   "execution_count": 80,
   "id": "1a9da424",
   "metadata": {},
   "outputs": [],
   "source": [
    "# Make copy of raw dataframe \n",
    "df = raw_df.copy()\n",
    "\n",
    "# Drop columns that we don't need\n",
    "irrelevant_columns = [\"PolicyNumber\"]\n",
    "\n",
    "df.drop(irrelevant_columns, axis=1, inplace=True)"
   ]
  },
  {
   "cell_type": "markdown",
   "id": "6c795894",
   "metadata": {},
   "source": [
    "There are a number of categorical columns that need to be fixed — and with some columns this is easier to do than others."
   ]
  },
  {
   "cell_type": "code",
   "execution_count": 81,
   "id": "47a5d3d2",
   "metadata": {},
   "outputs": [
    {
     "data": {
      "text/html": [
       "<div>\n",
       "<style scoped>\n",
       "    .dataframe tbody tr th:only-of-type {\n",
       "        vertical-align: middle;\n",
       "    }\n",
       "\n",
       "    .dataframe tbody tr th {\n",
       "        vertical-align: top;\n",
       "    }\n",
       "\n",
       "    .dataframe thead th {\n",
       "        text-align: right;\n",
       "    }\n",
       "</style>\n",
       "<table border=\"1\" class=\"dataframe\">\n",
       "  <thead>\n",
       "    <tr style=\"text-align: right;\">\n",
       "      <th></th>\n",
       "      <th>Month</th>\n",
       "      <th>DayOfWeek</th>\n",
       "      <th>Make</th>\n",
       "      <th>AccidentArea</th>\n",
       "      <th>DayOfWeekClaimed</th>\n",
       "      <th>MonthClaimed</th>\n",
       "      <th>Sex</th>\n",
       "      <th>MaritalStatus</th>\n",
       "      <th>Fault</th>\n",
       "      <th>Days_Policy_Claim</th>\n",
       "      <th>...</th>\n",
       "      <th>AgeOfVehicle</th>\n",
       "      <th>AgeOfPolicyHolder</th>\n",
       "      <th>PoliceReportFiled</th>\n",
       "      <th>AgentType</th>\n",
       "      <th>NumberOfSuppliments</th>\n",
       "      <th>AddressChange_Claim</th>\n",
       "      <th>NumberOfCars</th>\n",
       "      <th>BasePolicy</th>\n",
       "      <th>VehicleCategory</th>\n",
       "      <th>Days_Policy_Accident</th>\n",
       "    </tr>\n",
       "  </thead>\n",
       "  <tbody>\n",
       "    <tr>\n",
       "      <th>0</th>\n",
       "      <td>2</td>\n",
       "      <td>6</td>\n",
       "      <td>6</td>\n",
       "      <td>1</td>\n",
       "      <td>6</td>\n",
       "      <td>5</td>\n",
       "      <td>0</td>\n",
       "      <td>2</td>\n",
       "      <td>0</td>\n",
       "      <td>2</td>\n",
       "      <td>...</td>\n",
       "      <td>1</td>\n",
       "      <td>3</td>\n",
       "      <td>0</td>\n",
       "      <td>0</td>\n",
       "      <td>3</td>\n",
       "      <td>0</td>\n",
       "      <td>2</td>\n",
       "      <td>2</td>\n",
       "      <td>1</td>\n",
       "      <td>3</td>\n",
       "    </tr>\n",
       "    <tr>\n",
       "      <th>1</th>\n",
       "      <td>4</td>\n",
       "      <td>6</td>\n",
       "      <td>6</td>\n",
       "      <td>1</td>\n",
       "      <td>2</td>\n",
       "      <td>5</td>\n",
       "      <td>1</td>\n",
       "      <td>2</td>\n",
       "      <td>0</td>\n",
       "      <td>2</td>\n",
       "      <td>...</td>\n",
       "      <td>4</td>\n",
       "      <td>4</td>\n",
       "      <td>1</td>\n",
       "      <td>0</td>\n",
       "      <td>3</td>\n",
       "      <td>3</td>\n",
       "      <td>0</td>\n",
       "      <td>1</td>\n",
       "      <td>1</td>\n",
       "      <td>3</td>\n",
       "    </tr>\n",
       "    <tr>\n",
       "      <th>2</th>\n",
       "      <td>10</td>\n",
       "      <td>0</td>\n",
       "      <td>6</td>\n",
       "      <td>1</td>\n",
       "      <td>5</td>\n",
       "      <td>10</td>\n",
       "      <td>1</td>\n",
       "      <td>1</td>\n",
       "      <td>0</td>\n",
       "      <td>2</td>\n",
       "      <td>...</td>\n",
       "      <td>5</td>\n",
       "      <td>6</td>\n",
       "      <td>0</td>\n",
       "      <td>0</td>\n",
       "      <td>3</td>\n",
       "      <td>3</td>\n",
       "      <td>0</td>\n",
       "      <td>1</td>\n",
       "      <td>1</td>\n",
       "      <td>3</td>\n",
       "    </tr>\n",
       "    <tr>\n",
       "      <th>3</th>\n",
       "      <td>6</td>\n",
       "      <td>2</td>\n",
       "      <td>17</td>\n",
       "      <td>0</td>\n",
       "      <td>1</td>\n",
       "      <td>6</td>\n",
       "      <td>1</td>\n",
       "      <td>1</td>\n",
       "      <td>1</td>\n",
       "      <td>2</td>\n",
       "      <td>...</td>\n",
       "      <td>6</td>\n",
       "      <td>7</td>\n",
       "      <td>1</td>\n",
       "      <td>0</td>\n",
       "      <td>2</td>\n",
       "      <td>3</td>\n",
       "      <td>0</td>\n",
       "      <td>2</td>\n",
       "      <td>1</td>\n",
       "      <td>3</td>\n",
       "    </tr>\n",
       "    <tr>\n",
       "      <th>4</th>\n",
       "      <td>4</td>\n",
       "      <td>1</td>\n",
       "      <td>6</td>\n",
       "      <td>1</td>\n",
       "      <td>6</td>\n",
       "      <td>4</td>\n",
       "      <td>0</td>\n",
       "      <td>2</td>\n",
       "      <td>1</td>\n",
       "      <td>2</td>\n",
       "      <td>...</td>\n",
       "      <td>3</td>\n",
       "      <td>4</td>\n",
       "      <td>0</td>\n",
       "      <td>0</td>\n",
       "      <td>3</td>\n",
       "      <td>3</td>\n",
       "      <td>0</td>\n",
       "      <td>1</td>\n",
       "      <td>1</td>\n",
       "      <td>3</td>\n",
       "    </tr>\n",
       "  </tbody>\n",
       "</table>\n",
       "<p>5 rows × 23 columns</p>\n",
       "</div>"
      ],
      "text/plain": [
       "   Month  DayOfWeek  Make  AccidentArea  DayOfWeekClaimed  MonthClaimed  Sex  \\\n",
       "0      2          6     6             1                 6             5    0   \n",
       "1      4          6     6             1                 2             5    1   \n",
       "2     10          0     6             1                 5            10    1   \n",
       "3      6          2    17             0                 1             6    1   \n",
       "4      4          1     6             1                 6             4    0   \n",
       "\n",
       "   MaritalStatus  Fault  Days_Policy_Claim  ...  AgeOfVehicle  \\\n",
       "0              2      0                  2  ...             1   \n",
       "1              2      0                  2  ...             4   \n",
       "2              1      0                  2  ...             5   \n",
       "3              1      1                  2  ...             6   \n",
       "4              2      1                  2  ...             3   \n",
       "\n",
       "   AgeOfPolicyHolder  PoliceReportFiled  AgentType  NumberOfSuppliments  \\\n",
       "0                  3                  0          0                    3   \n",
       "1                  4                  1          0                    3   \n",
       "2                  6                  0          0                    3   \n",
       "3                  7                  1          0                    2   \n",
       "4                  4                  0          0                    3   \n",
       "\n",
       "   AddressChange_Claim  NumberOfCars  BasePolicy  VehicleCategory  \\\n",
       "0                    0             2           2                1   \n",
       "1                    3             0           1                1   \n",
       "2                    3             0           1                1   \n",
       "3                    3             0           2                1   \n",
       "4                    3             0           1                1   \n",
       "\n",
       "   Days_Policy_Accident  \n",
       "0                     3  \n",
       "1                     3  \n",
       "2                     3  \n",
       "3                     3  \n",
       "4                     3  \n",
       "\n",
       "[5 rows x 23 columns]"
      ]
     },
     "execution_count": 81,
     "metadata": {},
     "output_type": "execute_result"
    }
   ],
   "source": [
    "cat_columns = [\"Month\", \"DayOfWeek\", \"Make\", \n",
    "               \"AccidentArea\", \"DayOfWeekClaimed\", \"MonthClaimed\", \"Sex\", \n",
    "               \"MaritalStatus\", \"Fault\", \"Days_Policy_Claim\", \"PastNumberOfClaims\",\n",
    "              \"WitnessPresent\", \"PastNumberOfClaims\", \"AgeOfVehicle\", \n",
    "               \"AgeOfPolicyHolder\", \"PoliceReportFiled\", \"AgentType\", \n",
    "               \"NumberOfSuppliments\", \"AddressChange_Claim\", \"NumberOfCars\", \n",
    "               \"BasePolicy\", \"VehicleCategory\", 'Days_Policy_Accident']\n",
    "\n",
    "cat_dict = {}\n",
    "\n",
    "\n",
    "for col in cat_columns: \n",
    "    cat_dict[col] = pd.Categorical(df[col])\n",
    "    df[col] = cat_dict[col].codes\n",
    "\n",
    "df[cat_columns].head()"
   ]
  },
  {
   "cell_type": "markdown",
   "id": "54f6b3a6",
   "metadata": {},
   "source": [
    "However, not all columns have been converted to their respectful categorical codes. For instance, there's `PolicyType` that seems to be a combination of two separate columns, and `VehiclePrice` which is a range of numbers:"
   ]
  },
  {
   "cell_type": "code",
   "execution_count": 82,
   "id": "d2decac2",
   "metadata": {},
   "outputs": [
    {
     "data": {
      "text/html": [
       "<div>\n",
       "<style scoped>\n",
       "    .dataframe tbody tr th:only-of-type {\n",
       "        vertical-align: middle;\n",
       "    }\n",
       "\n",
       "    .dataframe tbody tr th {\n",
       "        vertical-align: top;\n",
       "    }\n",
       "\n",
       "    .dataframe thead th {\n",
       "        text-align: right;\n",
       "    }\n",
       "</style>\n",
       "<table border=\"1\" class=\"dataframe\">\n",
       "  <thead>\n",
       "    <tr style=\"text-align: right;\">\n",
       "      <th></th>\n",
       "      <th>PolicyType</th>\n",
       "      <th>VehiclePrice</th>\n",
       "    </tr>\n",
       "  </thead>\n",
       "  <tbody>\n",
       "    <tr>\n",
       "      <th>0</th>\n",
       "      <td>Sport - Liability</td>\n",
       "      <td>more than 69000</td>\n",
       "    </tr>\n",
       "    <tr>\n",
       "      <th>1</th>\n",
       "      <td>Sport - Collision</td>\n",
       "      <td>more than 69000</td>\n",
       "    </tr>\n",
       "    <tr>\n",
       "      <th>2</th>\n",
       "      <td>Sport - Collision</td>\n",
       "      <td>more than 69000</td>\n",
       "    </tr>\n",
       "    <tr>\n",
       "      <th>3</th>\n",
       "      <td>Sedan - Liability</td>\n",
       "      <td>20000 to 29000</td>\n",
       "    </tr>\n",
       "    <tr>\n",
       "      <th>4</th>\n",
       "      <td>Sport - Collision</td>\n",
       "      <td>more than 69000</td>\n",
       "    </tr>\n",
       "  </tbody>\n",
       "</table>\n",
       "</div>"
      ],
      "text/plain": [
       "          PolicyType     VehiclePrice\n",
       "0  Sport - Liability  more than 69000\n",
       "1  Sport - Collision  more than 69000\n",
       "2  Sport - Collision  more than 69000\n",
       "3  Sedan - Liability   20000 to 29000\n",
       "4  Sport - Collision  more than 69000"
      ]
     },
     "execution_count": 82,
     "metadata": {},
     "output_type": "execute_result"
    }
   ],
   "source": [
    "df[[\"PolicyType\", \"VehiclePrice\"]].head()"
   ]
  },
  {
   "cell_type": "markdown",
   "id": "0cd03d76",
   "metadata": {},
   "source": [
    "`VehiclePrice` doesn't pose much of a problem, as we can convert the ranges into categorical codes like I've done with the previous columns without losing information:"
   ]
  },
  {
   "cell_type": "code",
   "execution_count": 83,
   "id": "cb9a4ed3",
   "metadata": {},
   "outputs": [
    {
     "data": {
      "text/plain": [
       "0    5\n",
       "1    5\n",
       "2    5\n",
       "3    0\n",
       "4    5\n",
       "Name: VehiclePrice, dtype: int8"
      ]
     },
     "execution_count": 83,
     "metadata": {},
     "output_type": "execute_result"
    }
   ],
   "source": [
    "col = \"VehiclePrice\"\n",
    "c = pd.Categorical(df[col])\n",
    "cat_dict[col] = c\n",
    "df[col] = c.codes\n",
    "df[col].head()"
   ]
  },
  {
   "cell_type": "markdown",
   "id": "6a3bf2a4",
   "metadata": {},
   "source": [
    "A column similar to `VehiclePrice` is PastNumberOfClaims but for brevity I've fixed it in previous code cells.\n",
    "\n",
    "Another interesting column is the `PolicyType`:"
   ]
  },
  {
   "cell_type": "code",
   "execution_count": 84,
   "id": "3362012f",
   "metadata": {},
   "outputs": [
    {
     "data": {
      "text/plain": [
       "0    Sport - Liability\n",
       "1    Sport - Collision\n",
       "2    Sport - Collision\n",
       "3    Sedan - Liability\n",
       "4    Sport - Collision\n",
       "Name: PolicyType, dtype: object"
      ]
     },
     "execution_count": 84,
     "metadata": {},
     "output_type": "execute_result"
    }
   ],
   "source": [
    "df[\"PolicyType\"].head()"
   ]
  },
  {
   "cell_type": "markdown",
   "id": "b4717e73",
   "metadata": {},
   "source": [
    "Looking closely, it almost appears as if it's a combination of two columns. In fact, the first word before the dash (`-`) appears to draw from the same set of categorical values as `VehicleCategory` and `BasePolicy`:\n",
    "\n",
    "> It should be noted that in the previous cells when viewing the first 5 rows via `head()` of both `PolicyType` and `VehicleCategory` it was shown that these two columns would not be exactly alike. Needless to say though, in many cases what we're looking for wouldn't be found in the first 5 rows, therefore, we should always check and not rely on a cursery check."
   ]
  },
  {
   "cell_type": "code",
   "execution_count": 85,
   "id": "7fb4d568",
   "metadata": {},
   "outputs": [
    {
     "data": {
      "text/html": [
       "<div>\n",
       "<style scoped>\n",
       "    .dataframe tbody tr th:only-of-type {\n",
       "        vertical-align: middle;\n",
       "    }\n",
       "\n",
       "    .dataframe tbody tr th {\n",
       "        vertical-align: top;\n",
       "    }\n",
       "\n",
       "    .dataframe thead th {\n",
       "        text-align: right;\n",
       "    }\n",
       "</style>\n",
       "<table border=\"1\" class=\"dataframe\">\n",
       "  <thead>\n",
       "    <tr style=\"text-align: right;\">\n",
       "      <th></th>\n",
       "      <th>VehicleCategory</th>\n",
       "      <th>BasePolicy</th>\n",
       "      <th>PolicyType</th>\n",
       "    </tr>\n",
       "  </thead>\n",
       "  <tbody>\n",
       "    <tr>\n",
       "      <th>0</th>\n",
       "      <td>Sport</td>\n",
       "      <td>Liability</td>\n",
       "      <td>Sport - Liability</td>\n",
       "    </tr>\n",
       "    <tr>\n",
       "      <th>1</th>\n",
       "      <td>Sport</td>\n",
       "      <td>Collision</td>\n",
       "      <td>Sport - Collision</td>\n",
       "    </tr>\n",
       "    <tr>\n",
       "      <th>2</th>\n",
       "      <td>Sport</td>\n",
       "      <td>Collision</td>\n",
       "      <td>Sport - Collision</td>\n",
       "    </tr>\n",
       "    <tr>\n",
       "      <th>3</th>\n",
       "      <td>Sport</td>\n",
       "      <td>Liability</td>\n",
       "      <td>Sedan - Liability</td>\n",
       "    </tr>\n",
       "    <tr>\n",
       "      <th>4</th>\n",
       "      <td>Sport</td>\n",
       "      <td>Collision</td>\n",
       "      <td>Sport - Collision</td>\n",
       "    </tr>\n",
       "  </tbody>\n",
       "</table>\n",
       "</div>"
      ],
      "text/plain": [
       "  VehicleCategory BasePolicy         PolicyType\n",
       "0           Sport  Liability  Sport - Liability\n",
       "1           Sport  Collision  Sport - Collision\n",
       "2           Sport  Collision  Sport - Collision\n",
       "3           Sport  Liability  Sedan - Liability\n",
       "4           Sport  Collision  Sport - Collision"
      ]
     },
     "execution_count": 85,
     "metadata": {},
     "output_type": "execute_result"
    }
   ],
   "source": [
    "# Using raw_df rather than df here as df's BasePolicy and VehicleCategory have already been transformed\n",
    "raw_df[[\"VehicleCategory\", \"BasePolicy\", \"PolicyType\"]].head()"
   ]
  },
  {
   "cell_type": "markdown",
   "id": "60f2a37e",
   "metadata": {},
   "source": [
    "We can separate `PolicyType` into two different columns which we'll name `ptVehicle` and `ptBase`:"
   ]
  },
  {
   "cell_type": "code",
   "execution_count": 86,
   "id": "10bf9bd0",
   "metadata": {},
   "outputs": [
    {
     "data": {
      "text/html": [
       "<div>\n",
       "<style scoped>\n",
       "    .dataframe tbody tr th:only-of-type {\n",
       "        vertical-align: middle;\n",
       "    }\n",
       "\n",
       "    .dataframe tbody tr th {\n",
       "        vertical-align: top;\n",
       "    }\n",
       "\n",
       "    .dataframe thead th {\n",
       "        text-align: right;\n",
       "    }\n",
       "</style>\n",
       "<table border=\"1\" class=\"dataframe\">\n",
       "  <thead>\n",
       "    <tr style=\"text-align: right;\">\n",
       "      <th></th>\n",
       "      <th>ptVehicle</th>\n",
       "      <th>ptBase</th>\n",
       "    </tr>\n",
       "  </thead>\n",
       "  <tbody>\n",
       "    <tr>\n",
       "      <th>0</th>\n",
       "      <td>Sport</td>\n",
       "      <td>Liability</td>\n",
       "    </tr>\n",
       "    <tr>\n",
       "      <th>1</th>\n",
       "      <td>Sport</td>\n",
       "      <td>Collision</td>\n",
       "    </tr>\n",
       "    <tr>\n",
       "      <th>2</th>\n",
       "      <td>Sport</td>\n",
       "      <td>Collision</td>\n",
       "    </tr>\n",
       "    <tr>\n",
       "      <th>3</th>\n",
       "      <td>Sedan</td>\n",
       "      <td>Liability</td>\n",
       "    </tr>\n",
       "    <tr>\n",
       "      <th>4</th>\n",
       "      <td>Sport</td>\n",
       "      <td>Collision</td>\n",
       "    </tr>\n",
       "    <tr>\n",
       "      <th>...</th>\n",
       "      <td>...</td>\n",
       "      <td>...</td>\n",
       "    </tr>\n",
       "    <tr>\n",
       "      <th>15415</th>\n",
       "      <td>Sedan</td>\n",
       "      <td>Collision</td>\n",
       "    </tr>\n",
       "    <tr>\n",
       "      <th>15416</th>\n",
       "      <td>Sedan</td>\n",
       "      <td>Liability</td>\n",
       "    </tr>\n",
       "    <tr>\n",
       "      <th>15417</th>\n",
       "      <td>Sedan</td>\n",
       "      <td>Collision</td>\n",
       "    </tr>\n",
       "    <tr>\n",
       "      <th>15418</th>\n",
       "      <td>Sedan</td>\n",
       "      <td>AllPerils</td>\n",
       "    </tr>\n",
       "    <tr>\n",
       "      <th>15419</th>\n",
       "      <td>Sedan</td>\n",
       "      <td>Collision</td>\n",
       "    </tr>\n",
       "  </tbody>\n",
       "</table>\n",
       "<p>15420 rows × 2 columns</p>\n",
       "</div>"
      ],
      "text/plain": [
       "      ptVehicle     ptBase\n",
       "0         Sport  Liability\n",
       "1         Sport  Collision\n",
       "2         Sport  Collision\n",
       "3         Sedan  Liability\n",
       "4         Sport  Collision\n",
       "...         ...        ...\n",
       "15415     Sedan  Collision\n",
       "15416     Sedan  Liability\n",
       "15417     Sedan  Collision\n",
       "15418     Sedan  AllPerils\n",
       "15419     Sedan  Collision\n",
       "\n",
       "[15420 rows x 2 columns]"
      ]
     },
     "execution_count": 86,
     "metadata": {},
     "output_type": "execute_result"
    }
   ],
   "source": [
    "df['ptVehicle'] = df.PolicyType.map(lambda x: x.split(\"-\")[0].replace(\" \", \"\"))    # Remove extra space\n",
    "df[\"ptBase\"] = df.PolicyType.map(lambda x: x.split(\"-\")[1].replace(\" \", \"\"))\n",
    "\n",
    "df[['ptVehicle', 'ptBase']]"
   ]
  },
  {
   "cell_type": "markdown",
   "id": "10d4cb2f",
   "metadata": {},
   "source": [
    "We can now check to see if `ptVehicle` and `ptBase` come from the same sets of values as `VehicleCategory` and `BasePolicy`:"
   ]
  },
  {
   "cell_type": "code",
   "execution_count": 87,
   "id": "c77d13fd",
   "metadata": {},
   "outputs": [
    {
     "name": "stdout",
     "output_type": "stream",
     "text": [
      "ptVehicle:\n",
      "['Sport' 'Sedan' 'Utility']\n",
      "VehicleCategory:\n",
      "['Sport' 'Utility' 'Sedan']\n",
      "ptBase:\n",
      "['Liability' 'Collision' 'AllPerils']\n",
      "BasePolicy:\n",
      "['Liability' 'Collision' 'All Perils']\n"
     ]
    }
   ],
   "source": [
    "print(\"ptVehicle:\")\n",
    "print(df['ptVehicle'].unique())\n",
    "\n",
    "print(\"VehicleCategory:\")\n",
    "print(raw_df['VehicleCategory'].unique())\n",
    "\n",
    "\n",
    "print(\"ptBase:\")\n",
    "print(df['ptBase'].unique())\n",
    "\n",
    "\n",
    "print(\"BasePolicy:\")\n",
    "print(raw_df['BasePolicy'].unique())"
   ]
  },
  {
   "cell_type": "markdown",
   "id": "ea766e6c",
   "metadata": {},
   "source": [
    "Knowing this, we can convert our two new columns into categorical values using the codes from our two other \"original\" columns `VehicleCategory` and `BasePolicy`."
   ]
  },
  {
   "cell_type": "code",
   "execution_count": 88,
   "id": "42f863c1",
   "metadata": {},
   "outputs": [],
   "source": [
    "cat_dict['ptVehicle'] = pd.Categorical(df.ptVehicle, categories=cat_dict[\"VehicleCategory\"].categories)\n",
    "df.ptVehicle = cat_dict['ptVehicle'].codes\n",
    "\n",
    "cat_dict['ptBase'] = pd.Categorical(df.ptBase, categories=cat_dict[\"BasePolicy\"].categories)\n",
    "df.ptBase = cat_dict['ptBase'].codes"
   ]
  },
  {
   "cell_type": "code",
   "execution_count": 89,
   "id": "2cb54b21",
   "metadata": {},
   "outputs": [
    {
     "data": {
      "text/html": [
       "<div>\n",
       "<style scoped>\n",
       "    .dataframe tbody tr th:only-of-type {\n",
       "        vertical-align: middle;\n",
       "    }\n",
       "\n",
       "    .dataframe tbody tr th {\n",
       "        vertical-align: top;\n",
       "    }\n",
       "\n",
       "    .dataframe thead th {\n",
       "        text-align: right;\n",
       "    }\n",
       "</style>\n",
       "<table border=\"1\" class=\"dataframe\">\n",
       "  <thead>\n",
       "    <tr style=\"text-align: right;\">\n",
       "      <th></th>\n",
       "      <th>ptVehicle</th>\n",
       "      <th>ptBase</th>\n",
       "    </tr>\n",
       "  </thead>\n",
       "  <tbody>\n",
       "    <tr>\n",
       "      <th>count</th>\n",
       "      <td>15420.000000</td>\n",
       "      <td>15420.000000</td>\n",
       "    </tr>\n",
       "    <tr>\n",
       "      <th>mean</th>\n",
       "      <td>0.074773</td>\n",
       "      <td>0.747795</td>\n",
       "    </tr>\n",
       "    <tr>\n",
       "      <th>std</th>\n",
       "      <td>0.346270</td>\n",
       "      <td>1.189709</td>\n",
       "    </tr>\n",
       "    <tr>\n",
       "      <th>min</th>\n",
       "      <td>0.000000</td>\n",
       "      <td>-1.000000</td>\n",
       "    </tr>\n",
       "    <tr>\n",
       "      <th>25%</th>\n",
       "      <td>0.000000</td>\n",
       "      <td>-1.000000</td>\n",
       "    </tr>\n",
       "    <tr>\n",
       "      <th>50%</th>\n",
       "      <td>0.000000</td>\n",
       "      <td>1.000000</td>\n",
       "    </tr>\n",
       "    <tr>\n",
       "      <th>75%</th>\n",
       "      <td>0.000000</td>\n",
       "      <td>2.000000</td>\n",
       "    </tr>\n",
       "    <tr>\n",
       "      <th>max</th>\n",
       "      <td>2.000000</td>\n",
       "      <td>2.000000</td>\n",
       "    </tr>\n",
       "  </tbody>\n",
       "</table>\n",
       "</div>"
      ],
      "text/plain": [
       "          ptVehicle        ptBase\n",
       "count  15420.000000  15420.000000\n",
       "mean       0.074773      0.747795\n",
       "std        0.346270      1.189709\n",
       "min        0.000000     -1.000000\n",
       "25%        0.000000     -1.000000\n",
       "50%        0.000000      1.000000\n",
       "75%        0.000000      2.000000\n",
       "max        2.000000      2.000000"
      ]
     },
     "execution_count": 89,
     "metadata": {},
     "output_type": "execute_result"
    }
   ],
   "source": [
    "df[['ptVehicle', 'ptBase']].describe()"
   ]
  },
  {
   "cell_type": "markdown",
   "id": "fed99bd4",
   "metadata": {},
   "source": [
    "We can now drop the `PolicyType` column as we don't need it anymore:\n"
   ]
  },
  {
   "cell_type": "code",
   "execution_count": 90,
   "id": "51ca9536",
   "metadata": {},
   "outputs": [
    {
     "data": {
      "text/plain": [
       "Index(['Month', 'WeekOfMonth', 'DayOfWeek', 'Make', 'AccidentArea',\n",
       "       'DayOfWeekClaimed', 'MonthClaimed', 'WeekOfMonthClaimed', 'Sex',\n",
       "       'MaritalStatus', 'Age', 'Fault', 'VehicleCategory', 'VehiclePrice',\n",
       "       'FraudFound_P', 'RepNumber', 'Deductible', 'DriverRating',\n",
       "       'Days_Policy_Accident', 'Days_Policy_Claim', 'PastNumberOfClaims',\n",
       "       'AgeOfVehicle', 'AgeOfPolicyHolder', 'PoliceReportFiled',\n",
       "       'WitnessPresent', 'AgentType', 'NumberOfSuppliments',\n",
       "       'AddressChange_Claim', 'NumberOfCars', 'Year', 'BasePolicy',\n",
       "       'ptVehicle', 'ptBase'],\n",
       "      dtype='object')"
      ]
     },
     "execution_count": 90,
     "metadata": {},
     "output_type": "execute_result"
    }
   ],
   "source": [
    "df.drop('PolicyType', axis=1, inplace=True)\n",
    "df.columns"
   ]
  },
  {
   "cell_type": "markdown",
   "id": "f02d5f3c",
   "metadata": {},
   "source": [
    "We can add a couple extra features here that might help us later on:\n",
    "- `vehDiff`: If the vehicle types in the policy and the actual car differ\n",
    "- `baseDiff`: If the base policy types differ"
   ]
  },
  {
   "cell_type": "code",
   "execution_count": 91,
   "id": "d6e8bf0b",
   "metadata": {},
   "outputs": [
    {
     "data": {
      "text/html": [
       "<div>\n",
       "<style scoped>\n",
       "    .dataframe tbody tr th:only-of-type {\n",
       "        vertical-align: middle;\n",
       "    }\n",
       "\n",
       "    .dataframe tbody tr th {\n",
       "        vertical-align: top;\n",
       "    }\n",
       "\n",
       "    .dataframe thead th {\n",
       "        text-align: right;\n",
       "    }\n",
       "</style>\n",
       "<table border=\"1\" class=\"dataframe\">\n",
       "  <thead>\n",
       "    <tr style=\"text-align: right;\">\n",
       "      <th></th>\n",
       "      <th>vehDiff</th>\n",
       "      <th>baseDiff</th>\n",
       "    </tr>\n",
       "  </thead>\n",
       "  <tbody>\n",
       "    <tr>\n",
       "      <th>0</th>\n",
       "      <td>1</td>\n",
       "      <td>1</td>\n",
       "    </tr>\n",
       "    <tr>\n",
       "      <th>1</th>\n",
       "      <td>1</td>\n",
       "      <td>1</td>\n",
       "    </tr>\n",
       "    <tr>\n",
       "      <th>2</th>\n",
       "      <td>1</td>\n",
       "      <td>1</td>\n",
       "    </tr>\n",
       "    <tr>\n",
       "      <th>3</th>\n",
       "      <td>0</td>\n",
       "      <td>1</td>\n",
       "    </tr>\n",
       "    <tr>\n",
       "      <th>4</th>\n",
       "      <td>1</td>\n",
       "      <td>1</td>\n",
       "    </tr>\n",
       "  </tbody>\n",
       "</table>\n",
       "</div>"
      ],
      "text/plain": [
       "   vehDiff  baseDiff\n",
       "0        1         1\n",
       "1        1         1\n",
       "2        1         1\n",
       "3        0         1\n",
       "4        1         1"
      ]
     },
     "execution_count": 91,
     "metadata": {},
     "output_type": "execute_result"
    }
   ],
   "source": [
    "df['vehDiff'] = df.ptVehicle == df.VehicleCategory\n",
    "df.vehDiff = df.vehDiff.astype('int')\n",
    "\n",
    "df['baseDiff'] = df.ptBase == df.BasePolicy\n",
    "df.baseDiff = df.baseDiff.astype('int')\n",
    "\n",
    "df[['vehDiff', 'baseDiff']].head()"
   ]
  },
  {
   "cell_type": "markdown",
   "id": "7cc627a6",
   "metadata": {},
   "source": [
    "Just to make sure, we'll check both these columns to make sure every row doesn't contain the same value:"
   ]
  },
  {
   "cell_type": "code",
   "execution_count": 92,
   "id": "9d029c73",
   "metadata": {},
   "outputs": [
    {
     "data": {
      "text/html": [
       "<div>\n",
       "<style scoped>\n",
       "    .dataframe tbody tr th:only-of-type {\n",
       "        vertical-align: middle;\n",
       "    }\n",
       "\n",
       "    .dataframe tbody tr th {\n",
       "        vertical-align: top;\n",
       "    }\n",
       "\n",
       "    .dataframe thead th {\n",
       "        text-align: right;\n",
       "    }\n",
       "</style>\n",
       "<table border=\"1\" class=\"dataframe\">\n",
       "  <thead>\n",
       "    <tr style=\"text-align: right;\">\n",
       "      <th></th>\n",
       "      <th>vehDiff</th>\n",
       "      <th>baseDiff</th>\n",
       "    </tr>\n",
       "  </thead>\n",
       "  <tbody>\n",
       "    <tr>\n",
       "      <th>count</th>\n",
       "      <td>15420.000000</td>\n",
       "      <td>15420.000000</td>\n",
       "    </tr>\n",
       "    <tr>\n",
       "      <th>mean</th>\n",
       "      <td>0.676589</td>\n",
       "      <td>0.711479</td>\n",
       "    </tr>\n",
       "    <tr>\n",
       "      <th>std</th>\n",
       "      <td>0.467793</td>\n",
       "      <td>0.453090</td>\n",
       "    </tr>\n",
       "    <tr>\n",
       "      <th>min</th>\n",
       "      <td>0.000000</td>\n",
       "      <td>0.000000</td>\n",
       "    </tr>\n",
       "    <tr>\n",
       "      <th>25%</th>\n",
       "      <td>0.000000</td>\n",
       "      <td>0.000000</td>\n",
       "    </tr>\n",
       "    <tr>\n",
       "      <th>50%</th>\n",
       "      <td>1.000000</td>\n",
       "      <td>1.000000</td>\n",
       "    </tr>\n",
       "    <tr>\n",
       "      <th>75%</th>\n",
       "      <td>1.000000</td>\n",
       "      <td>1.000000</td>\n",
       "    </tr>\n",
       "    <tr>\n",
       "      <th>max</th>\n",
       "      <td>1.000000</td>\n",
       "      <td>1.000000</td>\n",
       "    </tr>\n",
       "  </tbody>\n",
       "</table>\n",
       "</div>"
      ],
      "text/plain": [
       "            vehDiff      baseDiff\n",
       "count  15420.000000  15420.000000\n",
       "mean       0.676589      0.711479\n",
       "std        0.467793      0.453090\n",
       "min        0.000000      0.000000\n",
       "25%        0.000000      0.000000\n",
       "50%        1.000000      1.000000\n",
       "75%        1.000000      1.000000\n",
       "max        1.000000      1.000000"
      ]
     },
     "execution_count": 92,
     "metadata": {},
     "output_type": "execute_result"
    }
   ],
   "source": [
    "df[['vehDiff', 'baseDiff']].describe()"
   ]
  },
  {
   "cell_type": "markdown",
   "id": "f26aa357",
   "metadata": {},
   "source": [
    "Seeing as the `mean` value for both columns isn't 0.0 or 1.0, we can safely assume that neither of these columns are only 0 or only 1.\n",
    "\n",
    "We can visualize the correlation between any differences between insurance policy or base policy and fraud:"
   ]
  },
  {
   "cell_type": "code",
   "execution_count": 93,
   "id": "4498b37d",
   "metadata": {},
   "outputs": [
    {
     "data": {
      "text/plain": [
       "<Axes: >"
      ]
     },
     "execution_count": 93,
     "metadata": {},
     "output_type": "execute_result"
    },
    {
     "data": {
      "image/png": "[encoded data removed]",
      "text/plain": [
       "<Figure size 640x480 with 2 Axes>"
      ]
     },
     "metadata": {},
     "output_type": "display_data"
    }
   ],
   "source": [
    "sns.heatmap(df[['vehDiff', 'baseDiff', target_col]].corr(), annot=True)"
   ]
  },
  {
   "cell_type": "markdown",
   "id": "58795c3f",
   "metadata": {},
   "source": [
    "From this we can infer several different things:\n",
    "- It's unlikely that both base policy and vehicle policy will differ for one claim, as the correlation value between `baseDiff` and `vehDiff` is a low negative number.\n",
    "- While the base policy being different seems to have a negative correlation with whether or not the claim has been flagged as fradulent, whether or not the vehicle type is different seems to have a positive influence in a claim being fraudulent.\n",
    "\n",
    "## Q: Class imbalance"
   ]
  },
  {
   "cell_type": "code",
   "execution_count": 94,
   "id": "416787d7",
   "metadata": {},
   "outputs": [
    {
     "data": {
      "text/plain": [
       "<Axes: xlabel='FraudFound_P', ylabel='Count'>"
      ]
     },
     "execution_count": 94,
     "metadata": {},
     "output_type": "execute_result"
    },
    {
     "data": {
      "image/png": "[encoded data removed]",
      "text/plain": [
       "<Figure size 640x480 with 1 Axes>"
      ]
     },
     "metadata": {},
     "output_type": "display_data"
    }
   ],
   "source": [
    "sns.histplot(df.FraudFound_P)"
   ]
  },
  {
   "cell_type": "markdown",
   "id": "7723a3a3",
   "metadata": {},
   "source": [
    "Class imbalance is really bad. However, as this issue is explored more in depth in later sections, I will move onto the next feature.\n",
    "\n",
    "## Q: Sex imbalance\n",
    "\n",
    "Here we'll check to see if the client's sex played in any role of fraudulent behavior:"
   ]
  },
  {
   "cell_type": "code",
   "execution_count": 95,
   "id": "acadb2b6",
   "metadata": {},
   "outputs": [
    {
     "data": {
      "text/plain": [
       "1    818\n",
       "0    105\n",
       "Name: Sex, dtype: int64"
      ]
     },
     "execution_count": 95,
     "metadata": {},
     "output_type": "execute_result"
    }
   ],
   "source": [
    "df[df.FraudFound_P == 1].Sex.value_counts()"
   ]
  },
  {
   "cell_type": "markdown",
   "id": "3e447e71",
   "metadata": {},
   "source": [
    "From this it's pretty obvious that there's a serious imbalance between sexes. It's safe to assume that in later sections of this question that this feature will play a role in our classifier.\n",
    "\n",
    "## Q: Time of year, week, etc.\n",
    "\n",
    "We can check number of fraudulent claims per month to see if there are any obvious correlations:"
   ]
  },
  {
   "cell_type": "code",
   "execution_count": 96,
   "id": "35cf035d",
   "metadata": {},
   "outputs": [
    {
     "data": {
      "text/plain": [
       "<Axes: >"
      ]
     },
     "execution_count": 96,
     "metadata": {},
     "output_type": "execute_result"
    },
    {
     "data": {
      "image/png": "[encoded data removed]",
      "text/plain": [
       "<Figure size 640x480 with 1 Axes>"
      ]
     },
     "metadata": {},
     "output_type": "display_data"
    }
   ],
   "source": [
    "months = df.Month.unique().tolist()\n",
    "\n",
    "fraud_counts = []\n",
    "\n",
    "for month in months:\n",
    "    fraud_counts.append(df.loc[(df.Month == month) \n",
    "                               & (df[target_col] == 1)].shape[0])\n",
    "\n",
    "\n",
    "sns.barplot(x=[cat_dict['Month'].categories[i] for i in months], y=fraud_counts)"
   ]
  },
  {
   "cell_type": "markdown",
   "id": "ace4e88d",
   "metadata": {},
   "source": [
    "It appears that while there are less claims in November, the most number of claims is in March.\n",
    "\n",
    "However, there is the obvious issue of total number of claims being made in a month, so I'll redo the analysis above, this time taking in the total number of claims made in a month into account;"
   ]
  },
  {
   "cell_type": "code",
   "execution_count": 97,
   "id": "bdc51e9b",
   "metadata": {},
   "outputs": [
    {
     "data": {
      "text/plain": [
       "<Axes: >"
      ]
     },
     "execution_count": 97,
     "metadata": {},
     "output_type": "execute_result"
    },
    {
     "data": {
      "image/png": "[encoded data removed]",
      "text/plain": [
       "<Figure size 640x480 with 1 Axes>"
      ]
     },
     "metadata": {},
     "output_type": "display_data"
    }
   ],
   "source": [
    "fraud_counts = []\n",
    "\n",
    "for month in months:\n",
    "    count_per_month = df.loc[(df.Month == month)]\n",
    "    fraud_count = count_per_month.loc[df[target_col] == 1].shape[0]\n",
    "    fraud_counts.append(fraud_count/count_per_month.shape[0])\n",
    "\n",
    "\n",
    "sns.barplot(x=[cat_dict['Month'].categories[i] for i in months], y=fraud_counts)"
   ]
  },
  {
   "cell_type": "markdown",
   "id": "ffaf59f4",
   "metadata": {},
   "source": [
    "Now that we've also captured the information regarding the number of claims made in *general* in a month, we have a better view of the percentage of claims being made each month being fraudulent and any correlation there may be between the month of the year and a particular claim being fraudulent.\n",
    "\n",
    "\n",
    "We can repeat the same process for the days of the week, taking the number of claims being filed each particular day of the week into account;"
   ]
  },
  {
   "cell_type": "code",
   "execution_count": 98,
   "id": "817d1eeb",
   "metadata": {},
   "outputs": [
    {
     "data": {
      "text/plain": [
       "<Axes: >"
      ]
     },
     "execution_count": 98,
     "metadata": {},
     "output_type": "execute_result"
    },
    {
     "data": {
      "image/png": "[encoded data removed]",
      "text/plain": [
       "<Figure size 640x480 with 1 Axes>"
      ]
     },
     "metadata": {},
     "output_type": "display_data"
    }
   ],
   "source": [
    "days = df.DayOfWeek.unique().tolist()\n",
    "\n",
    "fraud_counts = []\n",
    "\n",
    "for day in days:\n",
    "    count_per_day = df.loc[(df.DayOfWeek == day)]\n",
    "    fraud_count = count_per_day.loc[df[target_col] == 1].shape[0]\n",
    "    fraud_counts.append(fraud_count/count_per_day.shape[0])\n",
    "\n",
    "\n",
    "sns.barplot(x=[cat_dict['DayOfWeek'].categories[i] for i in days], y=fraud_counts)"
   ]
  },
  {
   "cell_type": "markdown",
   "id": "987e548b",
   "metadata": {},
   "source": [
    "By a slight margin, it appears that more fraudulent claims are made on Sunday more than any other day.\n",
    "\n",
    "### *Try to tackle the problem using the following models:*\n",
    "\n",
    "For the purposes of this exercise, I'll be using sklearn's implementation of [grid search](https://scikit-learn.org/stable/modules/generated/sklearn.model_selection.GridSearchCV.html) to find the best possible hyperparameters (and thus, best possible accuracy given the range of hyperparameters) for each model.\n",
    "\n",
    "Additionally, I'll be using sklearn's implementation of a [repeated stratified k-fold validator](https://scikit-learn.org/stable/modules/generated/sklearn.model_selection.RepeatedStratifiedKFold.html) for cross validation.\n",
    "\n",
    "After training each model, I'll compare their accuracies in a table."
   ]
  },
  {
   "cell_type": "code",
   "execution_count": 120,
   "id": "629bb41c",
   "metadata": {},
   "outputs": [],
   "source": [
    "from sklearn.model_selection import GridSearchCV\n",
    "from tabulate import tabulate\n",
    "from sklearn.model_selection import train_test_split\n",
    "from sklearn.model_selection import RepeatedStratifiedKFold\n",
    "\n",
    "column_names = [\"Model\", \"Accuracy\"]\n",
    "model_res = [] # Model name, accuracy, f1 score\n",
    "\n",
    "seed = 3 # For reproducability\n",
    "\n",
    "# Construct validator\n",
    "cv = RepeatedStratifiedKFold(n_splits=5, n_repeats=20, random_state=seed)\n",
    "\n",
    "# Divide the data into train/test splits\n",
    "# Leaving 20% aside for final accuracy measurements\n",
    "train_df, test_df = train_test_split(df, test_size=0.2, random_state=seed)"
   ]
  },
  {
   "cell_type": "markdown",
   "id": "8f7bd7d7",
   "metadata": {},
   "source": [
    "#### Logistic Regression"
   ]
  },
  {
   "cell_type": "code",
   "execution_count": 139,
   "id": "943bcb6f",
   "metadata": {},
   "outputs": [
    {
     "name": "stdout",
     "output_type": "stream",
     "text": [
      "Fitting 100 folds for each of 18 candidates, totalling 1800 fits\n",
      "{'max_iter': 50, 'penalty': 'l1', 'solver': 'liblinear'}\n"
     ]
    },
    {
     "name": "stderr",
     "output_type": "stream",
     "text": [
      "c:\\users\\saqi\\appdata\\local\\programs\\python\\python38\\lib\\site-packages\\sklearn\\svm\\_base.py:1244: ConvergenceWarning: Liblinear failed to converge, increase the number of iterations.\n",
      "  warnings.warn(\n"
     ]
    },
    {
     "data": {
      "application/javascript": [
       "$(document).ready(\n",
       "    function() {\n",
       "        function appendUniqueDiv(){\n",
       "            // append a div with our uuid so we can check that it's already\n",
       "            // been sent and avoid duplicates on page reload\n",
       "            var notifiedDiv = document.createElement(\"div\")\n",
       "            notifiedDiv.id = \"66c24a77-2b43-4e41-a0af-0f5e6ee26ffa\"\n",
       "            element.append(notifiedDiv)\n",
       "        }\n",
       "\n",
       "        // only send notifications if the pageload is complete; this will\n",
       "        // help stop extra notifications when a saved notebook is loaded,\n",
       "        // which during testing gives us state \"interactive\", not \"complete\"\n",
       "        if (document.readyState === 'complete') {\n",
       "            // check for the div that signifies that the notification\n",
       "            // was already sent\n",
       "            if (document.getElementById(\"66c24a77-2b43-4e41-a0af-0f5e6ee26ffa\") === null) {\n",
       "                var notificationPayload = {\"requireInteraction\": false, \"icon\": \"/static/base/images/favicon.ico\", \"body\": \"Cell Execution Has Finished!!\", \"autonotify_after\": \"30\", \"autonotify_output\": false};\n",
       "                if (Notification.permission !== 'denied') {\n",
       "                    if (Notification.permission !== 'granted') { \n",
       "                        Notification.requestPermission(function (permission) {\n",
       "                            if(!('permission' in Notification)) {\n",
       "                                Notification.permission = permission\n",
       "                            }\n",
       "                        })\n",
       "                    }\n",
       "                    if (Notification.permission === 'granted') {\n",
       "                    var notification = new Notification(\"Jupyter Notebook\", notificationPayload)\n",
       "                    appendUniqueDiv()\n",
       "                    notification.onclick = function () {\n",
       "                        window.focus();\n",
       "                        this.close();\n",
       "                        };\n",
       "                    } \n",
       "                }     \n",
       "            }\n",
       "        }\n",
       "    }\n",
       ")\n"
      ],
      "text/plain": [
       "<IPython.core.display.Javascript object>"
      ]
     },
     "metadata": {},
     "output_type": "display_data"
    },
    {
     "data": {
      "application/javascript": [
       "$(document).ready(\n",
       "    function() {\n",
       "        function appendUniqueDiv(){\n",
       "            // append a div with our uuid so we can check that it's already\n",
       "            // been sent and avoid duplicates on page reload\n",
       "            var notifiedDiv = document.createElement(\"div\")\n",
       "            notifiedDiv.id = \"66c24a77-2b43-4e41-a0af-0f5e6ee26ffa\"\n",
       "            element.append(notifiedDiv)\n",
       "        }\n",
       "\n",
       "        // only send notifications if the pageload is complete; this will\n",
       "        // help stop extra notifications when a saved notebook is loaded,\n",
       "        // which during testing gives us state \"interactive\", not \"complete\"\n",
       "        if (document.readyState === 'complete') {\n",
       "            // check for the div that signifies that the notification\n",
       "            // was already sent\n",
       "            if (document.getElementById(\"66c24a77-2b43-4e41-a0af-0f5e6ee26ffa\") === null) {\n",
       "                var notificationPayload = {\"requireInteraction\": false, \"icon\": \"/static/base/images/favicon.ico\", \"body\": \"Cell Execution Has Finished!!\", \"autonotify_after\": \"30\", \"autonotify_output\": false};\n",
       "                if (Notification.permission !== 'denied') {\n",
       "                    if (Notification.permission !== 'granted') { \n",
       "                        Notification.requestPermission(function (permission) {\n",
       "                            if(!('permission' in Notification)) {\n",
       "                                Notification.permission = permission\n",
       "                            }\n",
       "                        })\n",
       "                    }\n",
       "                    if (Notification.permission === 'granted') {\n",
       "                    var notification = new Notification(\"Jupyter Notebook\", notificationPayload)\n",
       "                    appendUniqueDiv()\n",
       "                    notification.onclick = function () {\n",
       "                        window.focus();\n",
       "                        this.close();\n",
       "                        };\n",
       "                    } \n",
       "                }     \n",
       "            }\n",
       "        }\n",
       "    }\n",
       ")\n"
      ],
      "text/plain": [
       "<IPython.core.display.Javascript object>"
      ]
     },
     "metadata": {},
     "output_type": "display_data"
    },
    {
     "data": {
      "application/javascript": [
       "$(document).ready(\n",
       "    function() {\n",
       "        function appendUniqueDiv(){\n",
       "            // append a div with our uuid so we can check that it's already\n",
       "            // been sent and avoid duplicates on page reload\n",
       "            var notifiedDiv = document.createElement(\"div\")\n",
       "            notifiedDiv.id = \"66c24a77-2b43-4e41-a0af-0f5e6ee26ffa\"\n",
       "            element.append(notifiedDiv)\n",
       "        }\n",
       "\n",
       "        // only send notifications if the pageload is complete; this will\n",
       "        // help stop extra notifications when a saved notebook is loaded,\n",
       "        // which during testing gives us state \"interactive\", not \"complete\"\n",
       "        if (document.readyState === 'complete') {\n",
       "            // check for the div that signifies that the notification\n",
       "            // was already sent\n",
       "            if (document.getElementById(\"66c24a77-2b43-4e41-a0af-0f5e6ee26ffa\") === null) {\n",
       "                var notificationPayload = {\"requireInteraction\": false, \"icon\": \"/static/base/images/favicon.ico\", \"body\": \"Cell Execution Has Finished!!\", \"autonotify_after\": \"30\", \"autonotify_output\": false};\n",
       "                if (Notification.permission !== 'denied') {\n",
       "                    if (Notification.permission !== 'granted') { \n",
       "                        Notification.requestPermission(function (permission) {\n",
       "                            if(!('permission' in Notification)) {\n",
       "                                Notification.permission = permission\n",
       "                            }\n",
       "                        })\n",
       "                    }\n",
       "                    if (Notification.permission === 'granted') {\n",
       "                    var notification = new Notification(\"Jupyter Notebook\", notificationPayload)\n",
       "                    appendUniqueDiv()\n",
       "                    notification.onclick = function () {\n",
       "                        window.focus();\n",
       "                        this.close();\n",
       "                        };\n",
       "                    } \n",
       "                }     \n",
       "            }\n",
       "        }\n",
       "    }\n",
       ")\n"
      ],
      "text/plain": [
       "<IPython.core.display.Javascript object>"
      ]
     },
     "metadata": {},
     "output_type": "display_data"
    }
   ],
   "source": [
    "from sklearn.linear_model import LogisticRegression\n",
    "\n",
    "parameters = {\n",
    "    'penalty': ['l1', 'l2'],\n",
    "    'solver': ['liblinear'],\n",
    "    'max_iter': range(50, 500, 50)\n",
    "}\n",
    "\n",
    "log_clf = LogisticRegression(random_state=seed)\n",
    "\n",
    "# Instantiate the grid search model\n",
    "grid_search_log = GridSearchCV(estimator=log_clf,\n",
    "                           param_grid=parameters,\n",
    "                           cv = cv,\n",
    "                           n_jobs=-1, \n",
    "                           verbose=1, \n",
    "                          ).fit(train_df.drop(target_col, axis=1), train_df[target_col])\n",
    "\n",
    "print(grid_search_log.best_params_)"
   ]
  },
  {
   "cell_type": "code",
   "execution_count": 116,
   "id": "0d9b1d16",
   "metadata": {},
   "outputs": [
    {
     "name": "stdout",
     "output_type": "stream",
     "text": [
      "Best model accuracy on training: 0.940171055337259\n",
      "Best model accuracy on test df: 0.9400129701686122\n"
     ]
    }
   ],
   "source": [
    "from sklearn.metrics import accuracy_score\n",
    "\n",
    "print(f\"Best model accuracy on training: {grid_search_log.best_score_}\")\n",
    "\n",
    "log_preds = grid_search_log.predict(test_df.drop(target_col, axis=1))\n",
    "log_acc = accuracy_score(test_df[target_col], log_preds)\n",
    "\n",
    "model_res.append((\"Logistic Reg\", log_acc))\n",
    "\n",
    "print(f\"Best model accuracy on test df: {log_acc}\")"
   ]
  },
  {
   "cell_type": "markdown",
   "id": "5a50faea",
   "metadata": {},
   "source": [
    "#### SVM"
   ]
  },
  {
   "cell_type": "code",
   "execution_count": 124,
   "id": "dc9d1673",
   "metadata": {},
   "outputs": [
    {
     "name": "stdout",
     "output_type": "stream",
     "text": [
      "Fitting 100 folds for each of 24 candidates, totalling 2400 fits\n",
      "{'C': 0.1, 'degree': 1}\n"
     ]
    },
    {
     "data": {
      "application/javascript": [
       "$(document).ready(\n",
       "    function() {\n",
       "        function appendUniqueDiv(){\n",
       "            // append a div with our uuid so we can check that it's already\n",
       "            // been sent and avoid duplicates on page reload\n",
       "            var notifiedDiv = document.createElement(\"div\")\n",
       "            notifiedDiv.id = \"74879ffe-565f-4a89-9fb7-5f7e00d0d231\"\n",
       "            element.append(notifiedDiv)\n",
       "        }\n",
       "\n",
       "        // only send notifications if the pageload is complete; this will\n",
       "        // help stop extra notifications when a saved notebook is loaded,\n",
       "        // which during testing gives us state \"interactive\", not \"complete\"\n",
       "        if (document.readyState === 'complete') {\n",
       "            // check for the div that signifies that the notification\n",
       "            // was already sent\n",
       "            if (document.getElementById(\"74879ffe-565f-4a89-9fb7-5f7e00d0d231\") === null) {\n",
       "                var notificationPayload = {\"requireInteraction\": false, \"icon\": \"/static/base/images/favicon.ico\", \"body\": \"Cell Execution Has Finished!!\", \"autonotify_after\": \"30\", \"autonotify_output\": false};\n",
       "                if (Notification.permission !== 'denied') {\n",
       "                    if (Notification.permission !== 'granted') { \n",
       "                        Notification.requestPermission(function (permission) {\n",
       "                            if(!('permission' in Notification)) {\n",
       "                                Notification.permission = permission\n",
       "                            }\n",
       "                        })\n",
       "                    }\n",
       "                    if (Notification.permission === 'granted') {\n",
       "                    var notification = new Notification(\"Jupyter Notebook\", notificationPayload)\n",
       "                    appendUniqueDiv()\n",
       "                    notification.onclick = function () {\n",
       "                        window.focus();\n",
       "                        this.close();\n",
       "                        };\n",
       "                    } \n",
       "                }     \n",
       "            }\n",
       "        }\n",
       "    }\n",
       ")\n"
      ],
      "text/plain": [
       "<IPython.core.display.Javascript object>"
      ]
     },
     "metadata": {},
     "output_type": "display_data"
    },
    {
     "data": {
      "application/javascript": [
       "$(document).ready(\n",
       "    function() {\n",
       "        function appendUniqueDiv(){\n",
       "            // append a div with our uuid so we can check that it's already\n",
       "            // been sent and avoid duplicates on page reload\n",
       "            var notifiedDiv = document.createElement(\"div\")\n",
       "            notifiedDiv.id = \"74879ffe-565f-4a89-9fb7-5f7e00d0d231\"\n",
       "            element.append(notifiedDiv)\n",
       "        }\n",
       "\n",
       "        // only send notifications if the pageload is complete; this will\n",
       "        // help stop extra notifications when a saved notebook is loaded,\n",
       "        // which during testing gives us state \"interactive\", not \"complete\"\n",
       "        if (document.readyState === 'complete') {\n",
       "            // check for the div that signifies that the notification\n",
       "            // was already sent\n",
       "            if (document.getElementById(\"74879ffe-565f-4a89-9fb7-5f7e00d0d231\") === null) {\n",
       "                var notificationPayload = {\"requireInteraction\": false, \"icon\": \"/static/base/images/favicon.ico\", \"body\": \"Cell Execution Has Finished!!\", \"autonotify_after\": \"30\", \"autonotify_output\": false};\n",
       "                if (Notification.permission !== 'denied') {\n",
       "                    if (Notification.permission !== 'granted') { \n",
       "                        Notification.requestPermission(function (permission) {\n",
       "                            if(!('permission' in Notification)) {\n",
       "                                Notification.permission = permission\n",
       "                            }\n",
       "                        })\n",
       "                    }\n",
       "                    if (Notification.permission === 'granted') {\n",
       "                    var notification = new Notification(\"Jupyter Notebook\", notificationPayload)\n",
       "                    appendUniqueDiv()\n",
       "                    notification.onclick = function () {\n",
       "                        window.focus();\n",
       "                        this.close();\n",
       "                        };\n",
       "                    } \n",
       "                }     \n",
       "            }\n",
       "        }\n",
       "    }\n",
       ")\n"
      ],
      "text/plain": [
       "<IPython.core.display.Javascript object>"
      ]
     },
     "metadata": {},
     "output_type": "display_data"
    },
    {
     "data": {
      "application/javascript": [
       "$(document).ready(\n",
       "    function() {\n",
       "        function appendUniqueDiv(){\n",
       "            // append a div with our uuid so we can check that it's already\n",
       "            // been sent and avoid duplicates on page reload\n",
       "            var notifiedDiv = document.createElement(\"div\")\n",
       "            notifiedDiv.id = \"74879ffe-565f-4a89-9fb7-5f7e00d0d231\"\n",
       "            element.append(notifiedDiv)\n",
       "        }\n",
       "\n",
       "        // only send notifications if the pageload is complete; this will\n",
       "        // help stop extra notifications when a saved notebook is loaded,\n",
       "        // which during testing gives us state \"interactive\", not \"complete\"\n",
       "        if (document.readyState === 'complete') {\n",
       "            // check for the div that signifies that the notification\n",
       "            // was already sent\n",
       "            if (document.getElementById(\"74879ffe-565f-4a89-9fb7-5f7e00d0d231\") === null) {\n",
       "                var notificationPayload = {\"requireInteraction\": false, \"icon\": \"/static/base/images/favicon.ico\", \"body\": \"Cell Execution Has Finished!!\", \"autonotify_after\": \"30\", \"autonotify_output\": false};\n",
       "                if (Notification.permission !== 'denied') {\n",
       "                    if (Notification.permission !== 'granted') { \n",
       "                        Notification.requestPermission(function (permission) {\n",
       "                            if(!('permission' in Notification)) {\n",
       "                                Notification.permission = permission\n",
       "                            }\n",
       "                        })\n",
       "                    }\n",
       "                    if (Notification.permission === 'granted') {\n",
       "                    var notification = new Notification(\"Jupyter Notebook\", notificationPayload)\n",
       "                    appendUniqueDiv()\n",
       "                    notification.onclick = function () {\n",
       "                        window.focus();\n",
       "                        this.close();\n",
       "                        };\n",
       "                    } \n",
       "                }     \n",
       "            }\n",
       "        }\n",
       "    }\n",
       ")\n"
      ],
      "text/plain": [
       "<IPython.core.display.Javascript object>"
      ]
     },
     "metadata": {},
     "output_type": "display_data"
    }
   ],
   "source": [
    "from sklearn.svm import SVC\n",
    "\n",
    "parameters = {\n",
    "    'C': [0.1, 0.5, 1.0, 1.5, 2.0, 10.],\n",
    "    'degree': range(1, 5),\n",
    "}\n",
    "\n",
    "clf = SVC(random_state=seed)\n",
    "\n",
    "grid_search_svc = GridSearchCV(\n",
    "    estimator=clf,\n",
    "    param_grid=parameters,\n",
    "    n_jobs=-1,\n",
    "    cv = cv,\n",
    "    verbose=True\n",
    ").fit(train_df.drop(target_col, axis=1), train_df[target_col])\n",
    "\n",
    "print(grid_search_svc.best_params_)"
   ]
  },
  {
   "cell_type": "code",
   "execution_count": 125,
   "id": "15b7410e",
   "metadata": {},
   "outputs": [
    {
     "name": "stdout",
     "output_type": "stream",
     "text": [
      "Best model accuracy on training: 0.9401751088435418\n",
      "Best model accuracy on test df: 0.9400129701686122\n"
     ]
    }
   ],
   "source": [
    "print(f\"Best model accuracy on training: {grid_search_svc.best_score_}\")\n",
    "\n",
    "svc_preds = grid_search_svc.predict(test_df.drop(target_col, axis=1))\n",
    "svc_acc = accuracy_score(test_df[target_col], svc_preds)\n",
    "\n",
    "model_res.append((\"SVM\", svc_acc))\n",
    "\n",
    "print(f\"Best model accuracy on test df: {svc_acc}\")"
   ]
  },
  {
   "cell_type": "markdown",
   "id": "1e7ca0b4",
   "metadata": {},
   "source": [
    "#### Decision-Trees"
   ]
  },
  {
   "cell_type": "code",
   "execution_count": 126,
   "id": "1aa7c11f",
   "metadata": {},
   "outputs": [
    {
     "name": "stdout",
     "output_type": "stream",
     "text": [
      "Fitting 100 folds for each of 9 candidates, totalling 900 fits\n",
      "{'criterion': 'entropy', 'min_samples_split': 3}\n"
     ]
    }
   ],
   "source": [
    "from sklearn.tree import DecisionTreeClassifier\n",
    "\n",
    "parameters = {\n",
    "    'min_samples_split': range(2, 5),\n",
    "    'criterion': ['gini', 'entropy', 'log_loss'],\n",
    "}\n",
    "\n",
    "clf = DecisionTreeClassifier(random_state=seed)\n",
    "\n",
    "grid_search_tree = GridSearchCV(\n",
    "    estimator=clf,\n",
    "    param_grid=parameters,\n",
    "    n_jobs=-1,\n",
    "    cv = cv,\n",
    "    verbose=True\n",
    ").fit(train_df.drop(target_col, axis=1), train_df[target_col])\n",
    "\n",
    "print(grid_search_tree.best_params_)"
   ]
  },
  {
   "cell_type": "code",
   "execution_count": 127,
   "id": "0fbbd298",
   "metadata": {},
   "outputs": [
    {
     "name": "stdout",
     "output_type": "stream",
     "text": [
      "Best model accuracy on training: 0.8988449280913242\n",
      "Best model accuracy on test df: 0.9088845654993515\n"
     ]
    }
   ],
   "source": [
    "print(f\"Best model accuracy on training: {grid_search_tree.best_score_}\")\n",
    "\n",
    "tree_preds = grid_search_tree.predict(test_df.drop(target_col, axis=1))\n",
    "tree_acc = accuracy_score(test_df[target_col], tree_preds)\n",
    "\n",
    "model_res.append((\"Decision Tree\", tree_acc))\n",
    "\n",
    "print(f\"Best model accuracy on test df: {tree_acc}\")"
   ]
  },
  {
   "cell_type": "markdown",
   "id": "9423c177",
   "metadata": {},
   "source": [
    "#### Random Forest"
   ]
  },
  {
   "cell_type": "code",
   "execution_count": 129,
   "id": "8780519f",
   "metadata": {},
   "outputs": [
    {
     "name": "stdout",
     "output_type": "stream",
     "text": [
      "Fitting 100 folds for each of 80 candidates, totalling 8000 fits\n",
      "{'max_depth': 8, 'min_samples_leaf': 5, 'n_estimators': 10}\n"
     ]
    },
    {
     "data": {
      "application/javascript": [
       "$(document).ready(\n",
       "    function() {\n",
       "        function appendUniqueDiv(){\n",
       "            // append a div with our uuid so we can check that it's already\n",
       "            // been sent and avoid duplicates on page reload\n",
       "            var notifiedDiv = document.createElement(\"div\")\n",
       "            notifiedDiv.id = \"ceefae67-ca06-447e-bba4-8c8c62ab9b2b\"\n",
       "            element.append(notifiedDiv)\n",
       "        }\n",
       "\n",
       "        // only send notifications if the pageload is complete; this will\n",
       "        // help stop extra notifications when a saved notebook is loaded,\n",
       "        // which during testing gives us state \"interactive\", not \"complete\"\n",
       "        if (document.readyState === 'complete') {\n",
       "            // check for the div that signifies that the notification\n",
       "            // was already sent\n",
       "            if (document.getElementById(\"ceefae67-ca06-447e-bba4-8c8c62ab9b2b\") === null) {\n",
       "                var notificationPayload = {\"requireInteraction\": false, \"icon\": \"/static/base/images/favicon.ico\", \"body\": \"Cell Execution Has Finished!!\", \"autonotify_after\": \"30\", \"autonotify_output\": false};\n",
       "                if (Notification.permission !== 'denied') {\n",
       "                    if (Notification.permission !== 'granted') { \n",
       "                        Notification.requestPermission(function (permission) {\n",
       "                            if(!('permission' in Notification)) {\n",
       "                                Notification.permission = permission\n",
       "                            }\n",
       "                        })\n",
       "                    }\n",
       "                    if (Notification.permission === 'granted') {\n",
       "                    var notification = new Notification(\"Jupyter Notebook\", notificationPayload)\n",
       "                    appendUniqueDiv()\n",
       "                    notification.onclick = function () {\n",
       "                        window.focus();\n",
       "                        this.close();\n",
       "                        };\n",
       "                    } \n",
       "                }     \n",
       "            }\n",
       "        }\n",
       "    }\n",
       ")\n"
      ],
      "text/plain": [
       "<IPython.core.display.Javascript object>"
      ]
     },
     "metadata": {},
     "output_type": "display_data"
    },
    {
     "data": {
      "application/javascript": [
       "$(document).ready(\n",
       "    function() {\n",
       "        function appendUniqueDiv(){\n",
       "            // append a div with our uuid so we can check that it's already\n",
       "            // been sent and avoid duplicates on page reload\n",
       "            var notifiedDiv = document.createElement(\"div\")\n",
       "            notifiedDiv.id = \"ceefae67-ca06-447e-bba4-8c8c62ab9b2b\"\n",
       "            element.append(notifiedDiv)\n",
       "        }\n",
       "\n",
       "        // only send notifications if the pageload is complete; this will\n",
       "        // help stop extra notifications when a saved notebook is loaded,\n",
       "        // which during testing gives us state \"interactive\", not \"complete\"\n",
       "        if (document.readyState === 'complete') {\n",
       "            // check for the div that signifies that the notification\n",
       "            // was already sent\n",
       "            if (document.getElementById(\"ceefae67-ca06-447e-bba4-8c8c62ab9b2b\") === null) {\n",
       "                var notificationPayload = {\"requireInteraction\": false, \"icon\": \"/static/base/images/favicon.ico\", \"body\": \"Cell Execution Has Finished!!\", \"autonotify_after\": \"30\", \"autonotify_output\": false};\n",
       "                if (Notification.permission !== 'denied') {\n",
       "                    if (Notification.permission !== 'granted') { \n",
       "                        Notification.requestPermission(function (permission) {\n",
       "                            if(!('permission' in Notification)) {\n",
       "                                Notification.permission = permission\n",
       "                            }\n",
       "                        })\n",
       "                    }\n",
       "                    if (Notification.permission === 'granted') {\n",
       "                    var notification = new Notification(\"Jupyter Notebook\", notificationPayload)\n",
       "                    appendUniqueDiv()\n",
       "                    notification.onclick = function () {\n",
       "                        window.focus();\n",
       "                        this.close();\n",
       "                        };\n",
       "                    } \n",
       "                }     \n",
       "            }\n",
       "        }\n",
       "    }\n",
       ")\n"
      ],
      "text/plain": [
       "<IPython.core.display.Javascript object>"
      ]
     },
     "metadata": {},
     "output_type": "display_data"
    },
    {
     "data": {
      "application/javascript": [
       "$(document).ready(\n",
       "    function() {\n",
       "        function appendUniqueDiv(){\n",
       "            // append a div with our uuid so we can check that it's already\n",
       "            // been sent and avoid duplicates on page reload\n",
       "            var notifiedDiv = document.createElement(\"div\")\n",
       "            notifiedDiv.id = \"ceefae67-ca06-447e-bba4-8c8c62ab9b2b\"\n",
       "            element.append(notifiedDiv)\n",
       "        }\n",
       "\n",
       "        // only send notifications if the pageload is complete; this will\n",
       "        // help stop extra notifications when a saved notebook is loaded,\n",
       "        // which during testing gives us state \"interactive\", not \"complete\"\n",
       "        if (document.readyState === 'complete') {\n",
       "            // check for the div that signifies that the notification\n",
       "            // was already sent\n",
       "            if (document.getElementById(\"ceefae67-ca06-447e-bba4-8c8c62ab9b2b\") === null) {\n",
       "                var notificationPayload = {\"requireInteraction\": false, \"icon\": \"/static/base/images/favicon.ico\", \"body\": \"Cell Execution Has Finished!!\", \"autonotify_after\": \"30\", \"autonotify_output\": false};\n",
       "                if (Notification.permission !== 'denied') {\n",
       "                    if (Notification.permission !== 'granted') { \n",
       "                        Notification.requestPermission(function (permission) {\n",
       "                            if(!('permission' in Notification)) {\n",
       "                                Notification.permission = permission\n",
       "                            }\n",
       "                        })\n",
       "                    }\n",
       "                    if (Notification.permission === 'granted') {\n",
       "                    var notification = new Notification(\"Jupyter Notebook\", notificationPayload)\n",
       "                    appendUniqueDiv()\n",
       "                    notification.onclick = function () {\n",
       "                        window.focus();\n",
       "                        this.close();\n",
       "                        };\n",
       "                    } \n",
       "                }     \n",
       "            }\n",
       "        }\n",
       "    }\n",
       ")\n"
      ],
      "text/plain": [
       "<IPython.core.display.Javascript object>"
      ]
     },
     "metadata": {},
     "output_type": "display_data"
    }
   ],
   "source": [
    "from sklearn.ensemble import RandomForestClassifier\n",
    "\n",
    "rf = RandomForestClassifier(random_state=seed, n_jobs=-1)\n",
    "\n",
    "params = {\n",
    "    'max_depth': range(2, 10, 2),\n",
    "    'min_samples_leaf': range(5, 50, 10),\n",
    "    'n_estimators': range(10, 100, 25),\n",
    "}\n",
    "\n",
    "grid_search_rf = GridSearchCV(estimator=rf,\n",
    "                           param_grid=params,\n",
    "                           cv = cv,\n",
    "                           n_jobs=-1, \n",
    "                           verbose=1, \n",
    "                          ).fit(train_df.drop(target_col, axis=1), train_df[target_col])\n",
    "\n",
    "print(grid_search_rf.best_params_)"
   ]
  },
  {
   "cell_type": "code",
   "execution_count": 130,
   "id": "e96fb6a4",
   "metadata": {},
   "outputs": [
    {
     "name": "stdout",
     "output_type": "stream",
     "text": [
      "Best model accuracy on training: 0.9402075303241031\n",
      "Best model accuracy on test df: 0.940337224383917\n"
     ]
    }
   ],
   "source": [
    "print(f\"Best model accuracy on training: {grid_search_rf.best_score_}\")\n",
    "\n",
    "rf_preds = grid_search_rf.predict(test_df.drop(target_col, axis=1))\n",
    "rf_acc = accuracy_score(test_df[target_col], rf_preds)\n",
    "\n",
    "model_res.append((\"Random Forest\", rf_acc))\n",
    "\n",
    "print(f\"Best model accuracy on test df: {rf_acc}\")"
   ]
  },
  {
   "cell_type": "markdown",
   "id": "27d0749e",
   "metadata": {},
   "source": [
    "####  KNN"
   ]
  },
  {
   "cell_type": "code",
   "execution_count": 133,
   "id": "3442ea12",
   "metadata": {},
   "outputs": [
    {
     "name": "stdout",
     "output_type": "stream",
     "text": [
      "Fitting 100 folds for each of 10 candidates, totalling 1000 fits\n",
      "{'n_neighbors': 10, 'p': 1}\n"
     ]
    },
    {
     "data": {
      "application/javascript": [
       "$(document).ready(\n",
       "    function() {\n",
       "        function appendUniqueDiv(){\n",
       "            // append a div with our uuid so we can check that it's already\n",
       "            // been sent and avoid duplicates on page reload\n",
       "            var notifiedDiv = document.createElement(\"div\")\n",
       "            notifiedDiv.id = \"4c274f82-70fc-41ec-a780-107597baa4f0\"\n",
       "            element.append(notifiedDiv)\n",
       "        }\n",
       "\n",
       "        // only send notifications if the pageload is complete; this will\n",
       "        // help stop extra notifications when a saved notebook is loaded,\n",
       "        // which during testing gives us state \"interactive\", not \"complete\"\n",
       "        if (document.readyState === 'complete') {\n",
       "            // check for the div that signifies that the notification\n",
       "            // was already sent\n",
       "            if (document.getElementById(\"4c274f82-70fc-41ec-a780-107597baa4f0\") === null) {\n",
       "                var notificationPayload = {\"requireInteraction\": false, \"icon\": \"/static/base/images/favicon.ico\", \"body\": \"Cell Execution Has Finished!!\", \"autonotify_after\": \"30\", \"autonotify_output\": false};\n",
       "                if (Notification.permission !== 'denied') {\n",
       "                    if (Notification.permission !== 'granted') { \n",
       "                        Notification.requestPermission(function (permission) {\n",
       "                            if(!('permission' in Notification)) {\n",
       "                                Notification.permission = permission\n",
       "                            }\n",
       "                        })\n",
       "                    }\n",
       "                    if (Notification.permission === 'granted') {\n",
       "                    var notification = new Notification(\"Jupyter Notebook\", notificationPayload)\n",
       "                    appendUniqueDiv()\n",
       "                    notification.onclick = function () {\n",
       "                        window.focus();\n",
       "                        this.close();\n",
       "                        };\n",
       "                    } \n",
       "                }     \n",
       "            }\n",
       "        }\n",
       "    }\n",
       ")\n"
      ],
      "text/plain": [
       "<IPython.core.display.Javascript object>"
      ]
     },
     "metadata": {},
     "output_type": "display_data"
    },
    {
     "data": {
      "application/javascript": [
       "$(document).ready(\n",
       "    function() {\n",
       "        function appendUniqueDiv(){\n",
       "            // append a div with our uuid so we can check that it's already\n",
       "            // been sent and avoid duplicates on page reload\n",
       "            var notifiedDiv = document.createElement(\"div\")\n",
       "            notifiedDiv.id = \"4c274f82-70fc-41ec-a780-107597baa4f0\"\n",
       "            element.append(notifiedDiv)\n",
       "        }\n",
       "\n",
       "        // only send notifications if the pageload is complete; this will\n",
       "        // help stop extra notifications when a saved notebook is loaded,\n",
       "        // which during testing gives us state \"interactive\", not \"complete\"\n",
       "        if (document.readyState === 'complete') {\n",
       "            // check for the div that signifies that the notification\n",
       "            // was already sent\n",
       "            if (document.getElementById(\"4c274f82-70fc-41ec-a780-107597baa4f0\") === null) {\n",
       "                var notificationPayload = {\"requireInteraction\": false, \"icon\": \"/static/base/images/favicon.ico\", \"body\": \"Cell Execution Has Finished!!\", \"autonotify_after\": \"30\", \"autonotify_output\": false};\n",
       "                if (Notification.permission !== 'denied') {\n",
       "                    if (Notification.permission !== 'granted') { \n",
       "                        Notification.requestPermission(function (permission) {\n",
       "                            if(!('permission' in Notification)) {\n",
       "                                Notification.permission = permission\n",
       "                            }\n",
       "                        })\n",
       "                    }\n",
       "                    if (Notification.permission === 'granted') {\n",
       "                    var notification = new Notification(\"Jupyter Notebook\", notificationPayload)\n",
       "                    appendUniqueDiv()\n",
       "                    notification.onclick = function () {\n",
       "                        window.focus();\n",
       "                        this.close();\n",
       "                        };\n",
       "                    } \n",
       "                }     \n",
       "            }\n",
       "        }\n",
       "    }\n",
       ")\n"
      ],
      "text/plain": [
       "<IPython.core.display.Javascript object>"
      ]
     },
     "metadata": {},
     "output_type": "display_data"
    },
    {
     "data": {
      "application/javascript": [
       "$(document).ready(\n",
       "    function() {\n",
       "        function appendUniqueDiv(){\n",
       "            // append a div with our uuid so we can check that it's already\n",
       "            // been sent and avoid duplicates on page reload\n",
       "            var notifiedDiv = document.createElement(\"div\")\n",
       "            notifiedDiv.id = \"4c274f82-70fc-41ec-a780-107597baa4f0\"\n",
       "            element.append(notifiedDiv)\n",
       "        }\n",
       "\n",
       "        // only send notifications if the pageload is complete; this will\n",
       "        // help stop extra notifications when a saved notebook is loaded,\n",
       "        // which during testing gives us state \"interactive\", not \"complete\"\n",
       "        if (document.readyState === 'complete') {\n",
       "            // check for the div that signifies that the notification\n",
       "            // was already sent\n",
       "            if (document.getElementById(\"4c274f82-70fc-41ec-a780-107597baa4f0\") === null) {\n",
       "                var notificationPayload = {\"requireInteraction\": false, \"icon\": \"/static/base/images/favicon.ico\", \"body\": \"Cell Execution Has Finished!!\", \"autonotify_after\": \"30\", \"autonotify_output\": false};\n",
       "                if (Notification.permission !== 'denied') {\n",
       "                    if (Notification.permission !== 'granted') { \n",
       "                        Notification.requestPermission(function (permission) {\n",
       "                            if(!('permission' in Notification)) {\n",
       "                                Notification.permission = permission\n",
       "                            }\n",
       "                        })\n",
       "                    }\n",
       "                    if (Notification.permission === 'granted') {\n",
       "                    var notification = new Notification(\"Jupyter Notebook\", notificationPayload)\n",
       "                    appendUniqueDiv()\n",
       "                    notification.onclick = function () {\n",
       "                        window.focus();\n",
       "                        this.close();\n",
       "                        };\n",
       "                    } \n",
       "                }     \n",
       "            }\n",
       "        }\n",
       "    }\n",
       ")\n"
      ],
      "text/plain": [
       "<IPython.core.display.Javascript object>"
      ]
     },
     "metadata": {},
     "output_type": "display_data"
    }
   ],
   "source": [
    "from sklearn.neighbors import KNeighborsClassifier\n",
    "\n",
    "parameters = {\n",
    "    'n_neighbors': range(10, 100, 20),\n",
    "    'p': [1, 2],\n",
    "}\n",
    "\n",
    "clf = KNeighborsClassifier()\n",
    "\n",
    "# Instantiate the grid search model\n",
    "grid_search_knn = GridSearchCV(estimator=clf,\n",
    "                           param_grid=parameters,\n",
    "                           cv = cv,\n",
    "                           n_jobs=-1, \n",
    "                           verbose=1, \n",
    "                          ).fit(train_df.drop(target_col, axis=1), train_df[target_col])\n",
    "\n",
    "print(grid_search_knn.best_params_)"
   ]
  },
  {
   "cell_type": "code",
   "execution_count": 134,
   "id": "0ea87161",
   "metadata": {},
   "outputs": [
    {
     "name": "stdout",
     "output_type": "stream",
     "text": [
      "Best model accuracy on training: 0.940365603929733\n",
      "Best model accuracy on test df: 0.9400129701686122\n"
     ]
    }
   ],
   "source": [
    "print(f\"Best model accuracy on training: {grid_search_knn.best_score_}\")\n",
    "\n",
    "knn_preds = grid_search_knn.predict(test_df.drop(target_col, axis=1))\n",
    "knn_acc = accuracy_score(test_df[target_col], knn_preds)\n",
    "\n",
    "model_res.append((\"Random Forest\", knn_acc))\n",
    "\n",
    "print(f\"Best model accuracy on test df: {knn_acc}\")"
   ]
  },
  {
   "cell_type": "markdown",
   "id": "9b4d0d7e",
   "metadata": {},
   "source": [
    "####  Naive Bayes"
   ]
  },
  {
   "cell_type": "code",
   "execution_count": 136,
   "id": "cc72e53a",
   "metadata": {},
   "outputs": [
    {
     "data": {
      "text/html": [
       "<style>#sk-container-id-1 {color: black;background-color: white;}#sk-container-id-1 pre{padding: 0;}#sk-container-id-1 div.sk-toggleable {background-color: white;}#sk-container-id-1 label.sk-toggleable__label {cursor: pointer;display: block;width: 100%;margin-bottom: 0;padding: 0.3em;box-sizing: border-box;text-align: center;}#sk-container-id-1 label.sk-toggleable__label-arrow:before {content: \"▸\";float: left;margin-right: 0.25em;color: #696969;}#sk-container-id-1 label.sk-toggleable__label-arrow:hover:before {color: black;}#sk-container-id-1 div.sk-estimator:hover label.sk-toggleable__label-arrow:before {color: black;}#sk-container-id-1 div.sk-toggleable__content {max-height: 0;max-width: 0;overflow: hidden;text-align: left;background-color: #f0f8ff;}#sk-container-id-1 div.sk-toggleable__content pre {margin: 0.2em;color: black;border-radius: 0.25em;background-color: #f0f8ff;}#sk-container-id-1 input.sk-toggleable__control:checked~div.sk-toggleable__content {max-height: 200px;max-width: 100%;overflow: auto;}#sk-container-id-1 input.sk-toggleable__control:checked~label.sk-toggleable__label-arrow:before {content: \"▾\";}#sk-container-id-1 div.sk-estimator input.sk-toggleable__control:checked~label.sk-toggleable__label {background-color: #d4ebff;}#sk-container-id-1 div.sk-label input.sk-toggleable__control:checked~label.sk-toggleable__label {background-color: #d4ebff;}#sk-container-id-1 input.sk-hidden--visually {border: 0;clip: rect(1px 1px 1px 1px);clip: rect(1px, 1px, 1px, 1px);height: 1px;margin: -1px;overflow: hidden;padding: 0;position: absolute;width: 1px;}#sk-container-id-1 div.sk-estimator {font-family: monospace;background-color: #f0f8ff;border: 1px dotted black;border-radius: 0.25em;box-sizing: border-box;margin-bottom: 0.5em;}#sk-container-id-1 div.sk-estimator:hover {background-color: #d4ebff;}#sk-container-id-1 div.sk-parallel-item::after {content: \"\";width: 100%;border-bottom: 1px solid gray;flex-grow: 1;}#sk-container-id-1 div.sk-label:hover label.sk-toggleable__label {background-color: #d4ebff;}#sk-container-id-1 div.sk-serial::before {content: \"\";position: absolute;border-left: 1px solid gray;box-sizing: border-box;top: 0;bottom: 0;left: 50%;z-index: 0;}#sk-container-id-1 div.sk-serial {display: flex;flex-direction: column;align-items: center;background-color: white;padding-right: 0.2em;padding-left: 0.2em;position: relative;}#sk-container-id-1 div.sk-item {position: relative;z-index: 1;}#sk-container-id-1 div.sk-parallel {display: flex;align-items: stretch;justify-content: center;background-color: white;position: relative;}#sk-container-id-1 div.sk-item::before, #sk-container-id-1 div.sk-parallel-item::before {content: \"\";position: absolute;border-left: 1px solid gray;box-sizing: border-box;top: 0;bottom: 0;left: 50%;z-index: -1;}#sk-container-id-1 div.sk-parallel-item {display: flex;flex-direction: column;z-index: 1;position: relative;background-color: white;}#sk-container-id-1 div.sk-parallel-item:first-child::after {align-self: flex-end;width: 50%;}#sk-container-id-1 div.sk-parallel-item:last-child::after {align-self: flex-start;width: 50%;}#sk-container-id-1 div.sk-parallel-item:only-child::after {width: 0;}#sk-container-id-1 div.sk-dashed-wrapped {border: 1px dashed gray;margin: 0 0.4em 0.5em 0.4em;box-sizing: border-box;padding-bottom: 0.4em;background-color: white;}#sk-container-id-1 div.sk-label label {font-family: monospace;font-weight: bold;display: inline-block;line-height: 1.2em;}#sk-container-id-1 div.sk-label-container {text-align: center;}#sk-container-id-1 div.sk-container {/* jupyter's `normalize.less` sets `[hidden] { display: none; }` but bootstrap.min.css set `[hidden] { display: none !important; }` so we also need the `!important` here to be able to override the default hidden behavior on the sphinx rendered scikit-learn.org. See: https://github.com/scikit-learn/scikit-learn/issues/21755 */display: inline-block !important;position: relative;}#sk-container-id-1 div.sk-text-repr-fallback {display: none;}</style><div id=\"sk-container-id-1\" class=\"sk-top-container\"><div class=\"sk-text-repr-fallback\"><pre>GaussianNB()</pre><b>In a Jupyter environment, please rerun this cell to show the HTML representation or trust the notebook. <br />On GitHub, the HTML representation is unable to render, please try loading this page with nbviewer.org.</b></div><div class=\"sk-container\" hidden><div class=\"sk-item\"><div class=\"sk-estimator sk-toggleable\"><input class=\"sk-toggleable__control sk-hidden--visually\" id=\"sk-estimator-id-1\" type=\"checkbox\" checked><label for=\"sk-estimator-id-1\" class=\"sk-toggleable__label sk-toggleable__label-arrow\">GaussianNB</label><div class=\"sk-toggleable__content\"><pre>GaussianNB()</pre></div></div></div></div></div>"
      ],
      "text/plain": [
       "GaussianNB()"
      ]
     },
     "execution_count": 136,
     "metadata": {},
     "output_type": "execute_result"
    }
   ],
   "source": [
    "from sklearn.naive_bayes import GaussianNB\n",
    "\n",
    "clf = GaussianNB()\n",
    "\n",
    "# This classifier doesn't have many hyperparameters to tune, so we'll simply fit.\n",
    "\n",
    "clf.fit(train_df.drop(target_col, axis=1), train_df[target_col])"
   ]
  },
  {
   "cell_type": "code",
   "execution_count": 137,
   "id": "14e075fc",
   "metadata": {},
   "outputs": [
    {
     "name": "stdout",
     "output_type": "stream",
     "text": [
      "Best model accuracy on training: 0.7812905317769131\n",
      "Best model accuracy on test df: 0.7931258106355382\n"
     ]
    }
   ],
   "source": [
    "print(f\"Best model accuracy on training: {clf.score(train_df.drop(target_col, axis=1), train_df[target_col])}\")\n",
    "\n",
    "nb_preds = clf.predict(test_df.drop(target_col, axis=1))\n",
    "nb_acc = accuracy_score(test_df[target_col], nb_preds)\n",
    "\n",
    "model_res.append((\"Naive Bayes\", nb_acc))\n",
    "\n",
    "print(f\"Best model accuracy on test df: {nb_acc}\")"
   ]
  },
  {
   "cell_type": "code",
   "execution_count": 140,
   "id": "a6a357a5",
   "metadata": {},
   "outputs": [
    {
     "name": "stdout",
     "output_type": "stream",
     "text": [
      "╒═══════════════╤════════════╕\n",
      "│ Model         │   Accuracy │\n",
      "╞═══════════════╪════════════╡\n",
      "│ Random Forest │   0.940013 │\n",
      "├───────────────┼────────────┤\n",
      "│ Decision Tree │   0.908885 │\n",
      "├───────────────┼────────────┤\n",
      "│ Random Forest │   0.940337 │\n",
      "├───────────────┼────────────┤\n",
      "│ SVM           │   0.940013 │\n",
      "├───────────────┼────────────┤\n",
      "│ Naive Bayes   │   0.793126 │\n",
      "╘═══════════════╧════════════╛\n"
     ]
    }
   ],
   "source": [
    "# Display final table for model comparison\n",
    "\n",
    "print(tabulate(set(model_res), headers=column_names, tablefmt=\"fancy_grid\"))"
   ]
  },
  {
   "cell_type": "markdown",
   "id": "1df93e85",
   "metadata": {},
   "source": [
    "###  *Use stratified cross-validation to report your models' performance.*\n",
    "\n",
    "(Already implemented in the previous exercise sub-section)\n",
    "\n",
    "###  *Check whether this dataset is imbalanced or not, if yes, try some techniques to overcome this issue. (including over-sampling, under-sampling, weight-based approaches, etc.)*\n",
    "\n",
    "In the first sub-section (EDA), we discovered that there is a severe class imbalance. \n",
    "\n",
    "For this sub-section, we'll be using logistic regression and the optimal parameters from the previous sub-sections, which were:\n",
    "\n",
    "`{'max_iter': 50, 'penalty': 'l1', 'solver': 'liblinear'}`\n",
    "\n",
    "For the tasks outlines in this sub-section, I'll be using the [`imbalance-learn`](https://github.com/scikit-learn-contrib/imbalanced-learn) python library.\n",
    "\n",
    "#### Over-sampling approach"
   ]
  },
  {
   "cell_type": "code",
   "execution_count": 142,
   "id": "a1c3908b",
   "metadata": {},
   "outputs": [
    {
     "name": "stdout",
     "output_type": "stream",
     "text": [
      "Collecting imbalanced-learn\n",
      "  Downloading imbalanced_learn-0.10.1-py3-none-any.whl (226 kB)\n",
      "Requirement already satisfied: threadpoolctl>=2.0.0 in c:\\users\\saqi\\appdata\\local\\programs\\python\\python38\\lib\\site-packages (from imbalanced-learn) (3.1.0)\n",
      "Requirement already satisfied: scikit-learn>=1.0.2 in c:\\users\\saqi\\appdata\\local\\programs\\python\\python38\\lib\\site-packages (from imbalanced-learn) (1.2.1)\n",
      "Requirement already satisfied: joblib>=1.1.1 in c:\\users\\saqi\\appdata\\local\\programs\\python\\python38\\lib\\site-packages (from imbalanced-learn) (1.2.0)\n",
      "Requirement already satisfied: numpy>=1.17.3 in c:\\users\\saqi\\appdata\\local\\programs\\python\\python38\\lib\\site-packages (from imbalanced-learn) (1.24.2)\n",
      "Requirement already satisfied: scipy>=1.3.2 in c:\\users\\saqi\\appdata\\local\\programs\\python\\python38\\lib\\site-packages (from imbalanced-learn) (1.10.0)\n",
      "Installing collected packages: imbalanced-learn\n",
      "Successfully installed imbalanced-learn-0.10.1\n"
     ]
    },
    {
     "name": "stderr",
     "output_type": "stream",
     "text": [
      "  WARNING: Retrying (Retry(total=4, connect=None, read=None, redirect=None, status=None)) after connection broken by 'NewConnectionError('<pip._vendor.urllib3.connection.HTTPSConnection object at 0x0000021E8C67AE20>: Failed to establish a new connection: [WinError 10051] A socket operation was attempted to an unreachable network')': /packages/11/80/911e581a4fc973179e3a48c1272435aa09cce21c12af122c3886d3d35cb5/imbalanced_learn-0.10.1-py3-none-any.whl\n",
      "WARNING: You are using pip version 21.1.1; however, version 23.1.2 is available.\n",
      "You should consider upgrading via the 'c:\\users\\saqi\\appdata\\local\\programs\\python\\python38\\python.exe -m pip install --upgrade pip' command.\n"
     ]
    }
   ],
   "source": [
    "!pip install imbalanced-learn"
   ]
  },
  {
   "cell_type": "code",
   "execution_count": 150,
   "id": "009537c3",
   "metadata": {},
   "outputs": [
    {
     "name": "stderr",
     "output_type": "stream",
     "text": [
      "c:\\users\\saqi\\appdata\\local\\programs\\python\\python38\\lib\\site-packages\\sklearn\\svm\\_base.py:1244: ConvergenceWarning: Liblinear failed to converge, increase the number of iterations.\n",
      "  warnings.warn(\n"
     ]
    }
   ],
   "source": [
    "from imblearn.over_sampling import RandomOverSampler\n",
    "\n",
    "lr_params = {'max_iter': 50, 'penalty': 'l1', 'solver': 'liblinear'}\n",
    "\n",
    "# define oversampling strategy\n",
    "oversample = RandomOverSampler(sampling_strategy='minority')\n",
    "\n",
    "# Fix data via oversampling\n",
    "X_over, y_over = oversample.fit_resample(df.drop(target_col, axis=1), df[target_col])\n",
    "\n",
    "# Divide the data into train/test splits\n",
    "# Leaving 20% aside for final accuracy measurements\n",
    "train_df_over, test_df_over, train_target_over, test_target_over = train_test_split(X_over, y_over, test_size=0.2, random_state=seed)\n",
    "\n",
    "# Train logistic regression model\n",
    "log_clf = LogisticRegression(random_state=seed, **lr_params).fit(train_df_over, train_target_over)"
   ]
  },
  {
   "cell_type": "code",
   "execution_count": 151,
   "id": "d32c1881",
   "metadata": {},
   "outputs": [
    {
     "name": "stdout",
     "output_type": "stream",
     "text": [
      "Accuracy after tuning data with oversampling: 0.7597861700293154\n"
     ]
    }
   ],
   "source": [
    "pred = log_clf.predict(test_df_over)\n",
    "over_acc = accuracy_score(test_target_over, pred)\n",
    "\n",
    "\n",
    "print(f\"Accuracy after tuning data with oversampling: {over_acc}\")"
   ]
  },
  {
   "cell_type": "markdown",
   "id": "c15e043b",
   "metadata": {},
   "source": [
    "#### Under-sampling approach"
   ]
  },
  {
   "cell_type": "code",
   "execution_count": 153,
   "id": "44c30e28",
   "metadata": {},
   "outputs": [
    {
     "name": "stderr",
     "output_type": "stream",
     "text": [
      "c:\\users\\saqi\\appdata\\local\\programs\\python\\python38\\lib\\site-packages\\sklearn\\svm\\_base.py:1244: ConvergenceWarning: Liblinear failed to converge, increase the number of iterations.\n",
      "  warnings.warn(\n"
     ]
    }
   ],
   "source": [
    "from imblearn.under_sampling import RandomUnderSampler\n",
    "\n",
    "# define undersample strategy\n",
    "undersample = RandomUnderSampler(sampling_strategy='majority')\n",
    "\n",
    "# Fix data via undersampling\n",
    "X_under, y_under = undersample.fit_resample(df.drop(target_col, axis=1), df[target_col])\n",
    "\n",
    "# Divide the data into train/test splits\n",
    "# Leaving 20% aside for final accuracy measurements\n",
    "train_df_under, test_df_under, train_target_under, test_target_under = train_test_split(X_under, y_under, test_size=0.2, random_state=seed)\n",
    "\n",
    "# Train logistic regression model\n",
    "log_clf = LogisticRegression(random_state=seed, **lr_params, ).fit(train_df.drop(target_col, axis=1), train_df[target_col])"
   ]
  },
  {
   "cell_type": "code",
   "execution_count": 154,
   "id": "2a0b96c8",
   "metadata": {},
   "outputs": [
    {
     "name": "stdout",
     "output_type": "stream",
     "text": [
      "Accuracy after tuning data with undersampling: 0.772972972972973\n"
     ]
    }
   ],
   "source": [
    "pred = log_clf.predict(test_df_under)\n",
    "under_acc = accuracy_score(test_target_under, pred)\n",
    "\n",
    "print(f\"Accuracy after tuning data with undersampling: {under_acc}\")"
   ]
  },
  {
   "cell_type": "markdown",
   "id": "e22b037f",
   "metadata": {},
   "source": [
    "#### Weight-based approach\n",
    "\n",
    "Thankfully, sklearn's Logistic Regression Classifier has a parameter `class_weight` that takes class frequencies into account. This parameter defaults to `None`, however by setting this parameter to `'balanced'`, sklearn will automatically implement a weight-based approach for evening out the class imabalance. "
   ]
  },
  {
   "cell_type": "code",
   "execution_count": 158,
   "id": "86bea1f7",
   "metadata": {},
   "outputs": [
    {
     "name": "stderr",
     "output_type": "stream",
     "text": [
      "c:\\users\\saqi\\appdata\\local\\programs\\python\\python38\\lib\\site-packages\\sklearn\\linear_model\\_logistic.py:458: ConvergenceWarning: lbfgs failed to converge (status=1):\n",
      "STOP: TOTAL NO. of ITERATIONS REACHED LIMIT.\n",
      "\n",
      "Increase the number of iterations (max_iter) or scale the data as shown in:\n",
      "    https://scikit-learn.org/stable/modules/preprocessing.html\n",
      "Please also refer to the documentation for alternative solver options:\n",
      "    https://scikit-learn.org/stable/modules/linear_model.html#logistic-regression\n",
      "  n_iter_i = _check_optimize_result(\n"
     ]
    }
   ],
   "source": [
    "log_clf = LogisticRegression(random_state=seed, **lr_params, class_weight='balanced').fit(train_df.drop(target_col, axis=1), train_df[target_col])"
   ]
  },
  {
   "cell_type": "code",
   "execution_count": 160,
   "id": "22f7cb91",
   "metadata": {},
   "outputs": [
    {
     "name": "stdout",
     "output_type": "stream",
     "text": [
      "Accuracy after tuning data with undersampling: 0.6511024643320363\n"
     ]
    }
   ],
   "source": [
    "pred = log_clf.predict(test_df.drop(target_col, axis=1))\n",
    "weighted_acc = accuracy_score(test_df[target_col], pred)\n",
    "\n",
    "print(f\"Accuracy after tuning data with undersampling: {weighted_acc}\")"
   ]
  },
  {
   "cell_type": "markdown",
   "id": "a795520c",
   "metadata": {},
   "source": [
    "### Try to boost the performance of the SVM and Random Forest models that you have used in the above section by utilizing various methods (including hyperparameter tuning, different preprocessing methods, feature engineering, etc.). Don’t limit yourself only to the aforementioned methods, based on the quality of your work, extra scores may be granted.\n",
    "\n",
    "- Feature engineering was already done by altering the policy features\n",
    "- Hyperparameter tuning was already done with grid search\n",
    "- Cross validation was already implemented\n",
    "\n",
    "[Back to top](#top)"
   ]
  }
 ],
 "metadata": {
  "kernelspec": {
   "display_name": "Python 3 (ipykernel)",
   "language": "python",
   "name": "python3"
  },
  "language_info": {
   "codemirror_mode": {
    "name": "ipython",
    "version": 3
   },
   "file_extension": ".py",
   "mimetype": "text/x-python",
   "name": "python",
   "nbconvert_exporter": "python",
   "pygments_lexer": "ipython3",
   "version": "3.8.10"
  }
 },
 "nbformat": 4,
 "nbformat_minor": 5
}
